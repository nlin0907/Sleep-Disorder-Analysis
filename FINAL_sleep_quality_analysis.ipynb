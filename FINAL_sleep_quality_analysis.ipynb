{
 "cells": [
  {
   "cell_type": "code",
   "execution_count": 1,
   "id": "13468ae6",
   "metadata": {},
   "outputs": [],
   "source": [
    "import warnings\n",
    "warnings.filterwarnings('ignore')\n",
    "import numpy as np\n",
    "import pandas as pd\n",
    "import matplotlib.pyplot as plt\n",
    "import seaborn as sns\n",
    "import time\n",
    "import math\n",
    "from sklearn.preprocessing import StandardScaler, LabelEncoder\n",
    "from sklearn.model_selection import train_test_split, GridSearchCV\n",
    "from imblearn.over_sampling import RandomOverSampler, SMOTE\n",
    "from sklearn.neighbors import KNeighborsClassifier\n",
    "from sklearn.tree import DecisionTreeClassifier\n",
    "from sklearn.ensemble import RandomForestClassifier\n",
    "from sklearn.svm import SVC\n",
    "from sklearn.linear_model import LogisticRegression\n",
    "from xgboost import XGBClassifier, plot_importance\n",
    "from sklearn.metrics import accuracy_score, precision_score, recall_score, f1_score, roc_auc_score, average_precision_score, confusion_matrix, classification_report, make_scorer"
   ]
  },
  {
   "cell_type": "code",
   "execution_count": 2,
   "id": "95ce9bca",
   "metadata": {},
   "outputs": [],
   "source": [
    "df = pd.read_csv('../Data/daily_fitbit_sema_df_unprocessed.csv')"
   ]
  },
  {
   "cell_type": "code",
   "execution_count": 3,
   "id": "ccfbf70c",
   "metadata": {},
   "outputs": [
    {
     "data": {
      "text/html": [
       "<div>\n",
       "<style scoped>\n",
       "    .dataframe tbody tr th:only-of-type {\n",
       "        vertical-align: middle;\n",
       "    }\n",
       "\n",
       "    .dataframe tbody tr th {\n",
       "        vertical-align: top;\n",
       "    }\n",
       "\n",
       "    .dataframe thead th {\n",
       "        text-align: right;\n",
       "    }\n",
       "</style>\n",
       "<table border=\"1\" class=\"dataframe\">\n",
       "  <thead>\n",
       "    <tr style=\"text-align: right;\">\n",
       "      <th></th>\n",
       "      <th>Unnamed: 0</th>\n",
       "      <th>id</th>\n",
       "      <th>date</th>\n",
       "      <th>nightly_temperature</th>\n",
       "      <th>nremhr</th>\n",
       "      <th>rmssd</th>\n",
       "      <th>spo2</th>\n",
       "      <th>full_sleep_breathing_rate</th>\n",
       "      <th>stress_score</th>\n",
       "      <th>sleep_points_percentage</th>\n",
       "      <th>...</th>\n",
       "      <th>TENSE/ANXIOUS</th>\n",
       "      <th>TIRED</th>\n",
       "      <th>ENTERTAINMENT</th>\n",
       "      <th>GYM</th>\n",
       "      <th>HOME</th>\n",
       "      <th>HOME_OFFICE</th>\n",
       "      <th>OTHER</th>\n",
       "      <th>OUTDOORS</th>\n",
       "      <th>TRANSIT</th>\n",
       "      <th>WORK/SCHOOL</th>\n",
       "    </tr>\n",
       "  </thead>\n",
       "  <tbody>\n",
       "    <tr>\n",
       "      <th>0</th>\n",
       "      <td>0</td>\n",
       "      <td>621e2e8e67b776a24055b564</td>\n",
       "      <td>5/24/21</td>\n",
       "      <td>34.137687</td>\n",
       "      <td>57.432</td>\n",
       "      <td>89.603</td>\n",
       "      <td>NaN</td>\n",
       "      <td>14.8</td>\n",
       "      <td>78.0</td>\n",
       "      <td>0.833333</td>\n",
       "      <td>...</td>\n",
       "      <td>NaN</td>\n",
       "      <td>NaN</td>\n",
       "      <td>NaN</td>\n",
       "      <td>NaN</td>\n",
       "      <td>NaN</td>\n",
       "      <td>NaN</td>\n",
       "      <td>NaN</td>\n",
       "      <td>NaN</td>\n",
       "      <td>NaN</td>\n",
       "      <td>NaN</td>\n",
       "    </tr>\n",
       "    <tr>\n",
       "      <th>1</th>\n",
       "      <td>1</td>\n",
       "      <td>621e2e8e67b776a24055b564</td>\n",
       "      <td>5/25/21</td>\n",
       "      <td>33.794544</td>\n",
       "      <td>57.681</td>\n",
       "      <td>94.303</td>\n",
       "      <td>NaN</td>\n",
       "      <td>15.8</td>\n",
       "      <td>80.0</td>\n",
       "      <td>0.833333</td>\n",
       "      <td>...</td>\n",
       "      <td>0.0</td>\n",
       "      <td>1.0</td>\n",
       "      <td>0.0</td>\n",
       "      <td>0.0</td>\n",
       "      <td>0.0</td>\n",
       "      <td>0.0</td>\n",
       "      <td>0.0</td>\n",
       "      <td>1.0</td>\n",
       "      <td>0.0</td>\n",
       "      <td>1.0</td>\n",
       "    </tr>\n",
       "    <tr>\n",
       "      <th>2</th>\n",
       "      <td>2</td>\n",
       "      <td>621e2e8e67b776a24055b564</td>\n",
       "      <td>5/26/21</td>\n",
       "      <td>34.611011</td>\n",
       "      <td>57.481</td>\n",
       "      <td>119.212</td>\n",
       "      <td>NaN</td>\n",
       "      <td>14.6</td>\n",
       "      <td>84.0</td>\n",
       "      <td>0.966667</td>\n",
       "      <td>...</td>\n",
       "      <td>0.0</td>\n",
       "      <td>0.0</td>\n",
       "      <td>0.0</td>\n",
       "      <td>0.0</td>\n",
       "      <td>0.0</td>\n",
       "      <td>0.0</td>\n",
       "      <td>0.0</td>\n",
       "      <td>1.0</td>\n",
       "      <td>0.0</td>\n",
       "      <td>0.0</td>\n",
       "    </tr>\n",
       "    <tr>\n",
       "      <th>3</th>\n",
       "      <td>3</td>\n",
       "      <td>621e2e8e67b776a24055b564</td>\n",
       "      <td>5/27/21</td>\n",
       "      <td>34.408304</td>\n",
       "      <td>57.493</td>\n",
       "      <td>111.709</td>\n",
       "      <td>NaN</td>\n",
       "      <td>14.8</td>\n",
       "      <td>82.0</td>\n",
       "      <td>0.933333</td>\n",
       "      <td>...</td>\n",
       "      <td>0.0</td>\n",
       "      <td>0.0</td>\n",
       "      <td>0.0</td>\n",
       "      <td>0.0</td>\n",
       "      <td>1.0</td>\n",
       "      <td>0.0</td>\n",
       "      <td>0.0</td>\n",
       "      <td>1.0</td>\n",
       "      <td>0.0</td>\n",
       "      <td>1.0</td>\n",
       "    </tr>\n",
       "    <tr>\n",
       "      <th>4</th>\n",
       "      <td>4</td>\n",
       "      <td>621e2e8e67b776a24055b564</td>\n",
       "      <td>5/28/21</td>\n",
       "      <td>34.178922</td>\n",
       "      <td>56.750</td>\n",
       "      <td>103.034</td>\n",
       "      <td>NaN</td>\n",
       "      <td>15.2</td>\n",
       "      <td>81.0</td>\n",
       "      <td>0.866667</td>\n",
       "      <td>...</td>\n",
       "      <td>0.0</td>\n",
       "      <td>0.0</td>\n",
       "      <td>0.0</td>\n",
       "      <td>0.0</td>\n",
       "      <td>0.0</td>\n",
       "      <td>0.0</td>\n",
       "      <td>0.0</td>\n",
       "      <td>1.0</td>\n",
       "      <td>0.0</td>\n",
       "      <td>0.0</td>\n",
       "    </tr>\n",
       "    <tr>\n",
       "      <th>...</th>\n",
       "      <td>...</td>\n",
       "      <td>...</td>\n",
       "      <td>...</td>\n",
       "      <td>...</td>\n",
       "      <td>...</td>\n",
       "      <td>...</td>\n",
       "      <td>...</td>\n",
       "      <td>...</td>\n",
       "      <td>...</td>\n",
       "      <td>...</td>\n",
       "      <td>...</td>\n",
       "      <td>...</td>\n",
       "      <td>...</td>\n",
       "      <td>...</td>\n",
       "      <td>...</td>\n",
       "      <td>...</td>\n",
       "      <td>...</td>\n",
       "      <td>...</td>\n",
       "      <td>...</td>\n",
       "      <td>...</td>\n",
       "      <td>...</td>\n",
       "    </tr>\n",
       "    <tr>\n",
       "      <th>7405</th>\n",
       "      <td>7405</td>\n",
       "      <td>621e362467b776a2404ad513</td>\n",
       "      <td>5/18/21</td>\n",
       "      <td>NaN</td>\n",
       "      <td>NaN</td>\n",
       "      <td>NaN</td>\n",
       "      <td>NaN</td>\n",
       "      <td>NaN</td>\n",
       "      <td>NaN</td>\n",
       "      <td>NaN</td>\n",
       "      <td>...</td>\n",
       "      <td>0.0</td>\n",
       "      <td>0.0</td>\n",
       "      <td>0.0</td>\n",
       "      <td>0.0</td>\n",
       "      <td>1.0</td>\n",
       "      <td>0.0</td>\n",
       "      <td>0.0</td>\n",
       "      <td>0.0</td>\n",
       "      <td>0.0</td>\n",
       "      <td>0.0</td>\n",
       "    </tr>\n",
       "    <tr>\n",
       "      <th>7406</th>\n",
       "      <td>7406</td>\n",
       "      <td>621e36f967b776a240e5e7c9</td>\n",
       "      <td>5/20/21</td>\n",
       "      <td>NaN</td>\n",
       "      <td>NaN</td>\n",
       "      <td>NaN</td>\n",
       "      <td>NaN</td>\n",
       "      <td>NaN</td>\n",
       "      <td>NaN</td>\n",
       "      <td>NaN</td>\n",
       "      <td>...</td>\n",
       "      <td>0.0</td>\n",
       "      <td>1.0</td>\n",
       "      <td>0.0</td>\n",
       "      <td>0.0</td>\n",
       "      <td>1.0</td>\n",
       "      <td>0.0</td>\n",
       "      <td>0.0</td>\n",
       "      <td>0.0</td>\n",
       "      <td>0.0</td>\n",
       "      <td>1.0</td>\n",
       "    </tr>\n",
       "    <tr>\n",
       "      <th>7407</th>\n",
       "      <td>7407</td>\n",
       "      <td>621e362467b776a2404ad513</td>\n",
       "      <td>5/23/21</td>\n",
       "      <td>NaN</td>\n",
       "      <td>NaN</td>\n",
       "      <td>NaN</td>\n",
       "      <td>NaN</td>\n",
       "      <td>NaN</td>\n",
       "      <td>NaN</td>\n",
       "      <td>NaN</td>\n",
       "      <td>...</td>\n",
       "      <td>0.0</td>\n",
       "      <td>0.0</td>\n",
       "      <td>0.0</td>\n",
       "      <td>0.0</td>\n",
       "      <td>0.0</td>\n",
       "      <td>0.0</td>\n",
       "      <td>0.0</td>\n",
       "      <td>0.0</td>\n",
       "      <td>1.0</td>\n",
       "      <td>0.0</td>\n",
       "    </tr>\n",
       "    <tr>\n",
       "      <th>7408</th>\n",
       "      <td>7408</td>\n",
       "      <td>621e339967b776a240e502de</td>\n",
       "      <td>11/19/21</td>\n",
       "      <td>NaN</td>\n",
       "      <td>NaN</td>\n",
       "      <td>NaN</td>\n",
       "      <td>NaN</td>\n",
       "      <td>NaN</td>\n",
       "      <td>NaN</td>\n",
       "      <td>NaN</td>\n",
       "      <td>...</td>\n",
       "      <td>0.0</td>\n",
       "      <td>0.0</td>\n",
       "      <td>0.0</td>\n",
       "      <td>0.0</td>\n",
       "      <td>1.0</td>\n",
       "      <td>0.0</td>\n",
       "      <td>0.0</td>\n",
       "      <td>0.0</td>\n",
       "      <td>0.0</td>\n",
       "      <td>0.0</td>\n",
       "    </tr>\n",
       "    <tr>\n",
       "      <th>7409</th>\n",
       "      <td>7409</td>\n",
       "      <td>621e339967b776a240e502de</td>\n",
       "      <td>11/20/21</td>\n",
       "      <td>NaN</td>\n",
       "      <td>NaN</td>\n",
       "      <td>NaN</td>\n",
       "      <td>NaN</td>\n",
       "      <td>NaN</td>\n",
       "      <td>NaN</td>\n",
       "      <td>NaN</td>\n",
       "      <td>...</td>\n",
       "      <td>0.0</td>\n",
       "      <td>0.0</td>\n",
       "      <td>0.0</td>\n",
       "      <td>0.0</td>\n",
       "      <td>1.0</td>\n",
       "      <td>0.0</td>\n",
       "      <td>0.0</td>\n",
       "      <td>0.0</td>\n",
       "      <td>0.0</td>\n",
       "      <td>0.0</td>\n",
       "    </tr>\n",
       "  </tbody>\n",
       "</table>\n",
       "<p>7410 rows × 63 columns</p>\n",
       "</div>"
      ],
      "text/plain": [
       "      Unnamed: 0                        id      date  nightly_temperature  \\\n",
       "0              0  621e2e8e67b776a24055b564   5/24/21            34.137687   \n",
       "1              1  621e2e8e67b776a24055b564   5/25/21            33.794544   \n",
       "2              2  621e2e8e67b776a24055b564   5/26/21            34.611011   \n",
       "3              3  621e2e8e67b776a24055b564   5/27/21            34.408304   \n",
       "4              4  621e2e8e67b776a24055b564   5/28/21            34.178922   \n",
       "...          ...                       ...       ...                  ...   \n",
       "7405        7405  621e362467b776a2404ad513   5/18/21                  NaN   \n",
       "7406        7406  621e36f967b776a240e5e7c9   5/20/21                  NaN   \n",
       "7407        7407  621e362467b776a2404ad513   5/23/21                  NaN   \n",
       "7408        7408  621e339967b776a240e502de  11/19/21                  NaN   \n",
       "7409        7409  621e339967b776a240e502de  11/20/21                  NaN   \n",
       "\n",
       "      nremhr    rmssd  spo2  full_sleep_breathing_rate  stress_score  \\\n",
       "0     57.432   89.603   NaN                       14.8          78.0   \n",
       "1     57.681   94.303   NaN                       15.8          80.0   \n",
       "2     57.481  119.212   NaN                       14.6          84.0   \n",
       "3     57.493  111.709   NaN                       14.8          82.0   \n",
       "4     56.750  103.034   NaN                       15.2          81.0   \n",
       "...      ...      ...   ...                        ...           ...   \n",
       "7405     NaN      NaN   NaN                        NaN           NaN   \n",
       "7406     NaN      NaN   NaN                        NaN           NaN   \n",
       "7407     NaN      NaN   NaN                        NaN           NaN   \n",
       "7408     NaN      NaN   NaN                        NaN           NaN   \n",
       "7409     NaN      NaN   NaN                        NaN           NaN   \n",
       "\n",
       "      sleep_points_percentage  ...  TENSE/ANXIOUS  TIRED  ENTERTAINMENT  GYM  \\\n",
       "0                    0.833333  ...            NaN    NaN            NaN  NaN   \n",
       "1                    0.833333  ...            0.0    1.0            0.0  0.0   \n",
       "2                    0.966667  ...            0.0    0.0            0.0  0.0   \n",
       "3                    0.933333  ...            0.0    0.0            0.0  0.0   \n",
       "4                    0.866667  ...            0.0    0.0            0.0  0.0   \n",
       "...                       ...  ...            ...    ...            ...  ...   \n",
       "7405                      NaN  ...            0.0    0.0            0.0  0.0   \n",
       "7406                      NaN  ...            0.0    1.0            0.0  0.0   \n",
       "7407                      NaN  ...            0.0    0.0            0.0  0.0   \n",
       "7408                      NaN  ...            0.0    0.0            0.0  0.0   \n",
       "7409                      NaN  ...            0.0    0.0            0.0  0.0   \n",
       "\n",
       "      HOME  HOME_OFFICE  OTHER OUTDOORS  TRANSIT  WORK/SCHOOL  \n",
       "0      NaN          NaN    NaN      NaN      NaN          NaN  \n",
       "1      0.0          0.0    0.0      1.0      0.0          1.0  \n",
       "2      0.0          0.0    0.0      1.0      0.0          0.0  \n",
       "3      1.0          0.0    0.0      1.0      0.0          1.0  \n",
       "4      0.0          0.0    0.0      1.0      0.0          0.0  \n",
       "...    ...          ...    ...      ...      ...          ...  \n",
       "7405   1.0          0.0    0.0      0.0      0.0          0.0  \n",
       "7406   1.0          0.0    0.0      0.0      0.0          1.0  \n",
       "7407   0.0          0.0    0.0      0.0      1.0          0.0  \n",
       "7408   1.0          0.0    0.0      0.0      0.0          0.0  \n",
       "7409   1.0          0.0    0.0      0.0      0.0          0.0  \n",
       "\n",
       "[7410 rows x 63 columns]"
      ]
     },
     "execution_count": 3,
     "metadata": {},
     "output_type": "execute_result"
    }
   ],
   "source": [
    "df"
   ]
  },
  {
   "cell_type": "code",
   "execution_count": 4,
   "id": "fe461efa",
   "metadata": {},
   "outputs": [
    {
     "data": {
      "text/html": [
       "<div>\n",
       "<style scoped>\n",
       "    .dataframe tbody tr th:only-of-type {\n",
       "        vertical-align: middle;\n",
       "    }\n",
       "\n",
       "    .dataframe tbody tr th {\n",
       "        vertical-align: top;\n",
       "    }\n",
       "\n",
       "    .dataframe thead th {\n",
       "        text-align: right;\n",
       "    }\n",
       "</style>\n",
       "<table border=\"1\" class=\"dataframe\">\n",
       "  <thead>\n",
       "    <tr style=\"text-align: right;\">\n",
       "      <th></th>\n",
       "      <th>calories</th>\n",
       "      <th>distance</th>\n",
       "      <th>steps</th>\n",
       "      <th>age</th>\n",
       "      <th>stress_score</th>\n",
       "      <th>lightly_active_minutes</th>\n",
       "      <th>moderately_active_minutes</th>\n",
       "      <th>very_active_minutes</th>\n",
       "      <th>sedentary_minutes</th>\n",
       "      <th>gender</th>\n",
       "      <th>bmi</th>\n",
       "      <th>sleep_points_percentage</th>\n",
       "    </tr>\n",
       "  </thead>\n",
       "  <tbody>\n",
       "    <tr>\n",
       "      <th>0</th>\n",
       "      <td>2351.59</td>\n",
       "      <td>6517.5</td>\n",
       "      <td>8833.0</td>\n",
       "      <td>&lt;30</td>\n",
       "      <td>78.0</td>\n",
       "      <td>149.0</td>\n",
       "      <td>24.0</td>\n",
       "      <td>33.0</td>\n",
       "      <td>713.0</td>\n",
       "      <td>MALE</td>\n",
       "      <td>&lt;19</td>\n",
       "      <td>0.833333</td>\n",
       "    </tr>\n",
       "    <tr>\n",
       "      <th>1</th>\n",
       "      <td>2332.08</td>\n",
       "      <td>7178.6</td>\n",
       "      <td>9727.0</td>\n",
       "      <td>&lt;30</td>\n",
       "      <td>80.0</td>\n",
       "      <td>132.0</td>\n",
       "      <td>25.0</td>\n",
       "      <td>31.0</td>\n",
       "      <td>704.0</td>\n",
       "      <td>MALE</td>\n",
       "      <td>&lt;19</td>\n",
       "      <td>0.833333</td>\n",
       "    </tr>\n",
       "    <tr>\n",
       "      <th>2</th>\n",
       "      <td>2262.30</td>\n",
       "      <td>6090.9</td>\n",
       "      <td>8253.0</td>\n",
       "      <td>&lt;30</td>\n",
       "      <td>84.0</td>\n",
       "      <td>112.0</td>\n",
       "      <td>27.0</td>\n",
       "      <td>31.0</td>\n",
       "      <td>710.0</td>\n",
       "      <td>MALE</td>\n",
       "      <td>&lt;19</td>\n",
       "      <td>0.966667</td>\n",
       "    </tr>\n",
       "    <tr>\n",
       "      <th>3</th>\n",
       "      <td>2325.10</td>\n",
       "      <td>6653.1</td>\n",
       "      <td>9015.0</td>\n",
       "      <td>&lt;30</td>\n",
       "      <td>82.0</td>\n",
       "      <td>133.0</td>\n",
       "      <td>21.0</td>\n",
       "      <td>37.0</td>\n",
       "      <td>622.0</td>\n",
       "      <td>MALE</td>\n",
       "      <td>&lt;19</td>\n",
       "      <td>0.933333</td>\n",
       "    </tr>\n",
       "    <tr>\n",
       "      <th>4</th>\n",
       "      <td>2586.76</td>\n",
       "      <td>9557.9</td>\n",
       "      <td>12949.0</td>\n",
       "      <td>&lt;30</td>\n",
       "      <td>81.0</td>\n",
       "      <td>136.0</td>\n",
       "      <td>42.0</td>\n",
       "      <td>54.0</td>\n",
       "      <td>647.0</td>\n",
       "      <td>MALE</td>\n",
       "      <td>&lt;19</td>\n",
       "      <td>0.866667</td>\n",
       "    </tr>\n",
       "    <tr>\n",
       "      <th>...</th>\n",
       "      <td>...</td>\n",
       "      <td>...</td>\n",
       "      <td>...</td>\n",
       "      <td>...</td>\n",
       "      <td>...</td>\n",
       "      <td>...</td>\n",
       "      <td>...</td>\n",
       "      <td>...</td>\n",
       "      <td>...</td>\n",
       "      <td>...</td>\n",
       "      <td>...</td>\n",
       "      <td>...</td>\n",
       "    </tr>\n",
       "    <tr>\n",
       "      <th>7405</th>\n",
       "      <td>NaN</td>\n",
       "      <td>NaN</td>\n",
       "      <td>NaN</td>\n",
       "      <td>NaN</td>\n",
       "      <td>NaN</td>\n",
       "      <td>NaN</td>\n",
       "      <td>NaN</td>\n",
       "      <td>NaN</td>\n",
       "      <td>NaN</td>\n",
       "      <td>NaN</td>\n",
       "      <td>NaN</td>\n",
       "      <td>NaN</td>\n",
       "    </tr>\n",
       "    <tr>\n",
       "      <th>7406</th>\n",
       "      <td>NaN</td>\n",
       "      <td>NaN</td>\n",
       "      <td>NaN</td>\n",
       "      <td>NaN</td>\n",
       "      <td>NaN</td>\n",
       "      <td>NaN</td>\n",
       "      <td>NaN</td>\n",
       "      <td>NaN</td>\n",
       "      <td>NaN</td>\n",
       "      <td>NaN</td>\n",
       "      <td>NaN</td>\n",
       "      <td>NaN</td>\n",
       "    </tr>\n",
       "    <tr>\n",
       "      <th>7407</th>\n",
       "      <td>NaN</td>\n",
       "      <td>NaN</td>\n",
       "      <td>NaN</td>\n",
       "      <td>NaN</td>\n",
       "      <td>NaN</td>\n",
       "      <td>NaN</td>\n",
       "      <td>NaN</td>\n",
       "      <td>NaN</td>\n",
       "      <td>NaN</td>\n",
       "      <td>NaN</td>\n",
       "      <td>NaN</td>\n",
       "      <td>NaN</td>\n",
       "    </tr>\n",
       "    <tr>\n",
       "      <th>7408</th>\n",
       "      <td>NaN</td>\n",
       "      <td>NaN</td>\n",
       "      <td>NaN</td>\n",
       "      <td>NaN</td>\n",
       "      <td>NaN</td>\n",
       "      <td>NaN</td>\n",
       "      <td>NaN</td>\n",
       "      <td>NaN</td>\n",
       "      <td>NaN</td>\n",
       "      <td>NaN</td>\n",
       "      <td>NaN</td>\n",
       "      <td>NaN</td>\n",
       "    </tr>\n",
       "    <tr>\n",
       "      <th>7409</th>\n",
       "      <td>NaN</td>\n",
       "      <td>NaN</td>\n",
       "      <td>NaN</td>\n",
       "      <td>NaN</td>\n",
       "      <td>NaN</td>\n",
       "      <td>NaN</td>\n",
       "      <td>NaN</td>\n",
       "      <td>NaN</td>\n",
       "      <td>NaN</td>\n",
       "      <td>NaN</td>\n",
       "      <td>NaN</td>\n",
       "      <td>NaN</td>\n",
       "    </tr>\n",
       "  </tbody>\n",
       "</table>\n",
       "<p>7410 rows × 12 columns</p>\n",
       "</div>"
      ],
      "text/plain": [
       "      calories  distance    steps  age  stress_score  lightly_active_minutes  \\\n",
       "0      2351.59    6517.5   8833.0  <30          78.0                   149.0   \n",
       "1      2332.08    7178.6   9727.0  <30          80.0                   132.0   \n",
       "2      2262.30    6090.9   8253.0  <30          84.0                   112.0   \n",
       "3      2325.10    6653.1   9015.0  <30          82.0                   133.0   \n",
       "4      2586.76    9557.9  12949.0  <30          81.0                   136.0   \n",
       "...        ...       ...      ...  ...           ...                     ...   \n",
       "7405       NaN       NaN      NaN  NaN           NaN                     NaN   \n",
       "7406       NaN       NaN      NaN  NaN           NaN                     NaN   \n",
       "7407       NaN       NaN      NaN  NaN           NaN                     NaN   \n",
       "7408       NaN       NaN      NaN  NaN           NaN                     NaN   \n",
       "7409       NaN       NaN      NaN  NaN           NaN                     NaN   \n",
       "\n",
       "      moderately_active_minutes  very_active_minutes  sedentary_minutes  \\\n",
       "0                          24.0                 33.0              713.0   \n",
       "1                          25.0                 31.0              704.0   \n",
       "2                          27.0                 31.0              710.0   \n",
       "3                          21.0                 37.0              622.0   \n",
       "4                          42.0                 54.0              647.0   \n",
       "...                         ...                  ...                ...   \n",
       "7405                        NaN                  NaN                NaN   \n",
       "7406                        NaN                  NaN                NaN   \n",
       "7407                        NaN                  NaN                NaN   \n",
       "7408                        NaN                  NaN                NaN   \n",
       "7409                        NaN                  NaN                NaN   \n",
       "\n",
       "     gender  bmi  sleep_points_percentage  \n",
       "0      MALE  <19                 0.833333  \n",
       "1      MALE  <19                 0.833333  \n",
       "2      MALE  <19                 0.966667  \n",
       "3      MALE  <19                 0.933333  \n",
       "4      MALE  <19                 0.866667  \n",
       "...     ...  ...                      ...  \n",
       "7405    NaN  NaN                      NaN  \n",
       "7406    NaN  NaN                      NaN  \n",
       "7407    NaN  NaN                      NaN  \n",
       "7408    NaN  NaN                      NaN  \n",
       "7409    NaN  NaN                      NaN  \n",
       "\n",
       "[7410 rows x 12 columns]"
      ]
     },
     "execution_count": 4,
     "metadata": {},
     "output_type": "execute_result"
    }
   ],
   "source": [
    "# because there are so many features, dropping columns is inefficient, so make new df with the features we want\n",
    "features_df = df[[\n",
    "    'calories', \n",
    "    'distance',\n",
    "    'steps',\n",
    "    'age',\n",
    "    'stress_score',\n",
    "    'lightly_active_minutes', \n",
    "    'moderately_active_minutes', \n",
    "    'very_active_minutes', \n",
    "    'sedentary_minutes', \n",
    "    'gender', \n",
    "    'bmi', \n",
    "    'sleep_points_percentage'\n",
    "]]\n",
    "\n",
    "features_df"
   ]
  },
  {
   "cell_type": "code",
   "execution_count": 5,
   "id": "187c9af5",
   "metadata": {},
   "outputs": [
    {
     "name": "stdout",
     "output_type": "stream",
     "text": [
      "Dropped features ['steps', 'sleep_points_percentage']\n"
     ]
    },
    {
     "data": {
      "image/png": "[encoded data removed]",
      "text/plain": [
       "<Figure size 720x720 with 2 Axes>"
      ]
     },
     "metadata": {
      "needs_background": "light"
     },
     "output_type": "display_data"
    }
   ],
   "source": [
    "plt.figure(figsize=(10,10))\n",
    "corr = features_df.corr().abs()\n",
    "sns.heatmap(corr, annot=True).set_title(\"Correlation Heatmap\")\n",
    "corr_matrix = features_df.corr().abs()\n",
    "upper = corr_matrix.where(np.triu(np.ones(corr_matrix.shape), k=1).astype(bool))\n",
    "to_drop = [column for column in upper.columns if any(upper[column] >= 0.9)]\n",
    "print(\"Dropped features\", to_drop)"
   ]
  },
  {
   "cell_type": "code",
   "execution_count": 6,
   "id": "5f1c25cb",
   "metadata": {},
   "outputs": [
    {
     "data": {
      "text/plain": [
       "(7410, 10)"
      ]
     },
     "execution_count": 6,
     "metadata": {},
     "output_type": "execute_result"
    }
   ],
   "source": [
    "#Since steps and distance and stress_score and sleep_points_percentage are highly correlated. Keeping both pairs of correlated\n",
    "#features means keeping redundant information.\n",
    "features_df=features_df.drop(['distance','stress_score'],axis=1)\n",
    "features_df.shape"
   ]
  },
  {
   "cell_type": "code",
   "execution_count": 7,
   "id": "55076e4c",
   "metadata": {},
   "outputs": [
    {
     "name": "stdout",
     "output_type": "stream",
     "text": [
      "calories                      750\n",
      "steps                        2633\n",
      "age                           614\n",
      "lightly_active_minutes        327\n",
      "moderately_active_minutes     327\n",
      "very_active_minutes           327\n",
      "sedentary_minutes             327\n",
      "gender                        370\n",
      "bmi                           614\n",
      "sleep_points_percentage      5534\n",
      "dtype: int64\n"
     ]
    }
   ],
   "source": [
    "print(features_df.isnull().sum())"
   ]
  },
  {
   "cell_type": "code",
   "execution_count": 8,
   "id": "2569b3b0",
   "metadata": {},
   "outputs": [
    {
     "data": {
      "text/plain": [
       "(6104, 10)"
      ]
     },
     "execution_count": 8,
     "metadata": {},
     "output_type": "execute_result"
    }
   ],
   "source": [
    "# removing rows from features_df if there are less than 3 features with missing values\n",
    "features_df = features_df[features_df.isnull().sum(axis=1) < 3]\n",
    "features_df.shape"
   ]
  },
  {
   "cell_type": "code",
   "execution_count": 9,
   "id": "a22d933e",
   "metadata": {},
   "outputs": [
    {
     "name": "stdout",
     "output_type": "stream",
     "text": [
      "calories                        0\n",
      "steps                        1804\n",
      "age                             0\n",
      "lightly_active_minutes          0\n",
      "moderately_active_minutes       0\n",
      "very_active_minutes             0\n",
      "sedentary_minutes               0\n",
      "gender                          0\n",
      "bmi                             0\n",
      "sleep_points_percentage      4278\n",
      "dtype: int64\n"
     ]
    }
   ],
   "source": [
    "print(features_df.isnull().sum())"
   ]
  },
  {
   "cell_type": "code",
   "execution_count": 10,
   "id": "c144787c",
   "metadata": {},
   "outputs": [
    {
     "name": "stdout",
     "output_type": "stream",
     "text": [
      "(1826, 10)\n",
      "calories                     0\n",
      "steps                        2\n",
      "age                          0\n",
      "lightly_active_minutes       0\n",
      "moderately_active_minutes    0\n",
      "very_active_minutes          0\n",
      "sedentary_minutes            0\n",
      "gender                       0\n",
      "bmi                          0\n",
      "sleep_points_percentage      0\n",
      "dtype: int64\n"
     ]
    }
   ],
   "source": [
    "features_df=features_df.dropna(subset=['sleep_points_percentage'])\n",
    "print(features_df.shape)\n",
    "print(features_df.isnull().sum())"
   ]
  },
  {
   "cell_type": "code",
   "execution_count": 11,
   "id": "fe9d29e1",
   "metadata": {},
   "outputs": [],
   "source": [
    "features_df['steps'].fillna(features_df['steps'].median(), inplace=True)"
   ]
  },
  {
   "cell_type": "code",
   "execution_count": 12,
   "id": "18eaa610",
   "metadata": {},
   "outputs": [
    {
     "name": "stdout",
     "output_type": "stream",
     "text": [
      "calories                     0\n",
      "steps                        0\n",
      "age                          0\n",
      "lightly_active_minutes       0\n",
      "moderately_active_minutes    0\n",
      "very_active_minutes          0\n",
      "sedentary_minutes            0\n",
      "gender                       0\n",
      "bmi                          0\n",
      "sleep_points_percentage      0\n",
      "dtype: int64\n"
     ]
    }
   ],
   "source": [
    "print(features_df.isnull().sum())"
   ]
  },
  {
   "cell_type": "code",
   "execution_count": 13,
   "id": "e1da419d",
   "metadata": {},
   "outputs": [],
   "source": [
    "sleep_score = []\n",
    "for percent in features_df.sleep_points_percentage:\n",
    "    if percent > 0.7:\n",
    "        sleep_score.append('good')\n",
    "    else:\n",
    "        sleep_score.append('poor')\n",
    "\n",
    "features_df['sleep_score'] = sleep_score\n",
    "features_df\n",
    "features_df = features_df.drop(['sleep_points_percentage'],axis=1)"
   ]
  },
  {
   "cell_type": "code",
   "execution_count": 14,
   "id": "01de99cb",
   "metadata": {},
   "outputs": [
    {
     "data": {
      "text/plain": [
       "(1826, 10)"
      ]
     },
     "execution_count": 14,
     "metadata": {},
     "output_type": "execute_result"
    }
   ],
   "source": [
    "features_df.shape"
   ]
  },
  {
   "cell_type": "code",
   "execution_count": 15,
   "id": "3bb42e47",
   "metadata": {},
   "outputs": [
    {
     "data": {
      "text/plain": [
       "Text(0.5, 1.0, 'Distribution of Steps')"
      ]
     },
     "execution_count": 15,
     "metadata": {},
     "output_type": "execute_result"
    },
    {
     "data": {
      "image/png": "[encoded data removed]",
      "text/plain": [
       "<Figure size 2160x2160 with 6 Axes>"
      ]
     },
     "metadata": {
      "needs_background": "light"
     },
     "output_type": "display_data"
    }
   ],
   "source": [
    "plt.figure(figsize=(30,30))\n",
    "plt.subplot(3,2,1)\n",
    "sns.histplot(data=features_df, x=\"calories\")\n",
    "plt.xlabel(\"Calories\")\n",
    "plt.title(\"Distribution of Calories\")\n",
    "plt.title(\"Distribution of Distance\")\n",
    "plt.subplot(3,2,2)\n",
    "sns.histplot(data=features_df, x=\"lightly_active_minutes\")\n",
    "plt.xlabel(\"Lightly Active Minutes\")\n",
    "plt.title(\"Distribution of Lightly Active Minutes\")\n",
    "plt.subplot(3,2,3)\n",
    "sns.histplot(data=features_df, x=\"moderately_active_minutes\")\n",
    "plt.xlabel(\"Moderately Active Minutes\")\n",
    "plt.title(\"Distribution of Moderately Active Minutes\")\n",
    "plt.subplot(3,2,4)\n",
    "sns.histplot(data=features_df, x=\"very_active_minutes\")\n",
    "plt.xlabel(\"Very Active Minutes\")\n",
    "plt.title(\"Distribution of Very Active Minutes\")\n",
    "plt.subplot(3,2,5)\n",
    "sns.histplot(data=features_df, x=\"sedentary_minutes\")\n",
    "plt.xlabel(\"Sedentary Minutes\")\n",
    "plt.title(\"Distribution of Sedentary Minutes\")\n",
    "plt.subplot(3,2,6)\n",
    "sns.histplot(data=features_df, x=\"steps\")\n",
    "plt.xlabel(\"Steps\")\n",
    "plt.title(\"Distribution of Steps\")"
   ]
  },
  {
   "cell_type": "code",
   "execution_count": 16,
   "id": "82cc03dd",
   "metadata": {},
   "outputs": [
    {
     "name": "stdout",
     "output_type": "stream",
     "text": [
      "(1358, 10)\n"
     ]
    }
   ],
   "source": [
    "Q1 = df.quantile(0.25)\n",
    "Q3 = df.quantile(0.75)\n",
    "IQR = Q3 - Q1\n",
    "features_df_out = features_df[~((features_df < (Q1 - 1.5 * IQR)) |(features_df > (Q3 + 1.5 * IQR))).any(axis=1)]\n",
    "print(features_df_out.shape)"
   ]
  },
  {
   "cell_type": "code",
   "execution_count": 17,
   "id": "bb099630",
   "metadata": {},
   "outputs": [],
   "source": [
    "features_df_1 = features_df\n",
    "features_df = features_df_out"
   ]
  },
  {
   "cell_type": "code",
   "execution_count": 18,
   "id": "6533a439",
   "metadata": {},
   "outputs": [
    {
     "data": {
      "text/plain": [
       "Text(0.5, 1.0, 'Distribution of Steps')"
      ]
     },
     "execution_count": 18,
     "metadata": {},
     "output_type": "execute_result"
    },
    {
     "data": {
      "image/png": "[encoded data removed]",
      "text/plain": [
       "<Figure size 2160x2160 with 6 Axes>"
      ]
     },
     "metadata": {
      "needs_background": "light"
     },
     "output_type": "display_data"
    }
   ],
   "source": [
    "plt.figure(figsize=(30,30))\n",
    "plt.subplot(3,2,1)\n",
    "sns.histplot(data=features_df_out, x=\"calories\")\n",
    "plt.xlabel(\"Calories\")\n",
    "plt.title(\"Distribution of Calories\")\n",
    "plt.title(\"Distribution of Distance\")\n",
    "plt.subplot(3,2,2)\n",
    "sns.histplot(data=features_df_out, x=\"lightly_active_minutes\")\n",
    "plt.xlabel(\"Lightly Active Minutes\")\n",
    "plt.title(\"Distribution of Lightly Active Minutes\")\n",
    "plt.subplot(3,2,3)\n",
    "sns.histplot(data=features_df_out, x=\"moderately_active_minutes\")\n",
    "plt.xlabel(\"Moderately Active Minutes\")\n",
    "plt.title(\"Distribution of Moderately Active Minutes\")\n",
    "plt.subplot(3,2,4)\n",
    "sns.histplot(data=features_df_out, x=\"very_active_minutes\")\n",
    "plt.xlabel(\"Very Active Minutes\")\n",
    "plt.title(\"Distribution of Very Active Minutes\")\n",
    "plt.subplot(3,2,5)\n",
    "sns.histplot(data=features_df_out, x=\"sedentary_minutes\")\n",
    "plt.xlabel(\"Sedentary Minutes\")\n",
    "plt.title(\"Distribution of Sedentary Minutes\")\n",
    "plt.subplot(3,2,6)\n",
    "sns.histplot(data=features_df_out, x=\"steps\")\n",
    "plt.xlabel(\"Steps\")\n",
    "plt.title(\"Distribution of Steps\")"
   ]
  },
  {
   "cell_type": "code",
   "execution_count": 19,
   "id": "d5ba031c",
   "metadata": {},
   "outputs": [
    {
     "name": "stdout",
     "output_type": "stream",
     "text": [
      "calories                     0\n",
      "steps                        0\n",
      "age                          0\n",
      "lightly_active_minutes       0\n",
      "moderately_active_minutes    0\n",
      "very_active_minutes          0\n",
      "sedentary_minutes            0\n",
      "gender                       0\n",
      "bmi                          0\n",
      "sleep_score                  0\n",
      "dtype: int64\n"
     ]
    }
   ],
   "source": [
    "print(features_df.isnull().sum())"
   ]
  },
  {
   "cell_type": "code",
   "execution_count": 20,
   "id": "f5b2575c",
   "metadata": {},
   "outputs": [
    {
     "data": {
      "image/png": "[encoded data removed]",
      "text/plain": [
       "<Figure size 432x288 with 1 Axes>"
      ]
     },
     "metadata": {
      "needs_background": "light"
     },
     "output_type": "display_data"
    },
    {
     "data": {
      "image/png": "[encoded data removed]",
      "text/plain": [
       "<Figure size 432x288 with 1 Axes>"
      ]
     },
     "metadata": {
      "needs_background": "light"
     },
     "output_type": "display_data"
    }
   ],
   "source": [
    "cat_features = ['age', 'gender']\n",
    "target_col = 'sleep_score'\n",
    "\n",
    "# features_df['bmi'] = pd.Categorical(features_df['bmi'], ['<19','19.0','20.0','21.0','22.0','23.0','24.0','>=25','26.0','29.0','>=30'])\n",
    "# Loop through each categorical feature and plot side-by-side bar chart\n",
    "for col in cat_features:\n",
    "    sns.histplot(data=features_df, x=col, hue=target_col, stat='percent', multiple=\"dodge\", shrink=.8).set( title=(col+' distribution'))\n",
    "    plt.show()"
   ]
  },
  {
   "cell_type": "code",
   "execution_count": 21,
   "id": "571326db",
   "metadata": {},
   "outputs": [
    {
     "name": "stdout",
     "output_type": "stream",
     "text": [
      "good    758\n",
      "poor    600\n",
      "Name: sleep_score, dtype: int64\n"
     ]
    },
    {
     "data": {
      "image/png": "[encoded data removed]",
      "text/plain": [
       "<Figure size 720x720 with 1 Axes>"
      ]
     },
     "metadata": {
      "needs_background": "light"
     },
     "output_type": "display_data"
    }
   ],
   "source": [
    "plt.figure(figsize=(10,10))\n",
    "features_df[\"sleep_score\"].value_counts().plot(kind='bar')\n",
    "plt.xlabel(\"Sleep Score\")\n",
    "plt.ylabel(\"Count\")\n",
    "plt.title(\"Distribution of Sleep Scores\")\n",
    "print(features_df[\"sleep_score\"].value_counts())"
   ]
  },
  {
   "cell_type": "code",
   "execution_count": 22,
   "id": "7d69f7a1",
   "metadata": {},
   "outputs": [
    {
     "data": {
      "text/html": [
       "<div>\n",
       "<style scoped>\n",
       "    .dataframe tbody tr th:only-of-type {\n",
       "        vertical-align: middle;\n",
       "    }\n",
       "\n",
       "    .dataframe tbody tr th {\n",
       "        vertical-align: top;\n",
       "    }\n",
       "\n",
       "    .dataframe thead th {\n",
       "        text-align: right;\n",
       "    }\n",
       "</style>\n",
       "<table border=\"1\" class=\"dataframe\">\n",
       "  <thead>\n",
       "    <tr style=\"text-align: right;\">\n",
       "      <th></th>\n",
       "      <th>calories</th>\n",
       "      <th>steps</th>\n",
       "      <th>age</th>\n",
       "      <th>lightly_active_minutes</th>\n",
       "      <th>moderately_active_minutes</th>\n",
       "      <th>very_active_minutes</th>\n",
       "      <th>sedentary_minutes</th>\n",
       "      <th>gender</th>\n",
       "      <th>bmi</th>\n",
       "      <th>sleep_score</th>\n",
       "    </tr>\n",
       "  </thead>\n",
       "  <tbody>\n",
       "    <tr>\n",
       "      <th>0</th>\n",
       "      <td>2351.59</td>\n",
       "      <td>8833.0</td>\n",
       "      <td>&lt;30</td>\n",
       "      <td>149.0</td>\n",
       "      <td>24.0</td>\n",
       "      <td>33.0</td>\n",
       "      <td>713.0</td>\n",
       "      <td>MALE</td>\n",
       "      <td>&lt;19</td>\n",
       "      <td>good</td>\n",
       "    </tr>\n",
       "    <tr>\n",
       "      <th>1</th>\n",
       "      <td>2332.08</td>\n",
       "      <td>9727.0</td>\n",
       "      <td>&lt;30</td>\n",
       "      <td>132.0</td>\n",
       "      <td>25.0</td>\n",
       "      <td>31.0</td>\n",
       "      <td>704.0</td>\n",
       "      <td>MALE</td>\n",
       "      <td>&lt;19</td>\n",
       "      <td>good</td>\n",
       "    </tr>\n",
       "    <tr>\n",
       "      <th>2</th>\n",
       "      <td>2262.30</td>\n",
       "      <td>8253.0</td>\n",
       "      <td>&lt;30</td>\n",
       "      <td>112.0</td>\n",
       "      <td>27.0</td>\n",
       "      <td>31.0</td>\n",
       "      <td>710.0</td>\n",
       "      <td>MALE</td>\n",
       "      <td>&lt;19</td>\n",
       "      <td>good</td>\n",
       "    </tr>\n",
       "    <tr>\n",
       "      <th>3</th>\n",
       "      <td>2325.10</td>\n",
       "      <td>9015.0</td>\n",
       "      <td>&lt;30</td>\n",
       "      <td>133.0</td>\n",
       "      <td>21.0</td>\n",
       "      <td>37.0</td>\n",
       "      <td>622.0</td>\n",
       "      <td>MALE</td>\n",
       "      <td>&lt;19</td>\n",
       "      <td>good</td>\n",
       "    </tr>\n",
       "    <tr>\n",
       "      <th>6</th>\n",
       "      <td>1968.24</td>\n",
       "      <td>3796.0</td>\n",
       "      <td>&lt;30</td>\n",
       "      <td>113.0</td>\n",
       "      <td>9.0</td>\n",
       "      <td>0.0</td>\n",
       "      <td>763.0</td>\n",
       "      <td>MALE</td>\n",
       "      <td>&lt;19</td>\n",
       "      <td>good</td>\n",
       "    </tr>\n",
       "    <tr>\n",
       "      <th>...</th>\n",
       "      <td>...</td>\n",
       "      <td>...</td>\n",
       "      <td>...</td>\n",
       "      <td>...</td>\n",
       "      <td>...</td>\n",
       "      <td>...</td>\n",
       "      <td>...</td>\n",
       "      <td>...</td>\n",
       "      <td>...</td>\n",
       "      <td>...</td>\n",
       "    </tr>\n",
       "    <tr>\n",
       "      <th>7375</th>\n",
       "      <td>2344.01</td>\n",
       "      <td>13554.0</td>\n",
       "      <td>&lt;30</td>\n",
       "      <td>342.0</td>\n",
       "      <td>26.0</td>\n",
       "      <td>31.0</td>\n",
       "      <td>581.0</td>\n",
       "      <td>FEMALE</td>\n",
       "      <td>23</td>\n",
       "      <td>good</td>\n",
       "    </tr>\n",
       "    <tr>\n",
       "      <th>7376</th>\n",
       "      <td>2239.31</td>\n",
       "      <td>13638.0</td>\n",
       "      <td>&lt;30</td>\n",
       "      <td>355.0</td>\n",
       "      <td>19.0</td>\n",
       "      <td>2.0</td>\n",
       "      <td>668.0</td>\n",
       "      <td>FEMALE</td>\n",
       "      <td>23</td>\n",
       "      <td>good</td>\n",
       "    </tr>\n",
       "    <tr>\n",
       "      <th>7377</th>\n",
       "      <td>1768.30</td>\n",
       "      <td>5366.0</td>\n",
       "      <td>&lt;30</td>\n",
       "      <td>182.0</td>\n",
       "      <td>16.0</td>\n",
       "      <td>3.0</td>\n",
       "      <td>766.0</td>\n",
       "      <td>FEMALE</td>\n",
       "      <td>23</td>\n",
       "      <td>good</td>\n",
       "    </tr>\n",
       "    <tr>\n",
       "      <th>7378</th>\n",
       "      <td>2108.29</td>\n",
       "      <td>10448.0</td>\n",
       "      <td>&lt;30</td>\n",
       "      <td>266.0</td>\n",
       "      <td>23.0</td>\n",
       "      <td>20.0</td>\n",
       "      <td>667.0</td>\n",
       "      <td>FEMALE</td>\n",
       "      <td>23</td>\n",
       "      <td>good</td>\n",
       "    </tr>\n",
       "    <tr>\n",
       "      <th>7380</th>\n",
       "      <td>2209.04</td>\n",
       "      <td>17051.0</td>\n",
       "      <td>&lt;30</td>\n",
       "      <td>273.0</td>\n",
       "      <td>49.0</td>\n",
       "      <td>26.0</td>\n",
       "      <td>556.0</td>\n",
       "      <td>FEMALE</td>\n",
       "      <td>23</td>\n",
       "      <td>poor</td>\n",
       "    </tr>\n",
       "  </tbody>\n",
       "</table>\n",
       "<p>1358 rows × 10 columns</p>\n",
       "</div>"
      ],
      "text/plain": [
       "      calories    steps  age  lightly_active_minutes  \\\n",
       "0      2351.59   8833.0  <30                   149.0   \n",
       "1      2332.08   9727.0  <30                   132.0   \n",
       "2      2262.30   8253.0  <30                   112.0   \n",
       "3      2325.10   9015.0  <30                   133.0   \n",
       "6      1968.24   3796.0  <30                   113.0   \n",
       "...        ...      ...  ...                     ...   \n",
       "7375   2344.01  13554.0  <30                   342.0   \n",
       "7376   2239.31  13638.0  <30                   355.0   \n",
       "7377   1768.30   5366.0  <30                   182.0   \n",
       "7378   2108.29  10448.0  <30                   266.0   \n",
       "7380   2209.04  17051.0  <30                   273.0   \n",
       "\n",
       "      moderately_active_minutes  very_active_minutes  sedentary_minutes  \\\n",
       "0                          24.0                 33.0              713.0   \n",
       "1                          25.0                 31.0              704.0   \n",
       "2                          27.0                 31.0              710.0   \n",
       "3                          21.0                 37.0              622.0   \n",
       "6                           9.0                  0.0              763.0   \n",
       "...                         ...                  ...                ...   \n",
       "7375                       26.0                 31.0              581.0   \n",
       "7376                       19.0                  2.0              668.0   \n",
       "7377                       16.0                  3.0              766.0   \n",
       "7378                       23.0                 20.0              667.0   \n",
       "7380                       49.0                 26.0              556.0   \n",
       "\n",
       "      gender  bmi sleep_score  \n",
       "0       MALE  <19        good  \n",
       "1       MALE  <19        good  \n",
       "2       MALE  <19        good  \n",
       "3       MALE  <19        good  \n",
       "6       MALE  <19        good  \n",
       "...      ...  ...         ...  \n",
       "7375  FEMALE   23        good  \n",
       "7376  FEMALE   23        good  \n",
       "7377  FEMALE   23        good  \n",
       "7378  FEMALE   23        good  \n",
       "7380  FEMALE   23        poor  \n",
       "\n",
       "[1358 rows x 10 columns]"
      ]
     },
     "execution_count": 22,
     "metadata": {},
     "output_type": "execute_result"
    }
   ],
   "source": [
    "features_df"
   ]
  },
  {
   "cell_type": "markdown",
   "id": "4b9972c6",
   "metadata": {},
   "source": [
    "# ------- BEGIN MODELING -------"
   ]
  },
  {
   "cell_type": "markdown",
   "id": "56ae27a0",
   "metadata": {},
   "source": [
    "## Scaling and One-hot Encoding"
   ]
  },
  {
   "cell_type": "code",
   "execution_count": 23,
   "id": "5e9feeb3",
   "metadata": {},
   "outputs": [],
   "source": [
    "# separate target variable from features\n",
    "X = features_df.drop('sleep_score', axis=1)\n",
    "y = features_df['sleep_score']\n",
    "\n",
    "# Split the data into training and testing sets\n",
    "X_train, X_test, y_train, y_test = train_test_split(X, y, test_size=0.2, random_state=42)\n",
    "\n",
    "# Separate the numerical features\n",
    "numerical_features = X_train.select_dtypes(include=[\"float64\", \"int64\"]).columns\n",
    "\n",
    "# Scale the numerical features using StandardScaler\n",
    "scaler = StandardScaler()\n",
    "X_train[numerical_features] = scaler.fit_transform(X_train[numerical_features])\n",
    "X_test[numerical_features] = scaler.transform(X_test[numerical_features])\n",
    "\n",
    "# Encode categorical variables using one-hot encoding\n",
    "X_train = pd.get_dummies(X_train)\n",
    "X_test = pd.get_dummies(X_test)\n",
    "\n",
    "# Convert string labels to numeric labels\n",
    "label_encoder = LabelEncoder()\n",
    "y_train = label_encoder.fit_transform(y_train)\n",
    "y_test = label_encoder.transform(y_test)"
   ]
  },
  {
   "cell_type": "markdown",
   "id": "9191c4de",
   "metadata": {},
   "source": [
    "## Sampling"
   ]
  },
  {
   "cell_type": "code",
   "execution_count": 24,
   "id": "d9bccabb",
   "metadata": {},
   "outputs": [],
   "source": [
    "# using RandomOverSampler to oversample minority class\n",
    "ros = RandomOverSampler(random_state=42)\n",
    "X_train_oversampled, y_train_oversampled = ros.fit_resample(X_train, y_train)\n",
    "\n",
    "# using SMOTE to oversample minority class\n",
    "sm = SMOTE(random_state=42)\n",
    "X_train_smote, y_train_smote = sm.fit_resample(X_train, y_train)"
   ]
  },
  {
   "cell_type": "markdown",
   "id": "3400c4e2",
   "metadata": {},
   "source": [
    "# KNN"
   ]
  },
  {
   "cell_type": "code",
   "execution_count": 25,
   "id": "0e32149e",
   "metadata": {},
   "outputs": [],
   "source": [
    "# Create a KNN classifier\n",
    "knn = KNeighborsClassifier()\n",
    "\n",
    "# Define the hyperparameters to tune\n",
    "param_grid = {\n",
    "    \"n_neighbors\": [1, 3, 5, 7, 9]\n",
    "}\n",
    "\n",
    "# Perform a grid search over the hyperparameters\n",
    "grid_search = GridSearchCV(knn, param_grid=param_grid, cv=10, scoring='precision')"
   ]
  },
  {
   "cell_type": "code",
   "execution_count": 26,
   "id": "25fb661a",
   "metadata": {},
   "outputs": [
    {
     "name": "stdout",
     "output_type": "stream",
     "text": [
      "Best hyperparameters: {'n_neighbors': 5}\n",
      "              precision    recall  f1-score   support\n",
      "\n",
      "           0       0.66      0.75      0.70       143\n",
      "           1       0.67      0.57      0.61       129\n",
      "\n",
      "    accuracy                           0.66       272\n",
      "   macro avg       0.66      0.66      0.66       272\n",
      "weighted avg       0.66      0.66      0.66       272\n",
      "\n",
      "Accuracy: 0.662\n",
      "Precision: 0.670\n",
      "Recall: 0.566\n",
      "F1 Score: 0.613\n",
      "ROC AUC Score: 0.657\n",
      "AP Score: 0.585\n",
      "Confusion Matrix:\n",
      "[[107  36]\n",
      " [ 56  73]]\n"
     ]
    }
   ],
   "source": [
    "regular = grid_search.fit(X_train, y_train)\n",
    "\n",
    "# Print the best hyperparameters\n",
    "print(\"Best hyperparameters:\", regular.best_params_)\n",
    "knn_regular = regular.best_estimator_\n",
    "\n",
    "# evaluate performance on test set with oversampling\n",
    "y_pred = knn_regular.predict(X_test)\n",
    "print(classification_report(y_test, y_pred))\n",
    "\n",
    "accuracy = accuracy_score(y_test, y_pred)\n",
    "precision = precision_score(y_test, y_pred)\n",
    "recall = recall_score(y_test, y_pred)\n",
    "f1 = f1_score(y_test, y_pred)\n",
    "roc_auc = roc_auc_score(y_test, y_pred)\n",
    "ap = average_precision_score(y_test, y_pred)\n",
    "cm = confusion_matrix(y_test, y_pred)\n",
    "\n",
    "knn_regular = [accuracy, precision, f1, roc_auc, ap]\n",
    "\n",
    "print('Accuracy: {:.3f}'.format(accuracy))\n",
    "print('Precision: {:.3f}'.format(precision))\n",
    "print('Recall: {:.3f}'.format(recall))\n",
    "print('F1 Score: {:.3f}'.format(f1))\n",
    "print('ROC AUC Score: {:.3f}'.format(roc_auc))\n",
    "print('AP Score: {:.3f}'.format(ap))\n",
    "print('Confusion Matrix:\\n{}'.format(cm))"
   ]
  },
  {
   "cell_type": "markdown",
   "id": "665c72b0",
   "metadata": {},
   "source": [
    "## Oversampling + Hyperparameter Tuning"
   ]
  },
  {
   "cell_type": "code",
   "execution_count": 27,
   "id": "21decaa1",
   "metadata": {},
   "outputs": [
    {
     "name": "stdout",
     "output_type": "stream",
     "text": [
      "Best hyperparameters: {'n_neighbors': 9}\n",
      "              precision    recall  f1-score   support\n",
      "\n",
      "           0       0.68      0.71      0.69       143\n",
      "           1       0.66      0.63      0.64       129\n",
      "\n",
      "    accuracy                           0.67       272\n",
      "   macro avg       0.67      0.67      0.67       272\n",
      "weighted avg       0.67      0.67      0.67       272\n",
      "\n",
      "Accuracy: 0.669\n",
      "Precision: 0.659\n",
      "Recall: 0.628\n",
      "F1 Score: 0.643\n",
      "ROC AUC Score: 0.667\n",
      "AP Score: 0.590\n",
      "Confusion Matrix:\n",
      "[[101  42]\n",
      " [ 48  81]]\n"
     ]
    }
   ],
   "source": [
    "grid_search.fit(X_train_oversampled, y_train_oversampled)\n",
    "\n",
    "# Print the best hyperparameters\n",
    "print(\"Best hyperparameters:\", grid_search.best_params_)\n",
    "\n",
    "# Evaluate the performance of the best model on the test set\n",
    "best_model = grid_search.best_estimator_\n",
    "y_pred = best_model.predict(X_test)\n",
    "\n",
    "print(classification_report(y_test, y_pred))\n",
    "\n",
    "# do we want average = binary, weighted, macro, micro?\n",
    "accuracy = accuracy_score(y_test, y_pred)\n",
    "precision = precision_score(y_test, y_pred)\n",
    "recall = recall_score(y_test, y_pred)\n",
    "f1 = f1_score(y_test, y_pred)\n",
    "roc_auc = roc_auc_score(y_test, y_pred)\n",
    "ap = average_precision_score(y_test, y_pred)\n",
    "cm = confusion_matrix(y_test, y_pred)\n",
    "\n",
    "knn_over = [accuracy, precision, f1, roc_auc, ap]\n",
    "\n",
    "print('Accuracy: {:.3f}'.format(accuracy))\n",
    "print('Precision: {:.3f}'.format(precision))\n",
    "print('Recall: {:.3f}'.format(recall))\n",
    "print('F1 Score: {:.3f}'.format(f1))\n",
    "print('ROC AUC Score: {:.3f}'.format(roc_auc))\n",
    "print('AP Score: {:.3f}'.format(ap))\n",
    "print('Confusion Matrix:\\n{}'.format(cm))"
   ]
  },
  {
   "cell_type": "markdown",
   "id": "68fcecf7",
   "metadata": {},
   "source": [
    "## SMOTE + Hyperparameter Tuning"
   ]
  },
  {
   "cell_type": "code",
   "execution_count": 28,
   "id": "b49ee77f",
   "metadata": {},
   "outputs": [
    {
     "name": "stdout",
     "output_type": "stream",
     "text": [
      "Best hyperparameters: {'n_neighbors': 9}\n",
      "              precision    recall  f1-score   support\n",
      "\n",
      "           0       0.70      0.73      0.71       143\n",
      "           1       0.69      0.66      0.67       129\n",
      "\n",
      "    accuracy                           0.69       272\n",
      "   macro avg       0.69      0.69      0.69       272\n",
      "weighted avg       0.69      0.69      0.69       272\n",
      "\n",
      "Accuracy: 0.695\n",
      "Precision: 0.685\n",
      "Recall: 0.659\n",
      "F1 Score: 0.672\n",
      "ROC AUC Score: 0.693\n",
      "AP Score: 0.613\n",
      "Confusion Matrix:\n",
      "[[104  39]\n",
      " [ 44  85]]\n"
     ]
    }
   ],
   "source": [
    "grid_search.fit(X_train_smote, y_train_smote)\n",
    "\n",
    "# Print the best hyperparameters\n",
    "print(\"Best hyperparameters:\", grid_search.best_params_)\n",
    "\n",
    "# Evaluate the performance of the best model on the test set\n",
    "best_model = grid_search.best_estimator_\n",
    "y_pred = best_model.predict(X_test)\n",
    "\n",
    "print(classification_report(y_test, y_pred))\n",
    "\n",
    "accuracy = accuracy_score(y_test, y_pred)\n",
    "precision = precision_score(y_test, y_pred)\n",
    "recall = recall_score(y_test, y_pred)\n",
    "f1 = f1_score(y_test, y_pred)\n",
    "roc_auc = roc_auc_score(y_test, y_pred)\n",
    "ap = average_precision_score(y_test, y_pred)\n",
    "cm = confusion_matrix(y_test, y_pred)\n",
    "\n",
    "knn_smote = [accuracy, precision, f1, roc_auc, ap]\n",
    "\n",
    "print('Accuracy: {:.3f}'.format(accuracy))\n",
    "print('Precision: {:.3f}'.format(precision))\n",
    "print('Recall: {:.3f}'.format(recall))\n",
    "print('F1 Score: {:.3f}'.format(f1))\n",
    "print('ROC AUC Score: {:.3f}'.format(roc_auc))\n",
    "print('AP Score: {:.3f}'.format(ap))\n",
    "print('Confusion Matrix:\\n{}'.format(cm))"
   ]
  },
  {
   "cell_type": "markdown",
   "id": "9126c32a",
   "metadata": {},
   "source": [
    "## Balanced Weights"
   ]
  },
  {
   "cell_type": "code",
   "execution_count": 29,
   "id": "48d146e8",
   "metadata": {},
   "outputs": [
    {
     "name": "stdout",
     "output_type": "stream",
     "text": [
      "Best hyperparameters: {'n_neighbors': 9}\n",
      "              precision    recall  f1-score   support\n",
      "\n",
      "           0       0.66      0.79      0.72       143\n",
      "           1       0.71      0.56      0.62       129\n",
      "\n",
      "    accuracy                           0.68       272\n",
      "   macro avg       0.69      0.67      0.67       272\n",
      "weighted avg       0.68      0.68      0.68       272\n",
      "\n",
      "Accuracy: 0.680\n",
      "Precision: 0.706\n",
      "Recall: 0.558\n",
      "F1 Score: 0.623\n",
      "ROC AUC Score: 0.674\n",
      "AP Score: 0.604\n",
      "Confusion Matrix:\n",
      "[[113  30]\n",
      " [ 57  72]]\n"
     ]
    }
   ],
   "source": [
    "# Create a KNN classifier\n",
    "knn = KNeighborsClassifier(weights=\"distance\")\n",
    "\n",
    "# Define the hyperparameters to tune\n",
    "param_grid = {\n",
    "    \"n_neighbors\": [1, 3, 5, 7, 9],\n",
    "}\n",
    "\n",
    "# Perform a grid search over the hyperparameters\n",
    "grid_search = GridSearchCV(knn, param_grid=param_grid, cv=10, n_jobs=-1, scoring='precision')\n",
    "grid_search.fit(X_train, y_train)\n",
    "\n",
    "# Print the best hyperparameters\n",
    "print(\"Best hyperparameters:\", grid_search.best_params_)\n",
    "\n",
    "# Evaluate the performance of the best model on the test set\n",
    "best_model = grid_search.best_estimator_\n",
    "y_pred = best_model.predict(X_test)\n",
    "\n",
    "print(classification_report(y_test, y_pred))\n",
    "\n",
    "# do we want average = binary, weighted, macro, micro?\n",
    "accuracy = accuracy_score(y_test, y_pred)\n",
    "precision = precision_score(y_test, y_pred)\n",
    "recall = recall_score(y_test, y_pred)\n",
    "f1 = f1_score(y_test, y_pred)\n",
    "roc_auc = roc_auc_score(y_test, y_pred)\n",
    "ap = average_precision_score(y_test, y_pred)\n",
    "cm = confusion_matrix(y_test, y_pred)\n",
    "\n",
    "knn_balance = [accuracy, precision, f1, roc_auc, ap]\n",
    "\n",
    "print('Accuracy: {:.3f}'.format(accuracy))\n",
    "print('Precision: {:.3f}'.format(precision))\n",
    "print('Recall: {:.3f}'.format(recall))\n",
    "print('F1 Score: {:.3f}'.format(f1))\n",
    "print('ROC AUC Score: {:.3f}'.format(roc_auc))\n",
    "print('AP Score: {:.3f}'.format(ap))\n",
    "print('Confusion Matrix:\\n{}'.format(cm))"
   ]
  },
  {
   "cell_type": "markdown",
   "id": "3830eb9b",
   "metadata": {},
   "source": [
    "# Decision Trees"
   ]
  },
  {
   "cell_type": "code",
   "execution_count": 30,
   "id": "788f1918",
   "metadata": {},
   "outputs": [],
   "source": [
    "# train Decision Tree classifier\n",
    "dtc = DecisionTreeClassifier(random_state=42)\n",
    "\n",
    "# Set the parameters for grid search\n",
    "param_grid = {\n",
    "    'max_depth': [2, 4, 6, 8],\n",
    "    'min_samples_split': [1, 2, 5, 7, 10],\n",
    "    'min_samples_leaf': [1, 2, 3, 4, 5],\n",
    "}\n",
    "\n",
    "grid_search = GridSearchCV(dtc, param_grid, cv=5, n_jobs=-1, scoring='precision')"
   ]
  },
  {
   "cell_type": "code",
   "execution_count": 31,
   "id": "700fefae",
   "metadata": {},
   "outputs": [
    {
     "name": "stdout",
     "output_type": "stream",
     "text": [
      "Best hyperparameters: {'max_depth': 2, 'min_samples_leaf': 1, 'min_samples_split': 2}\n",
      "              precision    recall  f1-score   support\n",
      "\n",
      "           0       0.55      0.99      0.71       143\n",
      "           1       0.93      0.10      0.18       129\n",
      "\n",
      "    accuracy                           0.57       272\n",
      "   macro avg       0.74      0.55      0.45       272\n",
      "weighted avg       0.73      0.57      0.46       272\n",
      "\n",
      "Accuracy: 0.570\n",
      "Precision: 0.929\n",
      "Recall: 0.101\n",
      "F1 Score: 0.182\n",
      "ROC AUC Score: 0.547\n",
      "AP Score: 0.520\n",
      "Confusion Matrix:\n",
      "[[142   1]\n",
      " [116  13]]\n"
     ]
    }
   ],
   "source": [
    "regular = grid_search.fit(X_train, y_train)\n",
    "\n",
    "# Print the best hyperparameters\n",
    "print(\"Best hyperparameters:\", regular.best_params_)\n",
    "dtc_regular_model = regular.best_estimator_\n",
    "\n",
    "# evaluate performance on test set with oversampling\n",
    "y_pred = dtc_regular_model.predict(X_test)\n",
    "print(classification_report(y_test, y_pred))\n",
    "\n",
    "accuracy = accuracy_score(y_test, y_pred)\n",
    "precision = precision_score(y_test, y_pred)\n",
    "recall = recall_score(y_test, y_pred)\n",
    "f1 = f1_score(y_test, y_pred)\n",
    "roc_auc = roc_auc_score(y_test, y_pred)\n",
    "ap = average_precision_score(y_test, y_pred)\n",
    "cm = confusion_matrix(y_test, y_pred)\n",
    "\n",
    "dt_regular = [accuracy, precision, f1, roc_auc, ap]\n",
    "\n",
    "print('Accuracy: {:.3f}'.format(accuracy))\n",
    "print('Precision: {:.3f}'.format(precision))\n",
    "print('Recall: {:.3f}'.format(recall))\n",
    "print('F1 Score: {:.3f}'.format(f1))\n",
    "print('ROC AUC Score: {:.3f}'.format(roc_auc))\n",
    "print('AP Score: {:.3f}'.format(ap))\n",
    "print('Confusion Matrix:\\n{}'.format(cm))"
   ]
  },
  {
   "cell_type": "markdown",
   "id": "68c886da",
   "metadata": {},
   "source": [
    "## Oversampling"
   ]
  },
  {
   "cell_type": "code",
   "execution_count": 32,
   "id": "413929b0",
   "metadata": {},
   "outputs": [
    {
     "name": "stdout",
     "output_type": "stream",
     "text": [
      "Best hyperparameters: {'max_depth': 2, 'min_samples_leaf': 1, 'min_samples_split': 2}\n",
      "              precision    recall  f1-score   support\n",
      "\n",
      "           0       0.55      0.99      0.71       143\n",
      "           1       0.94      0.12      0.21       129\n",
      "\n",
      "    accuracy                           0.58       272\n",
      "   macro avg       0.75      0.55      0.46       272\n",
      "weighted avg       0.74      0.58      0.47       272\n",
      "\n",
      "Accuracy: 0.577\n",
      "Precision: 0.938\n",
      "Recall: 0.116\n",
      "F1 Score: 0.207\n",
      "ROC AUC Score: 0.555\n",
      "AP Score: 0.528\n",
      "Confusion Matrix:\n",
      "[[142   1]\n",
      " [114  15]]\n"
     ]
    }
   ],
   "source": [
    "oversample = grid_search.fit(X_train_oversampled, y_train_oversampled)\n",
    "\n",
    "# Print the best hyperparameters\n",
    "print(\"Best hyperparameters:\", oversample.best_params_)\n",
    "dtc_oversample = oversample.best_estimator_\n",
    "\n",
    "# evaluate performance on test set with oversampling\n",
    "y_pred = dtc_oversample.predict(X_test)\n",
    "print(classification_report(y_test, y_pred))\n",
    "\n",
    "accuracy = accuracy_score(y_test, y_pred)\n",
    "precision = precision_score(y_test, y_pred)\n",
    "recall = recall_score(y_test, y_pred)\n",
    "f1 = f1_score(y_test, y_pred)\n",
    "roc_auc = roc_auc_score(y_test, y_pred)\n",
    "ap = average_precision_score(y_test, y_pred)\n",
    "cm = confusion_matrix(y_test, y_pred)\n",
    "\n",
    "dt_over = [accuracy, precision, f1, roc_auc, ap]\n",
    "\n",
    "print('Accuracy: {:.3f}'.format(accuracy))\n",
    "print('Precision: {:.3f}'.format(precision))\n",
    "print('Recall: {:.3f}'.format(recall))\n",
    "print('F1 Score: {:.3f}'.format(f1))\n",
    "print('ROC AUC Score: {:.3f}'.format(roc_auc))\n",
    "print('AP Score: {:.3f}'.format(ap))\n",
    "print('Confusion Matrix:\\n{}'.format(cm))"
   ]
  },
  {
   "cell_type": "code",
   "execution_count": 33,
   "id": "807f8dd4",
   "metadata": {},
   "outputs": [
    {
     "data": {
      "image/png": "[encoded data removed]",
      "text/plain": [
       "<Figure size 576x360 with 1 Axes>"
      ]
     },
     "metadata": {
      "needs_background": "light"
     },
     "output_type": "display_data"
    }
   ],
   "source": [
    "# Extract feature importances\n",
    "importances = dtc_oversample.feature_importances_\n",
    "\n",
    "# Plot the feature importances\n",
    "plt.subplots(figsize=(8,5))\n",
    "plt.bar(range(X_train.shape[1]), importances)\n",
    "plt.xticks(range(X_train.shape[1]), X_train.columns, rotation=90)\n",
    "plt.xlabel(\"Feature\")\n",
    "plt.ylabel(\"Importance\")\n",
    "plt.title(\"Feature Weights of the Best Decision Tree Model\")\n",
    "plt.show()"
   ]
  },
  {
   "cell_type": "markdown",
   "id": "240d3233",
   "metadata": {},
   "source": [
    "## SMOTE"
   ]
  },
  {
   "cell_type": "code",
   "execution_count": 34,
   "id": "349d67f0",
   "metadata": {},
   "outputs": [
    {
     "name": "stdout",
     "output_type": "stream",
     "text": [
      "Best hyperparameters: {'max_depth': 2, 'min_samples_leaf': 1, 'min_samples_split': 2}\n",
      "              precision    recall  f1-score   support\n",
      "\n",
      "           0       0.55      0.99      0.71       143\n",
      "           1       0.93      0.10      0.18       129\n",
      "\n",
      "    accuracy                           0.57       272\n",
      "   macro avg       0.74      0.55      0.45       272\n",
      "weighted avg       0.73      0.57      0.46       272\n",
      "\n",
      "Accuracy: 0.570\n",
      "Precision: 0.929\n",
      "Recall: 0.101\n",
      "F1 Score: 0.182\n",
      "ROC AUC Score: 0.547\n",
      "AP Score: 0.520\n",
      "Confusion Matrix:\n",
      "[[142   1]\n",
      " [116  13]]\n"
     ]
    }
   ],
   "source": [
    "smote = grid_search.fit(X_train_smote, y_train_smote)\n",
    "\n",
    "# Print the best hyperparameters\n",
    "print(\"Best hyperparameters:\", smote.best_params_)\n",
    "dtc_smote = smote.best_estimator_\n",
    "\n",
    "# evaluate performance on test set with SMOTE\n",
    "y_pred = dtc_smote.predict(X_test)\n",
    "print(classification_report(y_test, y_pred))\n",
    "\n",
    "accuracy = accuracy_score(y_test, y_pred)\n",
    "precision = precision_score(y_test, y_pred)\n",
    "recall = recall_score(y_test, y_pred)\n",
    "f1 = f1_score(y_test, y_pred)\n",
    "roc_auc = roc_auc_score(y_test, y_pred)\n",
    "ap = average_precision_score(y_test, y_pred)\n",
    "cm = confusion_matrix(y_test, y_pred)\n",
    "\n",
    "dt_smote = [accuracy, precision, f1, roc_auc, ap]\n",
    "\n",
    "print('Accuracy: {:.3f}'.format(accuracy))\n",
    "print('Precision: {:.3f}'.format(precision))\n",
    "print('Recall: {:.3f}'.format(recall))\n",
    "print('F1 Score: {:.3f}'.format(f1))\n",
    "print('ROC AUC Score: {:.3f}'.format(roc_auc))\n",
    "print('AP Score: {:.3f}'.format(ap))\n",
    "print('Confusion Matrix:\\n{}'.format(cm))"
   ]
  },
  {
   "cell_type": "markdown",
   "id": "1e3054e3",
   "metadata": {},
   "source": [
    "## Balanced weights"
   ]
  },
  {
   "cell_type": "code",
   "execution_count": 35,
   "id": "f79ae0ef",
   "metadata": {},
   "outputs": [
    {
     "name": "stdout",
     "output_type": "stream",
     "text": [
      "Best hyperparameters: {'max_depth': 2, 'min_samples_leaf': 1, 'min_samples_split': 2}\n",
      "              precision    recall  f1-score   support\n",
      "\n",
      "           0       0.55      0.99      0.71       143\n",
      "           1       0.93      0.10      0.18       129\n",
      "\n",
      "    accuracy                           0.57       272\n",
      "   macro avg       0.74      0.55      0.45       272\n",
      "weighted avg       0.73      0.57      0.46       272\n",
      "\n",
      "Accuracy: 0.570\n",
      "Precision: 0.929\n",
      "Recall: 0.101\n",
      "F1 Score: 0.182\n",
      "ROC AUC Score: 0.547\n",
      "AP Score: 0.520\n",
      "Confusion Matrix:\n",
      "[[142   1]\n",
      " [116  13]]\n"
     ]
    }
   ],
   "source": [
    "# train Random Forest classifier with balanced class weights\n",
    "dtc = DecisionTreeClassifier(random_state=42, class_weight='balanced')\n",
    "\n",
    "# Set the parameters for grid search\n",
    "param_grid = {\n",
    "    'max_depth': [2, 4, 6, 8],\n",
    "    'min_samples_split': [1, 2, 5, 7, 10],\n",
    "    'min_samples_leaf': [1, 2, 3, 4, 5],\n",
    "}\n",
    "\n",
    "grid_search = GridSearchCV(dtc, param_grid, cv=5, n_jobs=-1, scoring='precision')\n",
    "grid_search.fit(X_train, y_train)\n",
    "\n",
    "# Print the best hyperparameters\n",
    "print(\"Best hyperparameters:\", grid_search.best_params_)\n",
    "dtc_best = grid_search.best_estimator_\n",
    "\n",
    "# evaluate performance on test set\n",
    "y_pred = dtc_best.predict(X_test)\n",
    "print(classification_report(y_test, y_pred))\n",
    "\n",
    "accuracy = accuracy_score(y_test, y_pred)\n",
    "precision = precision_score(y_test, y_pred)\n",
    "recall = recall_score(y_test, y_pred)\n",
    "f1 = f1_score(y_test, y_pred, pos_label=1, average='binary')\n",
    "roc_auc = roc_auc_score(y_test, y_pred)\n",
    "ap = average_precision_score(y_test, y_pred)\n",
    "cm = confusion_matrix(y_test, y_pred)\n",
    "\n",
    "dt_balance = [accuracy, precision, f1, roc_auc, ap]\n",
    "\n",
    "print('Accuracy: {:.3f}'.format(accuracy))\n",
    "print('Precision: {:.3f}'.format(precision))\n",
    "print('Recall: {:.3f}'.format(recall))\n",
    "print('F1 Score: {:.3f}'.format(f1))\n",
    "print('ROC AUC Score: {:.3f}'.format(roc_auc))\n",
    "print('AP Score: {:.3f}'.format(ap))\n",
    "print('Confusion Matrix:\\n{}'.format(cm))"
   ]
  },
  {
   "cell_type": "markdown",
   "id": "7d2dbf29",
   "metadata": {},
   "source": [
    "# Random Forest"
   ]
  },
  {
   "cell_type": "code",
   "execution_count": 36,
   "id": "ef1fe38e",
   "metadata": {},
   "outputs": [],
   "source": [
    "# train Random Forest classifier\n",
    "rfc = RandomForestClassifier(random_state=42)\n",
    "param_grid = {\n",
    "    'n_estimators': [50, 100, 200, 300],\n",
    "    'max_depth': [1, 2, 3, 4, 5],\n",
    "    'min_samples_split': [2, 5, 10],\n",
    "    'min_samples_leaf': [1, 2, 4]\n",
    "}\n",
    "grid_search = GridSearchCV(rfc, param_grid, cv=5, n_jobs=-1, scoring='precision')"
   ]
  },
  {
   "cell_type": "code",
   "execution_count": 37,
   "id": "bfd8eec7",
   "metadata": {},
   "outputs": [
    {
     "name": "stdout",
     "output_type": "stream",
     "text": [
      "Best hyperparameters: {'max_depth': 2, 'min_samples_leaf': 1, 'min_samples_split': 2, 'n_estimators': 100}\n",
      "              precision    recall  f1-score   support\n",
      "\n",
      "           0       0.56      0.97      0.71       143\n",
      "           1       0.81      0.17      0.28       129\n",
      "\n",
      "    accuracy                           0.59       272\n",
      "   macro avg       0.69      0.57      0.50       272\n",
      "weighted avg       0.68      0.59      0.51       272\n",
      "\n",
      "Accuracy: 0.588\n",
      "Precision: 0.815\n",
      "Recall: 0.171\n",
      "F1 Score: 0.282\n",
      "ROC AUC Score: 0.568\n",
      "AP Score: 0.532\n",
      "Confusion Matrix:\n",
      "[[138   5]\n",
      " [107  22]]\n"
     ]
    }
   ],
   "source": [
    "regular = grid_search.fit(X_train, y_train)\n",
    "\n",
    "# Print the best hyperparameters\n",
    "print(\"Best hyperparameters:\", regular.best_params_)\n",
    "rf_regular_model = regular.best_estimator_\n",
    "\n",
    "# evaluate performance on test set with oversampling\n",
    "y_pred = rf_regular_model.predict(X_test)\n",
    "print(classification_report(y_test, y_pred))\n",
    "\n",
    "accuracy = accuracy_score(y_test, y_pred)\n",
    "precision = precision_score(y_test, y_pred)\n",
    "recall = recall_score(y_test, y_pred)\n",
    "f1 = f1_score(y_test, y_pred)\n",
    "roc_auc = roc_auc_score(y_test, y_pred)\n",
    "ap = average_precision_score(y_test, y_pred)\n",
    "cm = confusion_matrix(y_test, y_pred)\n",
    "\n",
    "rf_regular = [accuracy, precision, f1, roc_auc, ap]\n",
    "\n",
    "print('Accuracy: {:.3f}'.format(accuracy))\n",
    "print('Precision: {:.3f}'.format(precision))\n",
    "print('Recall: {:.3f}'.format(recall))\n",
    "print('F1 Score: {:.3f}'.format(f1))\n",
    "print('ROC AUC Score: {:.3f}'.format(roc_auc))\n",
    "print('AP Score: {:.3f}'.format(ap))\n",
    "print('Confusion Matrix:\\n{}'.format(cm))"
   ]
  },
  {
   "cell_type": "code",
   "execution_count": 38,
   "id": "8113dceb",
   "metadata": {},
   "outputs": [
    {
     "data": {
      "image/png": "[encoded data removed]",
      "text/plain": [
       "<Figure size 576x360 with 1 Axes>"
      ]
     },
     "metadata": {
      "needs_background": "light"
     },
     "output_type": "display_data"
    }
   ],
   "source": [
    "# Get the feature importances\n",
    "importances = abs(rf_regular_model.feature_importances_)\n",
    "\n",
    "# Plot the feature importances\n",
    "plt.subplots(figsize=(8,5))\n",
    "plt.bar(range(X_train.shape[1]), importances)\n",
    "plt.xticks(range(X_train.shape[1]), X_train.columns, rotation=90)\n",
    "plt.xlabel(\"Feature\")\n",
    "plt.ylabel(\"Importance\")\n",
    "plt.title(\"Feature Weights of the Best Random Forest Model\")\n",
    "plt.show()"
   ]
  },
  {
   "cell_type": "markdown",
   "id": "2364e3bf",
   "metadata": {},
   "source": [
    "## Oversampling"
   ]
  },
  {
   "cell_type": "code",
   "execution_count": 39,
   "id": "0faff748",
   "metadata": {},
   "outputs": [
    {
     "name": "stdout",
     "output_type": "stream",
     "text": [
      "Best hyperparameters: {'max_depth': 3, 'min_samples_leaf': 1, 'min_samples_split': 5, 'n_estimators': 300}\n",
      "              precision    recall  f1-score   support\n",
      "\n",
      "           0       0.60      0.84      0.70       143\n",
      "           1       0.68      0.37      0.48       129\n",
      "\n",
      "    accuracy                           0.62       272\n",
      "   macro avg       0.64      0.61      0.59       272\n",
      "weighted avg       0.63      0.62      0.59       272\n",
      "\n",
      "Accuracy: 0.618\n",
      "Precision: 0.676\n",
      "Recall: 0.372\n",
      "F1 Score: 0.480\n",
      "ROC AUC Score: 0.606\n",
      "AP Score: 0.549\n",
      "Confusion Matrix:\n",
      "[[120  23]\n",
      " [ 81  48]]\n"
     ]
    }
   ],
   "source": [
    "oversample = grid_search.fit(X_train_oversampled, y_train_oversampled)\n",
    "\n",
    "# Print the best hyperparameters\n",
    "print(\"Best hyperparameters:\", oversample.best_params_)\n",
    "rfc_oversample = oversample.best_estimator_\n",
    "\n",
    "# evaluate performance on test set with oversampling\n",
    "y_pred = rfc_oversample.predict(X_test)\n",
    "print(classification_report(y_test, y_pred))\n",
    "\n",
    "accuracy = accuracy_score(y_test, y_pred)\n",
    "precision = precision_score(y_test, y_pred)\n",
    "recall = recall_score(y_test, y_pred)\n",
    "f1 = f1_score(y_test, y_pred)\n",
    "roc_auc = roc_auc_score(y_test, y_pred)\n",
    "ap = average_precision_score(y_test, y_pred)\n",
    "cm = confusion_matrix(y_test, y_pred)\n",
    "\n",
    "rf_over = [accuracy, precision, f1, roc_auc, ap]\n",
    "\n",
    "print('Accuracy: {:.3f}'.format(accuracy))\n",
    "print('Precision: {:.3f}'.format(precision))\n",
    "print('Recall: {:.3f}'.format(recall))\n",
    "print('F1 Score: {:.3f}'.format(f1))\n",
    "print('ROC AUC Score: {:.3f}'.format(roc_auc))\n",
    "print('AP Score: {:.3f}'.format(ap))\n",
    "print('Confusion Matrix:\\n{}'.format(cm))"
   ]
  },
  {
   "cell_type": "markdown",
   "id": "bceda249",
   "metadata": {},
   "source": [
    "## SMOTE"
   ]
  },
  {
   "cell_type": "code",
   "execution_count": 40,
   "id": "33f5e6de",
   "metadata": {},
   "outputs": [
    {
     "name": "stdout",
     "output_type": "stream",
     "text": [
      "Best hyperparameters: {'max_depth': 1, 'min_samples_leaf': 1, 'min_samples_split': 2, 'n_estimators': 300}\n",
      "              precision    recall  f1-score   support\n",
      "\n",
      "           0       0.58      0.86      0.69       143\n",
      "           1       0.67      0.32      0.43       129\n",
      "\n",
      "    accuracy                           0.60       272\n",
      "   macro avg       0.63      0.59      0.56       272\n",
      "weighted avg       0.63      0.60      0.57       272\n",
      "\n",
      "Accuracy: 0.603\n",
      "Precision: 0.672\n",
      "Recall: 0.318\n",
      "F1 Score: 0.432\n",
      "ROC AUC Score: 0.589\n",
      "AP Score: 0.537\n",
      "Confusion Matrix:\n",
      "[[123  20]\n",
      " [ 88  41]]\n"
     ]
    }
   ],
   "source": [
    "smote = grid_search.fit(X_train_smote, y_train_smote)\n",
    "\n",
    "# Print the best hyperparameters\n",
    "print(\"Best hyperparameters:\", smote.best_params_)\n",
    "rfc_smote = smote.best_estimator_\n",
    "\n",
    "# evaluate performance on test set with SMOTE\n",
    "y_pred = rfc_smote.predict(X_test)\n",
    "print(classification_report(y_test, y_pred))\n",
    "\n",
    "accuracy = accuracy_score(y_test, y_pred)\n",
    "precision = precision_score(y_test, y_pred)\n",
    "recall = recall_score(y_test, y_pred)\n",
    "f1 = f1_score(y_test, y_pred)\n",
    "roc_auc = roc_auc_score(y_test, y_pred)\n",
    "ap = average_precision_score(y_test, y_pred)\n",
    "cm = confusion_matrix(y_test, y_pred)\n",
    "\n",
    "rf_smote = [accuracy, precision, f1, roc_auc, ap]\n",
    "\n",
    "print('Accuracy: {:.3f}'.format(accuracy))\n",
    "print('Precision: {:.3f}'.format(precision))\n",
    "print('Recall: {:.3f}'.format(recall))\n",
    "print('F1 Score: {:.3f}'.format(f1))\n",
    "print('ROC AUC Score: {:.3f}'.format(roc_auc))\n",
    "print('AP Score: {:.3f}'.format(ap))\n",
    "print('Confusion Matrix:\\n{}'.format(cm))"
   ]
  },
  {
   "cell_type": "markdown",
   "id": "e0976116",
   "metadata": {},
   "source": [
    "## Balanced Weights"
   ]
  },
  {
   "cell_type": "code",
   "execution_count": 41,
   "id": "9fc30de4",
   "metadata": {},
   "outputs": [
    {
     "name": "stdout",
     "output_type": "stream",
     "text": [
      "Best hyperparameters: {'max_depth': 1, 'min_samples_leaf': 1, 'min_samples_split': 2, 'n_estimators': 50}\n",
      "              precision    recall  f1-score   support\n",
      "\n",
      "           0       0.59      0.85      0.70       143\n",
      "           1       0.68      0.36      0.47       129\n",
      "\n",
      "    accuracy                           0.61       272\n",
      "   macro avg       0.63      0.60      0.58       272\n",
      "weighted avg       0.63      0.61      0.59       272\n",
      "\n",
      "Accuracy: 0.614\n",
      "Precision: 0.676\n",
      "Recall: 0.357\n",
      "F1 Score: 0.467\n",
      "ROC AUC Score: 0.601\n",
      "AP Score: 0.546\n",
      "Confusion Matrix:\n",
      "[[121  22]\n",
      " [ 83  46]]\n"
     ]
    }
   ],
   "source": [
    "# train Random Forest classifier with balanced class weights\n",
    "rfc = RandomForestClassifier(random_state=42, class_weight='balanced')\n",
    "param_grid = {\n",
    "    'n_estimators': [50, 100, 200, 300],\n",
    "    'max_depth': [1, 2, 3, 4, 5],\n",
    "    'min_samples_split': [2, 5, 10],\n",
    "    'min_samples_leaf': [1, 2, 4]\n",
    "}\n",
    "grid_search = GridSearchCV(rfc, param_grid, cv=5, n_jobs=-1, scoring='precision')\n",
    "grid_search.fit(X_train, y_train)\n",
    "\n",
    "# Print the best hyperparameters\n",
    "print(\"Best hyperparameters:\", grid_search.best_params_)\n",
    "rfc_best = grid_search.best_estimator_\n",
    "\n",
    "# evaluate performance on test set\n",
    "y_pred = rfc_best.predict(X_test)\n",
    "print(classification_report(y_test, y_pred))\n",
    "\n",
    "accuracy = accuracy_score(y_test, y_pred)\n",
    "precision = precision_score(y_test, y_pred)\n",
    "recall = recall_score(y_test, y_pred)\n",
    "f1 = f1_score(y_test, y_pred, pos_label=1, average='binary')\n",
    "roc_auc = roc_auc_score(y_test, y_pred)\n",
    "ap = average_precision_score(y_test, y_pred)\n",
    "cm = confusion_matrix(y_test, y_pred)\n",
    "\n",
    "rf_balance = [accuracy, precision, f1, roc_auc, ap]\n",
    "\n",
    "print('Accuracy: {:.3f}'.format(accuracy))\n",
    "print('Precision: {:.3f}'.format(precision))\n",
    "print('Recall: {:.3f}'.format(recall))\n",
    "print('F1 Score: {:.3f}'.format(f1))\n",
    "print('ROC AUC Score: {:.3f}'.format(roc_auc))\n",
    "print('AP Score: {:.3f}'.format(ap))\n",
    "print('Confusion Matrix:\\n{}'.format(cm))"
   ]
  },
  {
   "cell_type": "markdown",
   "id": "d5e5be08",
   "metadata": {},
   "source": [
    "# SVM"
   ]
  },
  {
   "cell_type": "code",
   "execution_count": 42,
   "id": "b1ddf1f3",
   "metadata": {},
   "outputs": [],
   "source": [
    "svm = SVC(random_state=42)\n",
    "param_grid = {\n",
    "    'kernel': ['rbf', 'linear'],\n",
    "    'C': [0.0001, 0.001, 0.01, 0.1, 1, 10, 100],\n",
    "}\n",
    "grid_search_svm = GridSearchCV(svm, param_grid, cv=5, n_jobs=-1, scoring='precision')"
   ]
  },
  {
   "cell_type": "code",
   "execution_count": 43,
   "id": "54c311dc",
   "metadata": {},
   "outputs": [
    {
     "name": "stderr",
     "output_type": "stream",
     "text": [
      "/Users/nicolelin/opt/anaconda3/lib/python3.9/site-packages/sklearn/metrics/_classification.py:1318: UndefinedMetricWarning: Precision is ill-defined and being set to 0.0 due to no predicted samples. Use `zero_division` parameter to control this behavior.\n",
      "  _warn_prf(average, modifier, msg_start, len(result))\n",
      "/Users/nicolelin/opt/anaconda3/lib/python3.9/site-packages/sklearn/metrics/_classification.py:1318: UndefinedMetricWarning: Precision is ill-defined and being set to 0.0 due to no predicted samples. Use `zero_division` parameter to control this behavior.\n",
      "  _warn_prf(average, modifier, msg_start, len(result))\n",
      "/Users/nicolelin/opt/anaconda3/lib/python3.9/site-packages/sklearn/metrics/_classification.py:1318: UndefinedMetricWarning: Precision is ill-defined and being set to 0.0 due to no predicted samples. Use `zero_division` parameter to control this behavior.\n",
      "  _warn_prf(average, modifier, msg_start, len(result))\n",
      "/Users/nicolelin/opt/anaconda3/lib/python3.9/site-packages/sklearn/metrics/_classification.py:1318: UndefinedMetricWarning: Precision is ill-defined and being set to 0.0 due to no predicted samples. Use `zero_division` parameter to control this behavior.\n",
      "  _warn_prf(average, modifier, msg_start, len(result))\n",
      "/Users/nicolelin/opt/anaconda3/lib/python3.9/site-packages/sklearn/metrics/_classification.py:1318: UndefinedMetricWarning: Precision is ill-defined and being set to 0.0 due to no predicted samples. Use `zero_division` parameter to control this behavior.\n",
      "  _warn_prf(average, modifier, msg_start, len(result))\n",
      "/Users/nicolelin/opt/anaconda3/lib/python3.9/site-packages/sklearn/metrics/_classification.py:1318: UndefinedMetricWarning: Precision is ill-defined and being set to 0.0 due to no predicted samples. Use `zero_division` parameter to control this behavior.\n",
      "  _warn_prf(average, modifier, msg_start, len(result))\n",
      "/Users/nicolelin/opt/anaconda3/lib/python3.9/site-packages/sklearn/metrics/_classification.py:1318: UndefinedMetricWarning: Precision is ill-defined and being set to 0.0 due to no predicted samples. Use `zero_division` parameter to control this behavior.\n",
      "  _warn_prf(average, modifier, msg_start, len(result))\n",
      "/Users/nicolelin/opt/anaconda3/lib/python3.9/site-packages/sklearn/metrics/_classification.py:1318: UndefinedMetricWarning: Precision is ill-defined and being set to 0.0 due to no predicted samples. Use `zero_division` parameter to control this behavior.\n",
      "  _warn_prf(average, modifier, msg_start, len(result))\n",
      "/Users/nicolelin/opt/anaconda3/lib/python3.9/site-packages/sklearn/metrics/_classification.py:1318: UndefinedMetricWarning: Precision is ill-defined and being set to 0.0 due to no predicted samples. Use `zero_division` parameter to control this behavior.\n",
      "  _warn_prf(average, modifier, msg_start, len(result))\n",
      "/Users/nicolelin/opt/anaconda3/lib/python3.9/site-packages/sklearn/metrics/_classification.py:1318: UndefinedMetricWarning: Precision is ill-defined and being set to 0.0 due to no predicted samples. Use `zero_division` parameter to control this behavior.\n",
      "  _warn_prf(average, modifier, msg_start, len(result))\n",
      "/Users/nicolelin/opt/anaconda3/lib/python3.9/site-packages/sklearn/metrics/_classification.py:1318: UndefinedMetricWarning: Precision is ill-defined and being set to 0.0 due to no predicted samples. Use `zero_division` parameter to control this behavior.\n",
      "  _warn_prf(average, modifier, msg_start, len(result))\n",
      "/Users/nicolelin/opt/anaconda3/lib/python3.9/site-packages/sklearn/metrics/_classification.py:1318: UndefinedMetricWarning: Precision is ill-defined and being set to 0.0 due to no predicted samples. Use `zero_division` parameter to control this behavior.\n",
      "  _warn_prf(average, modifier, msg_start, len(result))\n",
      "/Users/nicolelin/opt/anaconda3/lib/python3.9/site-packages/sklearn/metrics/_classification.py:1318: UndefinedMetricWarning: Precision is ill-defined and being set to 0.0 due to no predicted samples. Use `zero_division` parameter to control this behavior.\n",
      "  _warn_prf(average, modifier, msg_start, len(result))\n",
      "/Users/nicolelin/opt/anaconda3/lib/python3.9/site-packages/sklearn/metrics/_classification.py:1318: UndefinedMetricWarning: Precision is ill-defined and being set to 0.0 due to no predicted samples. Use `zero_division` parameter to control this behavior.\n",
      "  _warn_prf(average, modifier, msg_start, len(result))\n",
      "/Users/nicolelin/opt/anaconda3/lib/python3.9/site-packages/sklearn/metrics/_classification.py:1318: UndefinedMetricWarning: Precision is ill-defined and being set to 0.0 due to no predicted samples. Use `zero_division` parameter to control this behavior.\n",
      "  _warn_prf(average, modifier, msg_start, len(result))\n",
      "/Users/nicolelin/opt/anaconda3/lib/python3.9/site-packages/sklearn/metrics/_classification.py:1318: UndefinedMetricWarning: Precision is ill-defined and being set to 0.0 due to no predicted samples. Use `zero_division` parameter to control this behavior.\n",
      "  _warn_prf(average, modifier, msg_start, len(result))\n",
      "/Users/nicolelin/opt/anaconda3/lib/python3.9/site-packages/sklearn/metrics/_classification.py:1318: UndefinedMetricWarning: Precision is ill-defined and being set to 0.0 due to no predicted samples. Use `zero_division` parameter to control this behavior.\n",
      "  _warn_prf(average, modifier, msg_start, len(result))\n",
      "/Users/nicolelin/opt/anaconda3/lib/python3.9/site-packages/sklearn/metrics/_classification.py:1318: UndefinedMetricWarning: Precision is ill-defined and being set to 0.0 due to no predicted samples. Use `zero_division` parameter to control this behavior.\n",
      "  _warn_prf(average, modifier, msg_start, len(result))\n",
      "/Users/nicolelin/opt/anaconda3/lib/python3.9/site-packages/sklearn/metrics/_classification.py:1318: UndefinedMetricWarning: Precision is ill-defined and being set to 0.0 due to no predicted samples. Use `zero_division` parameter to control this behavior.\n",
      "  _warn_prf(average, modifier, msg_start, len(result))\n",
      "/Users/nicolelin/opt/anaconda3/lib/python3.9/site-packages/sklearn/metrics/_classification.py:1318: UndefinedMetricWarning: Precision is ill-defined and being set to 0.0 due to no predicted samples. Use `zero_division` parameter to control this behavior.\n",
      "  _warn_prf(average, modifier, msg_start, len(result))\n",
      "/Users/nicolelin/opt/anaconda3/lib/python3.9/site-packages/sklearn/metrics/_classification.py:1318: UndefinedMetricWarning: Precision is ill-defined and being set to 0.0 due to no predicted samples. Use `zero_division` parameter to control this behavior.\n",
      "  _warn_prf(average, modifier, msg_start, len(result))\n",
      "/Users/nicolelin/opt/anaconda3/lib/python3.9/site-packages/sklearn/metrics/_classification.py:1318: UndefinedMetricWarning: Precision is ill-defined and being set to 0.0 due to no predicted samples. Use `zero_division` parameter to control this behavior.\n",
      "  _warn_prf(average, modifier, msg_start, len(result))\n",
      "/Users/nicolelin/opt/anaconda3/lib/python3.9/site-packages/sklearn/metrics/_classification.py:1318: UndefinedMetricWarning: Precision is ill-defined and being set to 0.0 due to no predicted samples. Use `zero_division` parameter to control this behavior.\n",
      "  _warn_prf(average, modifier, msg_start, len(result))\n",
      "/Users/nicolelin/opt/anaconda3/lib/python3.9/site-packages/sklearn/metrics/_classification.py:1318: UndefinedMetricWarning: Precision is ill-defined and being set to 0.0 due to no predicted samples. Use `zero_division` parameter to control this behavior.\n",
      "  _warn_prf(average, modifier, msg_start, len(result))\n",
      "/Users/nicolelin/opt/anaconda3/lib/python3.9/site-packages/sklearn/metrics/_classification.py:1318: UndefinedMetricWarning: Precision is ill-defined and being set to 0.0 due to no predicted samples. Use `zero_division` parameter to control this behavior.\n",
      "  _warn_prf(average, modifier, msg_start, len(result))\n"
     ]
    },
    {
     "name": "stdout",
     "output_type": "stream",
     "text": [
      "Best hyperparameters: {'C': 0.01, 'kernel': 'linear'}\n",
      "              precision    recall  f1-score   support\n",
      "\n",
      "           0       0.55      0.99      0.70       143\n",
      "           1       0.92      0.09      0.16       129\n",
      "\n",
      "    accuracy                           0.56       272\n",
      "   macro avg       0.73      0.54      0.43       272\n",
      "weighted avg       0.72      0.56      0.44       272\n",
      "\n",
      "Accuracy: 0.562\n",
      "Precision: 0.917\n",
      "Recall: 0.085\n",
      "F1 Score: 0.156\n",
      "ROC AUC Score: 0.539\n",
      "AP Score: 0.512\n",
      "Confusion Matrix:\n",
      "[[142   1]\n",
      " [118  11]]\n"
     ]
    }
   ],
   "source": [
    "regular = grid_search_svm.fit(X_train, y_train)\n",
    "\n",
    "# Print the best hyperparameters\n",
    "print(\"Best hyperparameters:\", regular.best_params_)\n",
    "svm_regular_model = regular.best_estimator_\n",
    "\n",
    "# evaluate performance on test set with oversampling\n",
    "y_pred = svm_regular_model.predict(X_test)\n",
    "print(classification_report(y_test, y_pred))\n",
    "\n",
    "accuracy = accuracy_score(y_test, y_pred)\n",
    "precision = precision_score(y_test, y_pred)\n",
    "recall = recall_score(y_test, y_pred)\n",
    "f1 = f1_score(y_test, y_pred)\n",
    "roc_auc = roc_auc_score(y_test, y_pred)\n",
    "ap = average_precision_score(y_test, y_pred)\n",
    "cm = confusion_matrix(y_test, y_pred)\n",
    "\n",
    "svm_regular = [accuracy, precision, f1, roc_auc, ap]\n",
    "\n",
    "print('Accuracy: {:.3f}'.format(accuracy))\n",
    "print('Precision: {:.3f}'.format(precision))\n",
    "print('Recall: {:.3f}'.format(recall))\n",
    "print('F1 Score: {:.3f}'.format(f1))\n",
    "print('ROC AUC Score: {:.3f}'.format(roc_auc))\n",
    "print('AP Score: {:.3f}'.format(ap))\n",
    "print('Confusion Matrix:\\n{}'.format(cm))"
   ]
  },
  {
   "cell_type": "code",
   "execution_count": 44,
   "id": "44d24d96",
   "metadata": {},
   "outputs": [
    {
     "data": {
      "image/png": "[encoded data removed]",
      "text/plain": [
       "<Figure size 576x360 with 1 Axes>"
      ]
     },
     "metadata": {
      "needs_background": "light"
     },
     "output_type": "display_data"
    }
   ],
   "source": [
    "# Get the feature importances\n",
    "importances = abs(svm_regular_model.coef_[0])\n",
    "\n",
    "# Plot the feature importances\n",
    "plt.subplots(figsize=(8,5))\n",
    "plt.bar(range(X_train.shape[1]), importances)\n",
    "plt.xticks(range(X_train.shape[1]), X_train.columns, rotation=90)\n",
    "plt.xlabel(\"Feature\")\n",
    "plt.ylabel(\"Importance\")\n",
    "plt.title(\"Feature Weights of the Best SVM Model\")\n",
    "plt.show()"
   ]
  },
  {
   "cell_type": "markdown",
   "id": "d2fd3a19",
   "metadata": {},
   "source": [
    "## Random Oversampling"
   ]
  },
  {
   "cell_type": "code",
   "execution_count": 45,
   "id": "dc2e8da9",
   "metadata": {},
   "outputs": [
    {
     "name": "stdout",
     "output_type": "stream",
     "text": [
      "Best hyperparameters: {'C': 0.0001, 'kernel': 'rbf'}\n",
      "              precision    recall  f1-score   support\n",
      "\n",
      "           0       0.59      0.87      0.70       143\n",
      "           1       0.69      0.33      0.45       129\n",
      "\n",
      "    accuracy                           0.61       272\n",
      "   macro avg       0.64      0.60      0.58       272\n",
      "weighted avg       0.64      0.61      0.58       272\n",
      "\n",
      "Accuracy: 0.614\n",
      "Precision: 0.694\n",
      "Recall: 0.333\n",
      "F1 Score: 0.450\n",
      "ROC AUC Score: 0.600\n",
      "AP Score: 0.547\n",
      "Confusion Matrix:\n",
      "[[124  19]\n",
      " [ 86  43]]\n"
     ]
    }
   ],
   "source": [
    "oversample = grid_search_svm.fit(X_train_oversampled, y_train_oversampled)\n",
    "\n",
    "# Print the best hyperparameters\n",
    "print(\"Best hyperparameters:\", oversample.best_params_)\n",
    "svm_oversample = oversample.best_estimator_\n",
    "\n",
    "# evaluate performance on test set with oversampling\n",
    "y_pred = svm_oversample.predict(X_test)\n",
    "print(classification_report(y_test, y_pred))\n",
    "\n",
    "accuracy = accuracy_score(y_test, y_pred)\n",
    "precision = precision_score(y_test, y_pred)\n",
    "recall = recall_score(y_test, y_pred)\n",
    "f1 = f1_score(y_test, y_pred)\n",
    "roc_auc = roc_auc_score(y_test, y_pred)\n",
    "ap = average_precision_score(y_test, y_pred)\n",
    "cm = confusion_matrix(y_test, y_pred)\n",
    "\n",
    "svm_over = [accuracy, precision, f1, roc_auc, ap]\n",
    "\n",
    "print('Accuracy: {:.3f}'.format(accuracy))\n",
    "print('Precision: {:.3f}'.format(precision))\n",
    "print('Recall: {:.3f}'.format(recall))\n",
    "print('F1 Score: {:.3f}'.format(f1))\n",
    "print('ROC AUC Score: {:.3f}'.format(roc_auc))\n",
    "print('AP Score: {:.3f}'.format(ap))\n",
    "print('Confusion Matrix:\\n{}'.format(cm))"
   ]
  },
  {
   "cell_type": "markdown",
   "id": "d6dded7f",
   "metadata": {},
   "source": [
    "## SMOTE"
   ]
  },
  {
   "cell_type": "code",
   "execution_count": 46,
   "id": "ae34c53a",
   "metadata": {},
   "outputs": [
    {
     "name": "stdout",
     "output_type": "stream",
     "text": [
      "Best hyperparameters: {'C': 10, 'kernel': 'rbf'}\n",
      "              precision    recall  f1-score   support\n",
      "\n",
      "           0       0.67      0.74      0.70       143\n",
      "           1       0.68      0.60      0.63       129\n",
      "\n",
      "    accuracy                           0.67       272\n",
      "   macro avg       0.67      0.67      0.67       272\n",
      "weighted avg       0.67      0.67      0.67       272\n",
      "\n",
      "Accuracy: 0.673\n",
      "Precision: 0.675\n",
      "Recall: 0.597\n",
      "F1 Score: 0.634\n",
      "ROC AUC Score: 0.669\n",
      "AP Score: 0.594\n",
      "Confusion Matrix:\n",
      "[[106  37]\n",
      " [ 52  77]]\n"
     ]
    }
   ],
   "source": [
    "smote = grid_search_svm.fit(X_train_smote, y_train_smote)\n",
    "\n",
    "# Print the best hyperparameters\n",
    "print(\"Best hyperparameters:\", smote.best_params_)\n",
    "svm_smote = smote.best_estimator_\n",
    "\n",
    "# evaluate performance on test set with SMOTE\n",
    "y_pred = svm_smote.predict(X_test)\n",
    "print(classification_report(y_test, y_pred))\n",
    "\n",
    "accuracy = accuracy_score(y_test, y_pred)\n",
    "precision = precision_score(y_test, y_pred)\n",
    "recall = recall_score(y_test, y_pred)\n",
    "f1 = f1_score(y_test, y_pred)\n",
    "roc_auc = roc_auc_score(y_test, y_pred)\n",
    "ap = average_precision_score(y_test, y_pred)\n",
    "cm = confusion_matrix(y_test, y_pred)\n",
    "\n",
    "svm_smote = [accuracy, precision, f1, roc_auc, ap]\n",
    "\n",
    "print('Accuracy: {:.3f}'.format(accuracy))\n",
    "print('Precision: {:.3f}'.format(precision))\n",
    "print('Recall: {:.3f}'.format(recall))\n",
    "print('F1 Score: {:.3f}'.format(f1))\n",
    "print('ROC AUC Score: {:.3f}'.format(roc_auc))\n",
    "print('AP Score: {:.3f}'.format(ap))\n",
    "print('Confusion Matrix:\\n{}'.format(cm))"
   ]
  },
  {
   "cell_type": "markdown",
   "id": "f8ffa740",
   "metadata": {},
   "source": [
    "## Balanced Weights"
   ]
  },
  {
   "cell_type": "code",
   "execution_count": 47,
   "id": "9a7f0ad3",
   "metadata": {},
   "outputs": [
    {
     "name": "stderr",
     "output_type": "stream",
     "text": [
      "/Users/nicolelin/opt/anaconda3/lib/python3.9/site-packages/sklearn/metrics/_classification.py:1318: UndefinedMetricWarning: Precision is ill-defined and being set to 0.0 due to no predicted samples. Use `zero_division` parameter to control this behavior.\n",
      "  _warn_prf(average, modifier, msg_start, len(result))\n",
      "/Users/nicolelin/opt/anaconda3/lib/python3.9/site-packages/sklearn/metrics/_classification.py:1318: UndefinedMetricWarning: Precision is ill-defined and being set to 0.0 due to no predicted samples. Use `zero_division` parameter to control this behavior.\n",
      "  _warn_prf(average, modifier, msg_start, len(result))\n",
      "/Users/nicolelin/opt/anaconda3/lib/python3.9/site-packages/sklearn/metrics/_classification.py:1318: UndefinedMetricWarning: Precision is ill-defined and being set to 0.0 due to no predicted samples. Use `zero_division` parameter to control this behavior.\n",
      "  _warn_prf(average, modifier, msg_start, len(result))\n",
      "/Users/nicolelin/opt/anaconda3/lib/python3.9/site-packages/sklearn/metrics/_classification.py:1318: UndefinedMetricWarning: Precision is ill-defined and being set to 0.0 due to no predicted samples. Use `zero_division` parameter to control this behavior.\n",
      "  _warn_prf(average, modifier, msg_start, len(result))\n",
      "/Users/nicolelin/opt/anaconda3/lib/python3.9/site-packages/sklearn/metrics/_classification.py:1318: UndefinedMetricWarning: Precision is ill-defined and being set to 0.0 due to no predicted samples. Use `zero_division` parameter to control this behavior.\n",
      "  _warn_prf(average, modifier, msg_start, len(result))\n",
      "/Users/nicolelin/opt/anaconda3/lib/python3.9/site-packages/sklearn/metrics/_classification.py:1318: UndefinedMetricWarning: Precision is ill-defined and being set to 0.0 due to no predicted samples. Use `zero_division` parameter to control this behavior.\n",
      "  _warn_prf(average, modifier, msg_start, len(result))\n",
      "/Users/nicolelin/opt/anaconda3/lib/python3.9/site-packages/sklearn/metrics/_classification.py:1318: UndefinedMetricWarning: Precision is ill-defined and being set to 0.0 due to no predicted samples. Use `zero_division` parameter to control this behavior.\n",
      "  _warn_prf(average, modifier, msg_start, len(result))\n",
      "/Users/nicolelin/opt/anaconda3/lib/python3.9/site-packages/sklearn/metrics/_classification.py:1318: UndefinedMetricWarning: Precision is ill-defined and being set to 0.0 due to no predicted samples. Use `zero_division` parameter to control this behavior.\n",
      "  _warn_prf(average, modifier, msg_start, len(result))\n",
      "/Users/nicolelin/opt/anaconda3/lib/python3.9/site-packages/sklearn/metrics/_classification.py:1318: UndefinedMetricWarning: Precision is ill-defined and being set to 0.0 due to no predicted samples. Use `zero_division` parameter to control this behavior.\n",
      "  _warn_prf(average, modifier, msg_start, len(result))\n"
     ]
    },
    {
     "name": "stdout",
     "output_type": "stream",
     "text": [
      "Best hyperparameters: {'C': 0.001, 'kernel': 'linear'}\n",
      "              precision    recall  f1-score   support\n",
      "\n",
      "           0       0.56      0.94      0.70       143\n",
      "           1       0.72      0.18      0.29       129\n",
      "\n",
      "    accuracy                           0.58       272\n",
      "   macro avg       0.64      0.56      0.49       272\n",
      "weighted avg       0.63      0.58      0.50       272\n",
      "\n",
      "Accuracy: 0.577\n",
      "Precision: 0.719\n",
      "Recall: 0.178\n",
      "F1 Score: 0.286\n",
      "ROC AUC Score: 0.558\n",
      "AP Score: 0.518\n",
      "Confusion Matrix:\n",
      "[[134   9]\n",
      " [106  23]]\n"
     ]
    }
   ],
   "source": [
    "# train SVM classifier with balanced class weights\n",
    "svm = SVC(random_state=42, class_weight='balanced')\n",
    "param_grid = {\n",
    "    'kernel': ['rbf', 'linear'],\n",
    "    'C': [0.0001, 0.001, 0.01, 0.1, 1, 10, 100],\n",
    "}\n",
    "grid_search = GridSearchCV(svm, param_grid, cv=5, n_jobs=-1, scoring='precision')\n",
    "grid_search.fit(X_train, y_train)\n",
    "\n",
    "print(\"Best hyperparameters:\", grid_search.best_params_)\n",
    "svm_best = grid_search.best_estimator_\n",
    "\n",
    "# evaluate performance on test set\n",
    "y_pred = svm_best.predict(X_test)\n",
    "print(classification_report(y_test, y_pred))\n",
    "\n",
    "accuracy = accuracy_score(y_test, y_pred)\n",
    "precision = precision_score(y_test, y_pred, zero_division=0)\n",
    "recall = recall_score(y_test, y_pred)\n",
    "f1 = f1_score(y_test, y_pred)\n",
    "roc_auc = roc_auc_score(y_test, y_pred)\n",
    "ap = average_precision_score(y_test, y_pred)\n",
    "cm = confusion_matrix(y_test, y_pred)\n",
    "\n",
    "svm_balance = [accuracy, precision, f1, roc_auc, ap]\n",
    "\n",
    "print('Accuracy: {:.3f}'.format(accuracy))\n",
    "print('Precision: {:.3f}'.format(precision))\n",
    "print('Recall: {:.3f}'.format(recall))\n",
    "print('F1 Score: {:.3f}'.format(f1))\n",
    "print('ROC AUC Score: {:.3f}'.format(roc_auc))\n",
    "print('AP Score: {:.3f}'.format(ap))\n",
    "print('Confusion Matrix:\\n{}'.format(cm))"
   ]
  },
  {
   "cell_type": "markdown",
   "id": "44ea38fd",
   "metadata": {},
   "source": [
    "# Logistic Regression"
   ]
  },
  {
   "cell_type": "code",
   "execution_count": 48,
   "id": "3c5b7849",
   "metadata": {},
   "outputs": [],
   "source": [
    "# define parameter grid for grid search\n",
    "lr = LogisticRegression(random_state=42)\n",
    "\n",
    "param_grid = {\n",
    "    'C': [100, 10, 1.0, 0.1, 0.01],\n",
    "    'penalty': ['l1', 'l2', 'elasticnet'],\n",
    "    'solver': ['newton-cg', 'lbfgs', 'liblinear', 'sag', 'saga']\n",
    "}\n",
    "\n",
    "# perform grid search\n",
    "grid = GridSearchCV(lr, param_grid=param_grid, cv=5, n_jobs=-1, scoring='precision')"
   ]
  },
  {
   "cell_type": "code",
   "execution_count": 49,
   "id": "86c34562",
   "metadata": {},
   "outputs": [
    {
     "name": "stderr",
     "output_type": "stream",
     "text": [
      "/Users/nicolelin/opt/anaconda3/lib/python3.9/site-packages/sklearn/linear_model/_sag.py:352: ConvergenceWarning: The max_iter was reached which means the coef_ did not converge\n",
      "  warnings.warn(\n",
      "/Users/nicolelin/opt/anaconda3/lib/python3.9/site-packages/sklearn/linear_model/_sag.py:352: ConvergenceWarning: The max_iter was reached which means the coef_ did not converge\n",
      "  warnings.warn(\n",
      "/Users/nicolelin/opt/anaconda3/lib/python3.9/site-packages/sklearn/linear_model/_sag.py:352: ConvergenceWarning: The max_iter was reached which means the coef_ did not converge\n",
      "  warnings.warn(\n",
      "/Users/nicolelin/opt/anaconda3/lib/python3.9/site-packages/sklearn/linear_model/_sag.py:352: ConvergenceWarning: The max_iter was reached which means the coef_ did not converge\n",
      "  warnings.warn(\n",
      "/Users/nicolelin/opt/anaconda3/lib/python3.9/site-packages/sklearn/linear_model/_sag.py:352: ConvergenceWarning: The max_iter was reached which means the coef_ did not converge\n",
      "  warnings.warn(\n",
      "/Users/nicolelin/opt/anaconda3/lib/python3.9/site-packages/sklearn/linear_model/_sag.py:352: ConvergenceWarning: The max_iter was reached which means the coef_ did not converge\n",
      "  warnings.warn(\n",
      "/Users/nicolelin/opt/anaconda3/lib/python3.9/site-packages/sklearn/linear_model/_sag.py:352: ConvergenceWarning: The max_iter was reached which means the coef_ did not converge\n",
      "  warnings.warn(\n",
      "/Users/nicolelin/opt/anaconda3/lib/python3.9/site-packages/sklearn/linear_model/_sag.py:352: ConvergenceWarning: The max_iter was reached which means the coef_ did not converge\n",
      "  warnings.warn(\n",
      "/Users/nicolelin/opt/anaconda3/lib/python3.9/site-packages/sklearn/linear_model/_sag.py:352: ConvergenceWarning: The max_iter was reached which means the coef_ did not converge\n",
      "  warnings.warn(\n",
      "/Users/nicolelin/opt/anaconda3/lib/python3.9/site-packages/sklearn/linear_model/_sag.py:352: ConvergenceWarning: The max_iter was reached which means the coef_ did not converge\n",
      "  warnings.warn(\n",
      "/Users/nicolelin/opt/anaconda3/lib/python3.9/site-packages/sklearn/linear_model/_sag.py:352: ConvergenceWarning: The max_iter was reached which means the coef_ did not converge\n",
      "  warnings.warn(\n"
     ]
    },
    {
     "name": "stdout",
     "output_type": "stream",
     "text": [
      "Best hyperparameters: {'C': 0.01, 'penalty': 'l2', 'solver': 'newton-cg'}\n",
      "              precision    recall  f1-score   support\n",
      "\n",
      "           0       0.58      0.96      0.72       143\n",
      "           1       0.82      0.22      0.34       129\n",
      "\n",
      "    accuracy                           0.61       272\n",
      "   macro avg       0.70      0.59      0.53       272\n",
      "weighted avg       0.69      0.61      0.54       272\n",
      "\n",
      "Accuracy: 0.607\n",
      "Precision: 0.824\n",
      "Recall: 0.217\n",
      "F1 Score: 0.344\n",
      "ROC AUC Score: 0.588\n",
      "AP Score: 0.550\n",
      "Confusion Matrix:\n",
      "[[137   6]\n",
      " [101  28]]\n"
     ]
    },
    {
     "name": "stderr",
     "output_type": "stream",
     "text": [
      "/Users/nicolelin/opt/anaconda3/lib/python3.9/site-packages/sklearn/linear_model/_sag.py:352: ConvergenceWarning: The max_iter was reached which means the coef_ did not converge\n",
      "  warnings.warn(\n",
      "/Users/nicolelin/opt/anaconda3/lib/python3.9/site-packages/sklearn/linear_model/_sag.py:352: ConvergenceWarning: The max_iter was reached which means the coef_ did not converge\n",
      "  warnings.warn(\n",
      "/Users/nicolelin/opt/anaconda3/lib/python3.9/site-packages/sklearn/linear_model/_sag.py:352: ConvergenceWarning: The max_iter was reached which means the coef_ did not converge\n",
      "  warnings.warn(\n",
      "/Users/nicolelin/opt/anaconda3/lib/python3.9/site-packages/sklearn/linear_model/_sag.py:352: ConvergenceWarning: The max_iter was reached which means the coef_ did not converge\n",
      "  warnings.warn(\n",
      "/Users/nicolelin/opt/anaconda3/lib/python3.9/site-packages/sklearn/linear_model/_sag.py:352: ConvergenceWarning: The max_iter was reached which means the coef_ did not converge\n",
      "  warnings.warn(\n",
      "/Users/nicolelin/opt/anaconda3/lib/python3.9/site-packages/sklearn/linear_model/_sag.py:352: ConvergenceWarning: The max_iter was reached which means the coef_ did not converge\n",
      "  warnings.warn(\n",
      "/Users/nicolelin/opt/anaconda3/lib/python3.9/site-packages/sklearn/linear_model/_sag.py:352: ConvergenceWarning: The max_iter was reached which means the coef_ did not converge\n",
      "  warnings.warn(\n",
      "/Users/nicolelin/opt/anaconda3/lib/python3.9/site-packages/sklearn/metrics/_classification.py:1318: UndefinedMetricWarning: Precision is ill-defined and being set to 0.0 due to no predicted samples. Use `zero_division` parameter to control this behavior.\n",
      "  _warn_prf(average, modifier, msg_start, len(result))\n",
      "/Users/nicolelin/opt/anaconda3/lib/python3.9/site-packages/sklearn/metrics/_classification.py:1318: UndefinedMetricWarning: Precision is ill-defined and being set to 0.0 due to no predicted samples. Use `zero_division` parameter to control this behavior.\n",
      "  _warn_prf(average, modifier, msg_start, len(result))\n",
      "/Users/nicolelin/opt/anaconda3/lib/python3.9/site-packages/sklearn/metrics/_classification.py:1318: UndefinedMetricWarning: Precision is ill-defined and being set to 0.0 due to no predicted samples. Use `zero_division` parameter to control this behavior.\n",
      "  _warn_prf(average, modifier, msg_start, len(result))\n",
      "/Users/nicolelin/opt/anaconda3/lib/python3.9/site-packages/sklearn/metrics/_classification.py:1318: UndefinedMetricWarning: Precision is ill-defined and being set to 0.0 due to no predicted samples. Use `zero_division` parameter to control this behavior.\n",
      "  _warn_prf(average, modifier, msg_start, len(result))\n",
      "/Users/nicolelin/opt/anaconda3/lib/python3.9/site-packages/sklearn/metrics/_classification.py:1318: UndefinedMetricWarning: Precision is ill-defined and being set to 0.0 due to no predicted samples. Use `zero_division` parameter to control this behavior.\n",
      "  _warn_prf(average, modifier, msg_start, len(result))\n",
      "/Users/nicolelin/opt/anaconda3/lib/python3.9/site-packages/sklearn/metrics/_classification.py:1318: UndefinedMetricWarning: Precision is ill-defined and being set to 0.0 due to no predicted samples. Use `zero_division` parameter to control this behavior.\n",
      "  _warn_prf(average, modifier, msg_start, len(result))\n",
      "/Users/nicolelin/opt/anaconda3/lib/python3.9/site-packages/sklearn/metrics/_classification.py:1318: UndefinedMetricWarning: Precision is ill-defined and being set to 0.0 due to no predicted samples. Use `zero_division` parameter to control this behavior.\n",
      "  _warn_prf(average, modifier, msg_start, len(result))\n",
      "/Users/nicolelin/opt/anaconda3/lib/python3.9/site-packages/sklearn/metrics/_classification.py:1318: UndefinedMetricWarning: Precision is ill-defined and being set to 0.0 due to no predicted samples. Use `zero_division` parameter to control this behavior.\n",
      "  _warn_prf(average, modifier, msg_start, len(result))\n",
      "/Users/nicolelin/opt/anaconda3/lib/python3.9/site-packages/sklearn/metrics/_classification.py:1318: UndefinedMetricWarning: Precision is ill-defined and being set to 0.0 due to no predicted samples. Use `zero_division` parameter to control this behavior.\n",
      "  _warn_prf(average, modifier, msg_start, len(result))\n",
      "/Users/nicolelin/opt/anaconda3/lib/python3.9/site-packages/sklearn/metrics/_classification.py:1318: UndefinedMetricWarning: Precision is ill-defined and being set to 0.0 due to no predicted samples. Use `zero_division` parameter to control this behavior.\n",
      "  _warn_prf(average, modifier, msg_start, len(result))\n"
     ]
    }
   ],
   "source": [
    "regular = grid.fit(X_train, y_train)\n",
    "\n",
    "# Print the best hyperparameters\n",
    "print(\"Best hyperparameters:\", regular.best_params_)\n",
    "lr_regular_model = regular.best_estimator_\n",
    "\n",
    "# evaluate performance on test set with oversampling\n",
    "y_pred = lr_regular_model.predict(X_test)\n",
    "print(classification_report(y_test, y_pred))\n",
    "\n",
    "accuracy = accuracy_score(y_test, y_pred)\n",
    "precision = precision_score(y_test, y_pred, zero_division=0)\n",
    "recall = recall_score(y_test, y_pred)\n",
    "f1 = f1_score(y_test, y_pred)\n",
    "roc_auc = roc_auc_score(y_test, y_pred)\n",
    "ap = average_precision_score(y_test, y_pred)\n",
    "cm = confusion_matrix(y_test, y_pred)\n",
    "\n",
    "lr_regular = [accuracy, precision, f1, roc_auc, ap]\n",
    "\n",
    "print('Accuracy: {:.3f}'.format(accuracy))\n",
    "print('Precision: {:.3f}'.format(precision))\n",
    "print('Recall: {:.3f}'.format(recall))\n",
    "print('F1 Score: {:.3f}'.format(f1))\n",
    "print('ROC AUC Score: {:.3f}'.format(roc_auc))\n",
    "print('AP Score: {:.3f}'.format(ap))\n",
    "print('Confusion Matrix:\\n{}'.format(cm))"
   ]
  },
  {
   "cell_type": "code",
   "execution_count": 50,
   "id": "198b72ec",
   "metadata": {},
   "outputs": [
    {
     "data": {
      "image/png": "[encoded data removed]",
      "text/plain": [
       "<Figure size 576x360 with 1 Axes>"
      ]
     },
     "metadata": {
      "needs_background": "light"
     },
     "output_type": "display_data"
    }
   ],
   "source": [
    "# Get the feature importances\n",
    "importances = abs(lr_regular_model.coef_[0])\n",
    "\n",
    "# Plot the feature importances\n",
    "plt.subplots(figsize=(8,5))\n",
    "plt.bar(range(X_train.shape[1]), importances)\n",
    "plt.xticks(range(X_train.shape[1]), X_train.columns, rotation=90)\n",
    "plt.xlabel(\"Feature\")\n",
    "plt.ylabel(\"Importance\")\n",
    "plt.title(\"Coefficients of the Best Logistic Regression Model\")\n",
    "plt.show()"
   ]
  },
  {
   "cell_type": "markdown",
   "id": "a23b5628",
   "metadata": {},
   "source": [
    "## Random Oversampling"
   ]
  },
  {
   "cell_type": "code",
   "execution_count": 51,
   "id": "9ee61504",
   "metadata": {},
   "outputs": [
    {
     "name": "stderr",
     "output_type": "stream",
     "text": [
      "/Users/nicolelin/opt/anaconda3/lib/python3.9/site-packages/sklearn/linear_model/_sag.py:352: ConvergenceWarning: The max_iter was reached which means the coef_ did not converge\n",
      "  warnings.warn(\n",
      "/Users/nicolelin/opt/anaconda3/lib/python3.9/site-packages/sklearn/linear_model/_sag.py:352: ConvergenceWarning: The max_iter was reached which means the coef_ did not converge\n",
      "  warnings.warn(\n",
      "/Users/nicolelin/opt/anaconda3/lib/python3.9/site-packages/sklearn/linear_model/_sag.py:352: ConvergenceWarning: The max_iter was reached which means the coef_ did not converge\n",
      "  warnings.warn(\n",
      "/Users/nicolelin/opt/anaconda3/lib/python3.9/site-packages/sklearn/linear_model/_sag.py:352: ConvergenceWarning: The max_iter was reached which means the coef_ did not converge\n",
      "  warnings.warn(\n",
      "/Users/nicolelin/opt/anaconda3/lib/python3.9/site-packages/sklearn/linear_model/_sag.py:352: ConvergenceWarning: The max_iter was reached which means the coef_ did not converge\n",
      "  warnings.warn(\n",
      "/Users/nicolelin/opt/anaconda3/lib/python3.9/site-packages/sklearn/linear_model/_sag.py:352: ConvergenceWarning: The max_iter was reached which means the coef_ did not converge\n",
      "  warnings.warn(\n",
      "/Users/nicolelin/opt/anaconda3/lib/python3.9/site-packages/sklearn/linear_model/_sag.py:352: ConvergenceWarning: The max_iter was reached which means the coef_ did not converge\n",
      "  warnings.warn(\n",
      "/Users/nicolelin/opt/anaconda3/lib/python3.9/site-packages/sklearn/linear_model/_sag.py:352: ConvergenceWarning: The max_iter was reached which means the coef_ did not converge\n",
      "  warnings.warn(\n",
      "/Users/nicolelin/opt/anaconda3/lib/python3.9/site-packages/sklearn/linear_model/_sag.py:352: ConvergenceWarning: The max_iter was reached which means the coef_ did not converge\n",
      "  warnings.warn(\n",
      "/Users/nicolelin/opt/anaconda3/lib/python3.9/site-packages/sklearn/linear_model/_sag.py:352: ConvergenceWarning: The max_iter was reached which means the coef_ did not converge\n",
      "  warnings.warn(\n",
      "/Users/nicolelin/opt/anaconda3/lib/python3.9/site-packages/sklearn/linear_model/_sag.py:352: ConvergenceWarning: The max_iter was reached which means the coef_ did not converge\n",
      "  warnings.warn(\n",
      "/Users/nicolelin/opt/anaconda3/lib/python3.9/site-packages/sklearn/linear_model/_sag.py:352: ConvergenceWarning: The max_iter was reached which means the coef_ did not converge\n",
      "  warnings.warn(\n",
      "/Users/nicolelin/opt/anaconda3/lib/python3.9/site-packages/sklearn/linear_model/_sag.py:352: ConvergenceWarning: The max_iter was reached which means the coef_ did not converge\n",
      "  warnings.warn(\n",
      "/Users/nicolelin/opt/anaconda3/lib/python3.9/site-packages/sklearn/linear_model/_sag.py:352: ConvergenceWarning: The max_iter was reached which means the coef_ did not converge\n",
      "  warnings.warn(\n",
      "/Users/nicolelin/opt/anaconda3/lib/python3.9/site-packages/sklearn/linear_model/_sag.py:352: ConvergenceWarning: The max_iter was reached which means the coef_ did not converge\n",
      "  warnings.warn(\n",
      "/Users/nicolelin/opt/anaconda3/lib/python3.9/site-packages/sklearn/linear_model/_sag.py:352: ConvergenceWarning: The max_iter was reached which means the coef_ did not converge\n",
      "  warnings.warn(\n",
      "/Users/nicolelin/opt/anaconda3/lib/python3.9/site-packages/sklearn/linear_model/_sag.py:352: ConvergenceWarning: The max_iter was reached which means the coef_ did not converge\n",
      "  warnings.warn(\n",
      "/Users/nicolelin/opt/anaconda3/lib/python3.9/site-packages/sklearn/linear_model/_sag.py:352: ConvergenceWarning: The max_iter was reached which means the coef_ did not converge\n",
      "  warnings.warn(\n",
      "/Users/nicolelin/opt/anaconda3/lib/python3.9/site-packages/sklearn/linear_model/_sag.py:352: ConvergenceWarning: The max_iter was reached which means the coef_ did not converge\n",
      "  warnings.warn(\n",
      "/Users/nicolelin/opt/anaconda3/lib/python3.9/site-packages/sklearn/linear_model/_sag.py:352: ConvergenceWarning: The max_iter was reached which means the coef_ did not converge\n",
      "  warnings.warn(\n",
      "/Users/nicolelin/opt/anaconda3/lib/python3.9/site-packages/sklearn/metrics/_classification.py:1318: UndefinedMetricWarning: Precision is ill-defined and being set to 0.0 due to no predicted samples. Use `zero_division` parameter to control this behavior.\n",
      "  _warn_prf(average, modifier, msg_start, len(result))\n",
      "/Users/nicolelin/opt/anaconda3/lib/python3.9/site-packages/sklearn/metrics/_classification.py:1318: UndefinedMetricWarning: Precision is ill-defined and being set to 0.0 due to no predicted samples. Use `zero_division` parameter to control this behavior.\n",
      "  _warn_prf(average, modifier, msg_start, len(result))\n",
      "/Users/nicolelin/opt/anaconda3/lib/python3.9/site-packages/sklearn/metrics/_classification.py:1318: UndefinedMetricWarning: Precision is ill-defined and being set to 0.0 due to no predicted samples. Use `zero_division` parameter to control this behavior.\n",
      "  _warn_prf(average, modifier, msg_start, len(result))\n",
      "/Users/nicolelin/opt/anaconda3/lib/python3.9/site-packages/sklearn/metrics/_classification.py:1318: UndefinedMetricWarning: Precision is ill-defined and being set to 0.0 due to no predicted samples. Use `zero_division` parameter to control this behavior.\n",
      "  _warn_prf(average, modifier, msg_start, len(result))\n",
      "/Users/nicolelin/opt/anaconda3/lib/python3.9/site-packages/sklearn/metrics/_classification.py:1318: UndefinedMetricWarning: Precision is ill-defined and being set to 0.0 due to no predicted samples. Use `zero_division` parameter to control this behavior.\n",
      "  _warn_prf(average, modifier, msg_start, len(result))\n",
      "/Users/nicolelin/opt/anaconda3/lib/python3.9/site-packages/sklearn/metrics/_classification.py:1318: UndefinedMetricWarning: Precision is ill-defined and being set to 0.0 due to no predicted samples. Use `zero_division` parameter to control this behavior.\n",
      "  _warn_prf(average, modifier, msg_start, len(result))\n",
      "/Users/nicolelin/opt/anaconda3/lib/python3.9/site-packages/sklearn/metrics/_classification.py:1318: UndefinedMetricWarning: Precision is ill-defined and being set to 0.0 due to no predicted samples. Use `zero_division` parameter to control this behavior.\n",
      "  _warn_prf(average, modifier, msg_start, len(result))\n",
      "/Users/nicolelin/opt/anaconda3/lib/python3.9/site-packages/sklearn/metrics/_classification.py:1318: UndefinedMetricWarning: Precision is ill-defined and being set to 0.0 due to no predicted samples. Use `zero_division` parameter to control this behavior.\n",
      "  _warn_prf(average, modifier, msg_start, len(result))\n"
     ]
    },
    {
     "name": "stdout",
     "output_type": "stream",
     "text": [
      "Best hyperparameters: {'C': 1.0, 'penalty': 'l1', 'solver': 'liblinear'}\n",
      "              precision    recall  f1-score   support\n",
      "\n",
      "           0       0.64      0.69      0.66       143\n",
      "           1       0.62      0.58      0.60       129\n",
      "\n",
      "    accuracy                           0.64       272\n",
      "   macro avg       0.63      0.63      0.63       272\n",
      "weighted avg       0.64      0.64      0.64       272\n",
      "\n",
      "Accuracy: 0.636\n",
      "Precision: 0.625\n",
      "Recall: 0.581\n",
      "F1 Score: 0.602\n",
      "ROC AUC Score: 0.633\n",
      "AP Score: 0.562\n",
      "Confusion Matrix:\n",
      "[[98 45]\n",
      " [54 75]]\n"
     ]
    },
    {
     "name": "stderr",
     "output_type": "stream",
     "text": [
      "/Users/nicolelin/opt/anaconda3/lib/python3.9/site-packages/sklearn/linear_model/_sag.py:352: ConvergenceWarning: The max_iter was reached which means the coef_ did not converge\n",
      "  warnings.warn(\n"
     ]
    }
   ],
   "source": [
    "grid.fit(X_train_oversampled, y_train_oversampled)\n",
    "\n",
    "print(\"Best hyperparameters:\", grid.best_params_)\n",
    "lr_best = grid.best_estimator_\n",
    "\n",
    "# evaluate performance on test set\n",
    "y_pred = lr_best.predict(X_test)\n",
    "print(classification_report(y_test, y_pred))\n",
    "\n",
    "accuracy = accuracy_score(y_test, y_pred)\n",
    "precision = precision_score(y_test, y_pred, zero_division=0)\n",
    "recall = recall_score(y_test, y_pred)\n",
    "f1 = f1_score(y_test, y_pred)\n",
    "roc_auc = roc_auc_score(y_test, y_pred)\n",
    "ap = average_precision_score(y_test, y_pred)\n",
    "cm = confusion_matrix(y_test, y_pred)\n",
    "\n",
    "lr_over = [accuracy, precision, f1, roc_auc, ap]\n",
    "\n",
    "print('Accuracy: {:.3f}'.format(accuracy))\n",
    "print('Precision: {:.3f}'.format(precision))\n",
    "print('Recall: {:.3f}'.format(recall))\n",
    "print('F1 Score: {:.3f}'.format(f1))\n",
    "print('ROC AUC Score: {:.3f}'.format(roc_auc))\n",
    "print('AP Score: {:.3f}'.format(ap))\n",
    "print('Confusion Matrix:\\n{}'.format(cm))"
   ]
  },
  {
   "cell_type": "markdown",
   "id": "778e88eb",
   "metadata": {},
   "source": [
    "## SMOTE"
   ]
  },
  {
   "cell_type": "code",
   "execution_count": 52,
   "id": "5feff367",
   "metadata": {},
   "outputs": [
    {
     "name": "stderr",
     "output_type": "stream",
     "text": [
      "/Users/nicolelin/opt/anaconda3/lib/python3.9/site-packages/sklearn/linear_model/_sag.py:352: ConvergenceWarning: The max_iter was reached which means the coef_ did not converge\n",
      "  warnings.warn(\n",
      "/Users/nicolelin/opt/anaconda3/lib/python3.9/site-packages/sklearn/linear_model/_sag.py:352: ConvergenceWarning: The max_iter was reached which means the coef_ did not converge\n",
      "  warnings.warn(\n",
      "/Users/nicolelin/opt/anaconda3/lib/python3.9/site-packages/sklearn/linear_model/_sag.py:352: ConvergenceWarning: The max_iter was reached which means the coef_ did not converge\n",
      "  warnings.warn(\n",
      "/Users/nicolelin/opt/anaconda3/lib/python3.9/site-packages/sklearn/linear_model/_sag.py:352: ConvergenceWarning: The max_iter was reached which means the coef_ did not converge\n",
      "  warnings.warn(\n",
      "/Users/nicolelin/opt/anaconda3/lib/python3.9/site-packages/sklearn/linear_model/_sag.py:352: ConvergenceWarning: The max_iter was reached which means the coef_ did not converge\n",
      "  warnings.warn(\n",
      "/Users/nicolelin/opt/anaconda3/lib/python3.9/site-packages/sklearn/linear_model/_logistic.py:814: ConvergenceWarning: lbfgs failed to converge (status=1):\n",
      "STOP: TOTAL NO. of ITERATIONS REACHED LIMIT.\n",
      "\n",
      "Increase the number of iterations (max_iter) or scale the data as shown in:\n",
      "    https://scikit-learn.org/stable/modules/preprocessing.html\n",
      "Please also refer to the documentation for alternative solver options:\n",
      "    https://scikit-learn.org/stable/modules/linear_model.html#logistic-regression\n",
      "  n_iter_i = _check_optimize_result(\n",
      "/Users/nicolelin/opt/anaconda3/lib/python3.9/site-packages/sklearn/linear_model/_logistic.py:814: ConvergenceWarning: lbfgs failed to converge (status=1):\n",
      "STOP: TOTAL NO. of ITERATIONS REACHED LIMIT.\n",
      "\n",
      "Increase the number of iterations (max_iter) or scale the data as shown in:\n",
      "    https://scikit-learn.org/stable/modules/preprocessing.html\n",
      "Please also refer to the documentation for alternative solver options:\n",
      "    https://scikit-learn.org/stable/modules/linear_model.html#logistic-regression\n",
      "  n_iter_i = _check_optimize_result(\n",
      "/Users/nicolelin/opt/anaconda3/lib/python3.9/site-packages/sklearn/linear_model/_logistic.py:814: ConvergenceWarning: lbfgs failed to converge (status=1):\n",
      "STOP: TOTAL NO. of ITERATIONS REACHED LIMIT.\n",
      "\n",
      "Increase the number of iterations (max_iter) or scale the data as shown in:\n",
      "    https://scikit-learn.org/stable/modules/preprocessing.html\n",
      "Please also refer to the documentation for alternative solver options:\n",
      "    https://scikit-learn.org/stable/modules/linear_model.html#logistic-regression\n",
      "  n_iter_i = _check_optimize_result(\n",
      "/Users/nicolelin/opt/anaconda3/lib/python3.9/site-packages/sklearn/linear_model/_logistic.py:814: ConvergenceWarning: lbfgs failed to converge (status=1):\n",
      "STOP: TOTAL NO. of ITERATIONS REACHED LIMIT.\n",
      "\n",
      "Increase the number of iterations (max_iter) or scale the data as shown in:\n",
      "    https://scikit-learn.org/stable/modules/preprocessing.html\n",
      "Please also refer to the documentation for alternative solver options:\n",
      "    https://scikit-learn.org/stable/modules/linear_model.html#logistic-regression\n",
      "  n_iter_i = _check_optimize_result(\n",
      "/Users/nicolelin/opt/anaconda3/lib/python3.9/site-packages/sklearn/linear_model/_logistic.py:814: ConvergenceWarning: lbfgs failed to converge (status=1):\n",
      "STOP: TOTAL NO. of ITERATIONS REACHED LIMIT.\n",
      "\n",
      "Increase the number of iterations (max_iter) or scale the data as shown in:\n",
      "    https://scikit-learn.org/stable/modules/preprocessing.html\n",
      "Please also refer to the documentation for alternative solver options:\n",
      "    https://scikit-learn.org/stable/modules/linear_model.html#logistic-regression\n",
      "  n_iter_i = _check_optimize_result(\n",
      "/Users/nicolelin/opt/anaconda3/lib/python3.9/site-packages/sklearn/linear_model/_sag.py:352: ConvergenceWarning: The max_iter was reached which means the coef_ did not converge\n",
      "  warnings.warn(\n",
      "/Users/nicolelin/opt/anaconda3/lib/python3.9/site-packages/sklearn/linear_model/_sag.py:352: ConvergenceWarning: The max_iter was reached which means the coef_ did not converge\n",
      "  warnings.warn(\n",
      "/Users/nicolelin/opt/anaconda3/lib/python3.9/site-packages/sklearn/linear_model/_sag.py:352: ConvergenceWarning: The max_iter was reached which means the coef_ did not converge\n",
      "  warnings.warn(\n",
      "/Users/nicolelin/opt/anaconda3/lib/python3.9/site-packages/sklearn/svm/_base.py:1206: ConvergenceWarning: Liblinear failed to converge, increase the number of iterations.\n",
      "  warnings.warn(\n",
      "/Users/nicolelin/opt/anaconda3/lib/python3.9/site-packages/sklearn/linear_model/_sag.py:352: ConvergenceWarning: The max_iter was reached which means the coef_ did not converge\n",
      "  warnings.warn(\n",
      "/Users/nicolelin/opt/anaconda3/lib/python3.9/site-packages/sklearn/linear_model/_sag.py:352: ConvergenceWarning: The max_iter was reached which means the coef_ did not converge\n",
      "  warnings.warn(\n",
      "/Users/nicolelin/opt/anaconda3/lib/python3.9/site-packages/sklearn/linear_model/_sag.py:352: ConvergenceWarning: The max_iter was reached which means the coef_ did not converge\n",
      "  warnings.warn(\n",
      "/Users/nicolelin/opt/anaconda3/lib/python3.9/site-packages/sklearn/linear_model/_sag.py:352: ConvergenceWarning: The max_iter was reached which means the coef_ did not converge\n",
      "  warnings.warn(\n",
      "/Users/nicolelin/opt/anaconda3/lib/python3.9/site-packages/sklearn/linear_model/_sag.py:352: ConvergenceWarning: The max_iter was reached which means the coef_ did not converge\n",
      "  warnings.warn(\n",
      "/Users/nicolelin/opt/anaconda3/lib/python3.9/site-packages/sklearn/svm/_base.py:1206: ConvergenceWarning: Liblinear failed to converge, increase the number of iterations.\n",
      "  warnings.warn(\n",
      "/Users/nicolelin/opt/anaconda3/lib/python3.9/site-packages/sklearn/linear_model/_sag.py:352: ConvergenceWarning: The max_iter was reached which means the coef_ did not converge\n",
      "  warnings.warn(\n",
      "/Users/nicolelin/opt/anaconda3/lib/python3.9/site-packages/sklearn/linear_model/_sag.py:352: ConvergenceWarning: The max_iter was reached which means the coef_ did not converge\n",
      "  warnings.warn(\n",
      "/Users/nicolelin/opt/anaconda3/lib/python3.9/site-packages/sklearn/linear_model/_sag.py:352: ConvergenceWarning: The max_iter was reached which means the coef_ did not converge\n",
      "  warnings.warn(\n",
      "/Users/nicolelin/opt/anaconda3/lib/python3.9/site-packages/sklearn/linear_model/_sag.py:352: ConvergenceWarning: The max_iter was reached which means the coef_ did not converge\n",
      "  warnings.warn(\n",
      "/Users/nicolelin/opt/anaconda3/lib/python3.9/site-packages/sklearn/linear_model/_logistic.py:814: ConvergenceWarning: lbfgs failed to converge (status=1):\n",
      "STOP: TOTAL NO. of ITERATIONS REACHED LIMIT.\n",
      "\n",
      "Increase the number of iterations (max_iter) or scale the data as shown in:\n",
      "    https://scikit-learn.org/stable/modules/preprocessing.html\n",
      "Please also refer to the documentation for alternative solver options:\n",
      "    https://scikit-learn.org/stable/modules/linear_model.html#logistic-regression\n",
      "  n_iter_i = _check_optimize_result(\n",
      "/Users/nicolelin/opt/anaconda3/lib/python3.9/site-packages/sklearn/linear_model/_sag.py:352: ConvergenceWarning: The max_iter was reached which means the coef_ did not converge\n",
      "  warnings.warn(\n",
      "/Users/nicolelin/opt/anaconda3/lib/python3.9/site-packages/sklearn/linear_model/_logistic.py:814: ConvergenceWarning: lbfgs failed to converge (status=1):\n",
      "STOP: TOTAL NO. of ITERATIONS REACHED LIMIT.\n",
      "\n",
      "Increase the number of iterations (max_iter) or scale the data as shown in:\n",
      "    https://scikit-learn.org/stable/modules/preprocessing.html\n",
      "Please also refer to the documentation for alternative solver options:\n",
      "    https://scikit-learn.org/stable/modules/linear_model.html#logistic-regression\n",
      "  n_iter_i = _check_optimize_result(\n",
      "/Users/nicolelin/opt/anaconda3/lib/python3.9/site-packages/sklearn/linear_model/_logistic.py:814: ConvergenceWarning: lbfgs failed to converge (status=1):\n",
      "STOP: TOTAL NO. of ITERATIONS REACHED LIMIT.\n",
      "\n",
      "Increase the number of iterations (max_iter) or scale the data as shown in:\n",
      "    https://scikit-learn.org/stable/modules/preprocessing.html\n",
      "Please also refer to the documentation for alternative solver options:\n",
      "    https://scikit-learn.org/stable/modules/linear_model.html#logistic-regression\n",
      "  n_iter_i = _check_optimize_result(\n",
      "/Users/nicolelin/opt/anaconda3/lib/python3.9/site-packages/sklearn/linear_model/_logistic.py:814: ConvergenceWarning: lbfgs failed to converge (status=1):\n",
      "STOP: TOTAL NO. of ITERATIONS REACHED LIMIT.\n",
      "\n",
      "Increase the number of iterations (max_iter) or scale the data as shown in:\n",
      "    https://scikit-learn.org/stable/modules/preprocessing.html\n",
      "Please also refer to the documentation for alternative solver options:\n",
      "    https://scikit-learn.org/stable/modules/linear_model.html#logistic-regression\n",
      "  n_iter_i = _check_optimize_result(\n"
     ]
    },
    {
     "name": "stderr",
     "output_type": "stream",
     "text": [
      "/Users/nicolelin/opt/anaconda3/lib/python3.9/site-packages/sklearn/linear_model/_sag.py:352: ConvergenceWarning: The max_iter was reached which means the coef_ did not converge\n",
      "  warnings.warn(\n",
      "/Users/nicolelin/opt/anaconda3/lib/python3.9/site-packages/sklearn/linear_model/_logistic.py:814: ConvergenceWarning: lbfgs failed to converge (status=1):\n",
      "STOP: TOTAL NO. of ITERATIONS REACHED LIMIT.\n",
      "\n",
      "Increase the number of iterations (max_iter) or scale the data as shown in:\n",
      "    https://scikit-learn.org/stable/modules/preprocessing.html\n",
      "Please also refer to the documentation for alternative solver options:\n",
      "    https://scikit-learn.org/stable/modules/linear_model.html#logistic-regression\n",
      "  n_iter_i = _check_optimize_result(\n",
      "/Users/nicolelin/opt/anaconda3/lib/python3.9/site-packages/sklearn/linear_model/_sag.py:352: ConvergenceWarning: The max_iter was reached which means the coef_ did not converge\n",
      "  warnings.warn(\n",
      "/Users/nicolelin/opt/anaconda3/lib/python3.9/site-packages/sklearn/linear_model/_sag.py:352: ConvergenceWarning: The max_iter was reached which means the coef_ did not converge\n",
      "  warnings.warn(\n",
      "/Users/nicolelin/opt/anaconda3/lib/python3.9/site-packages/sklearn/linear_model/_sag.py:352: ConvergenceWarning: The max_iter was reached which means the coef_ did not converge\n",
      "  warnings.warn(\n",
      "/Users/nicolelin/opt/anaconda3/lib/python3.9/site-packages/sklearn/linear_model/_sag.py:352: ConvergenceWarning: The max_iter was reached which means the coef_ did not converge\n",
      "  warnings.warn(\n",
      "/Users/nicolelin/opt/anaconda3/lib/python3.9/site-packages/sklearn/linear_model/_sag.py:352: ConvergenceWarning: The max_iter was reached which means the coef_ did not converge\n",
      "  warnings.warn(\n",
      "/Users/nicolelin/opt/anaconda3/lib/python3.9/site-packages/sklearn/linear_model/_sag.py:352: ConvergenceWarning: The max_iter was reached which means the coef_ did not converge\n",
      "  warnings.warn(\n",
      "/Users/nicolelin/opt/anaconda3/lib/python3.9/site-packages/sklearn/linear_model/_sag.py:352: ConvergenceWarning: The max_iter was reached which means the coef_ did not converge\n",
      "  warnings.warn(\n",
      "/Users/nicolelin/opt/anaconda3/lib/python3.9/site-packages/sklearn/linear_model/_sag.py:352: ConvergenceWarning: The max_iter was reached which means the coef_ did not converge\n",
      "  warnings.warn(\n",
      "/Users/nicolelin/opt/anaconda3/lib/python3.9/site-packages/sklearn/svm/_base.py:1206: ConvergenceWarning: Liblinear failed to converge, increase the number of iterations.\n",
      "  warnings.warn(\n",
      "/Users/nicolelin/opt/anaconda3/lib/python3.9/site-packages/sklearn/linear_model/_sag.py:352: ConvergenceWarning: The max_iter was reached which means the coef_ did not converge\n",
      "  warnings.warn(\n",
      "/Users/nicolelin/opt/anaconda3/lib/python3.9/site-packages/sklearn/linear_model/_sag.py:352: ConvergenceWarning: The max_iter was reached which means the coef_ did not converge\n",
      "  warnings.warn(\n",
      "/Users/nicolelin/opt/anaconda3/lib/python3.9/site-packages/sklearn/linear_model/_sag.py:352: ConvergenceWarning: The max_iter was reached which means the coef_ did not converge\n",
      "  warnings.warn(\n",
      "/Users/nicolelin/opt/anaconda3/lib/python3.9/site-packages/sklearn/linear_model/_sag.py:352: ConvergenceWarning: The max_iter was reached which means the coef_ did not converge\n",
      "  warnings.warn(\n",
      "/Users/nicolelin/opt/anaconda3/lib/python3.9/site-packages/sklearn/linear_model/_sag.py:352: ConvergenceWarning: The max_iter was reached which means the coef_ did not converge\n",
      "  warnings.warn(\n",
      "/Users/nicolelin/opt/anaconda3/lib/python3.9/site-packages/sklearn/linear_model/_sag.py:352: ConvergenceWarning: The max_iter was reached which means the coef_ did not converge\n",
      "  warnings.warn(\n",
      "/Users/nicolelin/opt/anaconda3/lib/python3.9/site-packages/sklearn/linear_model/_sag.py:352: ConvergenceWarning: The max_iter was reached which means the coef_ did not converge\n",
      "  warnings.warn(\n",
      "/Users/nicolelin/opt/anaconda3/lib/python3.9/site-packages/sklearn/svm/_base.py:1206: ConvergenceWarning: Liblinear failed to converge, increase the number of iterations.\n",
      "  warnings.warn(\n",
      "/Users/nicolelin/opt/anaconda3/lib/python3.9/site-packages/sklearn/linear_model/_sag.py:352: ConvergenceWarning: The max_iter was reached which means the coef_ did not converge\n",
      "  warnings.warn(\n",
      "/Users/nicolelin/opt/anaconda3/lib/python3.9/site-packages/sklearn/linear_model/_sag.py:352: ConvergenceWarning: The max_iter was reached which means the coef_ did not converge\n",
      "  warnings.warn(\n",
      "/Users/nicolelin/opt/anaconda3/lib/python3.9/site-packages/sklearn/metrics/_classification.py:1318: UndefinedMetricWarning: Precision is ill-defined and being set to 0.0 due to no predicted samples. Use `zero_division` parameter to control this behavior.\n",
      "  _warn_prf(average, modifier, msg_start, len(result))\n",
      "/Users/nicolelin/opt/anaconda3/lib/python3.9/site-packages/sklearn/metrics/_classification.py:1318: UndefinedMetricWarning: Precision is ill-defined and being set to 0.0 due to no predicted samples. Use `zero_division` parameter to control this behavior.\n",
      "  _warn_prf(average, modifier, msg_start, len(result))\n",
      "/Users/nicolelin/opt/anaconda3/lib/python3.9/site-packages/sklearn/metrics/_classification.py:1318: UndefinedMetricWarning: Precision is ill-defined and being set to 0.0 due to no predicted samples. Use `zero_division` parameter to control this behavior.\n",
      "  _warn_prf(average, modifier, msg_start, len(result))\n",
      "/Users/nicolelin/opt/anaconda3/lib/python3.9/site-packages/sklearn/metrics/_classification.py:1318: UndefinedMetricWarning: Precision is ill-defined and being set to 0.0 due to no predicted samples. Use `zero_division` parameter to control this behavior.\n",
      "  _warn_prf(average, modifier, msg_start, len(result))\n",
      "/Users/nicolelin/opt/anaconda3/lib/python3.9/site-packages/sklearn/metrics/_classification.py:1318: UndefinedMetricWarning: Precision is ill-defined and being set to 0.0 due to no predicted samples. Use `zero_division` parameter to control this behavior.\n",
      "  _warn_prf(average, modifier, msg_start, len(result))\n",
      "/Users/nicolelin/opt/anaconda3/lib/python3.9/site-packages/sklearn/metrics/_classification.py:1318: UndefinedMetricWarning: Precision is ill-defined and being set to 0.0 due to no predicted samples. Use `zero_division` parameter to control this behavior.\n",
      "  _warn_prf(average, modifier, msg_start, len(result))\n",
      "/Users/nicolelin/opt/anaconda3/lib/python3.9/site-packages/sklearn/metrics/_classification.py:1318: UndefinedMetricWarning: Precision is ill-defined and being set to 0.0 due to no predicted samples. Use `zero_division` parameter to control this behavior.\n",
      "  _warn_prf(average, modifier, msg_start, len(result))\n",
      "/Users/nicolelin/opt/anaconda3/lib/python3.9/site-packages/sklearn/linear_model/_sag.py:352: ConvergenceWarning: The max_iter was reached which means the coef_ did not converge\n",
      "  warnings.warn(\n",
      "/Users/nicolelin/opt/anaconda3/lib/python3.9/site-packages/sklearn/metrics/_classification.py:1318: UndefinedMetricWarning: Precision is ill-defined and being set to 0.0 due to no predicted samples. Use `zero_division` parameter to control this behavior.\n",
      "  _warn_prf(average, modifier, msg_start, len(result))\n",
      "/Users/nicolelin/opt/anaconda3/lib/python3.9/site-packages/sklearn/metrics/_classification.py:1318: UndefinedMetricWarning: Precision is ill-defined and being set to 0.0 due to no predicted samples. Use `zero_division` parameter to control this behavior.\n",
      "  _warn_prf(average, modifier, msg_start, len(result))\n",
      "/Users/nicolelin/opt/anaconda3/lib/python3.9/site-packages/sklearn/linear_model/_sag.py:352: ConvergenceWarning: The max_iter was reached which means the coef_ did not converge\n",
      "  warnings.warn(\n",
      "/Users/nicolelin/opt/anaconda3/lib/python3.9/site-packages/sklearn/linear_model/_sag.py:352: ConvergenceWarning: The max_iter was reached which means the coef_ did not converge\n",
      "  warnings.warn(\n"
     ]
    },
    {
     "name": "stdout",
     "output_type": "stream",
     "text": [
      "Best hyperparameters: {'C': 100, 'penalty': 'l1', 'solver': 'liblinear'}\n",
      "              precision    recall  f1-score   support\n",
      "\n",
      "           0       0.66      0.71      0.69       143\n",
      "           1       0.65      0.60      0.62       129\n",
      "\n",
      "    accuracy                           0.66       272\n",
      "   macro avg       0.66      0.66      0.66       272\n",
      "weighted avg       0.66      0.66      0.66       272\n",
      "\n",
      "Accuracy: 0.658\n",
      "Precision: 0.653\n",
      "Recall: 0.597\n",
      "F1 Score: 0.623\n",
      "ROC AUC Score: 0.655\n",
      "AP Score: 0.581\n",
      "Confusion Matrix:\n",
      "[[102  41]\n",
      " [ 52  77]]\n"
     ]
    }
   ],
   "source": [
    "grid.fit(X_train_smote, y_train_smote)\n",
    "\n",
    "print(\"Best hyperparameters:\", grid.best_params_)\n",
    "lr_best = grid.best_estimator_\n",
    "\n",
    "# evaluate performance on test set\n",
    "y_pred = lr_best.predict(X_test)\n",
    "print(classification_report(y_test, y_pred))\n",
    "\n",
    "accuracy = accuracy_score(y_test, y_pred)\n",
    "precision = precision_score(y_test, y_pred)\n",
    "recall = recall_score(y_test, y_pred)\n",
    "f1 = f1_score(y_test, y_pred)\n",
    "roc_auc = roc_auc_score(y_test, y_pred)\n",
    "ap = average_precision_score(y_test, y_pred)\n",
    "cm = confusion_matrix(y_test, y_pred)\n",
    "\n",
    "lr_smote = [accuracy, precision, f1, roc_auc, ap]\n",
    "\n",
    "print('Accuracy: {:.3f}'.format(accuracy))\n",
    "print('Precision: {:.3f}'.format(precision))\n",
    "print('Recall: {:.3f}'.format(recall))\n",
    "print('F1 Score: {:.3f}'.format(f1))\n",
    "print('ROC AUC Score: {:.3f}'.format(roc_auc))\n",
    "print('AP Score: {:.3f}'.format(ap))\n",
    "print('Confusion Matrix:\\n{}'.format(cm))"
   ]
  },
  {
   "cell_type": "markdown",
   "id": "93882314",
   "metadata": {},
   "source": [
    "## Balanced Weights"
   ]
  },
  {
   "cell_type": "code",
   "execution_count": 53,
   "id": "43e46b75",
   "metadata": {},
   "outputs": [
    {
     "name": "stderr",
     "output_type": "stream",
     "text": [
      "/Users/nicolelin/opt/anaconda3/lib/python3.9/site-packages/sklearn/linear_model/_sag.py:352: ConvergenceWarning: The max_iter was reached which means the coef_ did not converge\n",
      "  warnings.warn(\n",
      "/Users/nicolelin/opt/anaconda3/lib/python3.9/site-packages/sklearn/linear_model/_sag.py:352: ConvergenceWarning: The max_iter was reached which means the coef_ did not converge\n",
      "  warnings.warn(\n",
      "/Users/nicolelin/opt/anaconda3/lib/python3.9/site-packages/sklearn/linear_model/_sag.py:352: ConvergenceWarning: The max_iter was reached which means the coef_ did not converge\n",
      "  warnings.warn(\n",
      "/Users/nicolelin/opt/anaconda3/lib/python3.9/site-packages/sklearn/linear_model/_sag.py:352: ConvergenceWarning: The max_iter was reached which means the coef_ did not converge\n",
      "  warnings.warn(\n",
      "/Users/nicolelin/opt/anaconda3/lib/python3.9/site-packages/sklearn/linear_model/_sag.py:352: ConvergenceWarning: The max_iter was reached which means the coef_ did not converge\n",
      "  warnings.warn(\n",
      "/Users/nicolelin/opt/anaconda3/lib/python3.9/site-packages/sklearn/linear_model/_sag.py:352: ConvergenceWarning: The max_iter was reached which means the coef_ did not converge\n",
      "  warnings.warn(\n",
      "/Users/nicolelin/opt/anaconda3/lib/python3.9/site-packages/sklearn/linear_model/_sag.py:352: ConvergenceWarning: The max_iter was reached which means the coef_ did not converge\n",
      "  warnings.warn(\n",
      "/Users/nicolelin/opt/anaconda3/lib/python3.9/site-packages/sklearn/linear_model/_sag.py:352: ConvergenceWarning: The max_iter was reached which means the coef_ did not converge\n",
      "  warnings.warn(\n",
      "/Users/nicolelin/opt/anaconda3/lib/python3.9/site-packages/sklearn/linear_model/_sag.py:352: ConvergenceWarning: The max_iter was reached which means the coef_ did not converge\n",
      "  warnings.warn(\n",
      "/Users/nicolelin/opt/anaconda3/lib/python3.9/site-packages/sklearn/linear_model/_sag.py:352: ConvergenceWarning: The max_iter was reached which means the coef_ did not converge\n",
      "  warnings.warn(\n",
      "/Users/nicolelin/opt/anaconda3/lib/python3.9/site-packages/sklearn/linear_model/_sag.py:352: ConvergenceWarning: The max_iter was reached which means the coef_ did not converge\n",
      "  warnings.warn(\n",
      "/Users/nicolelin/opt/anaconda3/lib/python3.9/site-packages/sklearn/linear_model/_sag.py:352: ConvergenceWarning: The max_iter was reached which means the coef_ did not converge\n",
      "  warnings.warn(\n",
      "/Users/nicolelin/opt/anaconda3/lib/python3.9/site-packages/sklearn/linear_model/_sag.py:352: ConvergenceWarning: The max_iter was reached which means the coef_ did not converge\n",
      "  warnings.warn(\n",
      "/Users/nicolelin/opt/anaconda3/lib/python3.9/site-packages/sklearn/linear_model/_sag.py:352: ConvergenceWarning: The max_iter was reached which means the coef_ did not converge\n",
      "  warnings.warn(\n",
      "/Users/nicolelin/opt/anaconda3/lib/python3.9/site-packages/sklearn/linear_model/_sag.py:352: ConvergenceWarning: The max_iter was reached which means the coef_ did not converge\n",
      "  warnings.warn(\n",
      "/Users/nicolelin/opt/anaconda3/lib/python3.9/site-packages/sklearn/linear_model/_sag.py:352: ConvergenceWarning: The max_iter was reached which means the coef_ did not converge\n",
      "  warnings.warn(\n",
      "/Users/nicolelin/opt/anaconda3/lib/python3.9/site-packages/sklearn/linear_model/_sag.py:352: ConvergenceWarning: The max_iter was reached which means the coef_ did not converge\n",
      "  warnings.warn(\n",
      "/Users/nicolelin/opt/anaconda3/lib/python3.9/site-packages/sklearn/linear_model/_logistic.py:814: ConvergenceWarning: lbfgs failed to converge (status=1):\n",
      "STOP: TOTAL NO. of ITERATIONS REACHED LIMIT.\n",
      "\n",
      "Increase the number of iterations (max_iter) or scale the data as shown in:\n",
      "    https://scikit-learn.org/stable/modules/preprocessing.html\n",
      "Please also refer to the documentation for alternative solver options:\n",
      "    https://scikit-learn.org/stable/modules/linear_model.html#logistic-regression\n",
      "  n_iter_i = _check_optimize_result(\n",
      "/Users/nicolelin/opt/anaconda3/lib/python3.9/site-packages/sklearn/linear_model/_sag.py:352: ConvergenceWarning: The max_iter was reached which means the coef_ did not converge\n",
      "  warnings.warn(\n",
      "/Users/nicolelin/opt/anaconda3/lib/python3.9/site-packages/sklearn/linear_model/_sag.py:352: ConvergenceWarning: The max_iter was reached which means the coef_ did not converge\n",
      "  warnings.warn(\n",
      "/Users/nicolelin/opt/anaconda3/lib/python3.9/site-packages/sklearn/linear_model/_sag.py:352: ConvergenceWarning: The max_iter was reached which means the coef_ did not converge\n",
      "  warnings.warn(\n",
      "/Users/nicolelin/opt/anaconda3/lib/python3.9/site-packages/sklearn/linear_model/_sag.py:352: ConvergenceWarning: The max_iter was reached which means the coef_ did not converge\n",
      "  warnings.warn(\n",
      "/Users/nicolelin/opt/anaconda3/lib/python3.9/site-packages/sklearn/linear_model/_sag.py:352: ConvergenceWarning: The max_iter was reached which means the coef_ did not converge\n",
      "  warnings.warn(\n",
      "/Users/nicolelin/opt/anaconda3/lib/python3.9/site-packages/sklearn/linear_model/_sag.py:352: ConvergenceWarning: The max_iter was reached which means the coef_ did not converge\n",
      "  warnings.warn(\n",
      "/Users/nicolelin/opt/anaconda3/lib/python3.9/site-packages/sklearn/metrics/_classification.py:1318: UndefinedMetricWarning: Precision is ill-defined and being set to 0.0 due to no predicted samples. Use `zero_division` parameter to control this behavior.\n",
      "  _warn_prf(average, modifier, msg_start, len(result))\n",
      "/Users/nicolelin/opt/anaconda3/lib/python3.9/site-packages/sklearn/metrics/_classification.py:1318: UndefinedMetricWarning: Precision is ill-defined and being set to 0.0 due to no predicted samples. Use `zero_division` parameter to control this behavior.\n",
      "  _warn_prf(average, modifier, msg_start, len(result))\n",
      "/Users/nicolelin/opt/anaconda3/lib/python3.9/site-packages/sklearn/metrics/_classification.py:1318: UndefinedMetricWarning: Precision is ill-defined and being set to 0.0 due to no predicted samples. Use `zero_division` parameter to control this behavior.\n",
      "  _warn_prf(average, modifier, msg_start, len(result))\n"
     ]
    },
    {
     "name": "stdout",
     "output_type": "stream",
     "text": [
      "Best hyperparameters: {'C': 10, 'penalty': 'l1', 'solver': 'liblinear'}\n",
      "              precision    recall  f1-score   support\n",
      "\n",
      "           0       0.66      0.68      0.67       143\n",
      "           1       0.63      0.60      0.62       129\n",
      "\n",
      "    accuracy                           0.64       272\n",
      "   macro avg       0.64      0.64      0.64       272\n",
      "weighted avg       0.64      0.64      0.64       272\n",
      "\n",
      "Accuracy: 0.643\n",
      "Precision: 0.629\n",
      "Recall: 0.605\n",
      "F1 Score: 0.617\n",
      "ROC AUC Score: 0.641\n",
      "AP Score: 0.568\n",
      "Confusion Matrix:\n",
      "[[97 46]\n",
      " [51 78]]\n"
     ]
    },
    {
     "name": "stderr",
     "output_type": "stream",
     "text": [
      "/Users/nicolelin/opt/anaconda3/lib/python3.9/site-packages/sklearn/metrics/_classification.py:1318: UndefinedMetricWarning: Precision is ill-defined and being set to 0.0 due to no predicted samples. Use `zero_division` parameter to control this behavior.\n",
      "  _warn_prf(average, modifier, msg_start, len(result))\n",
      "/Users/nicolelin/opt/anaconda3/lib/python3.9/site-packages/sklearn/metrics/_classification.py:1318: UndefinedMetricWarning: Precision is ill-defined and being set to 0.0 due to no predicted samples. Use `zero_division` parameter to control this behavior.\n",
      "  _warn_prf(average, modifier, msg_start, len(result))\n",
      "/Users/nicolelin/opt/anaconda3/lib/python3.9/site-packages/sklearn/metrics/_classification.py:1318: UndefinedMetricWarning: Precision is ill-defined and being set to 0.0 due to no predicted samples. Use `zero_division` parameter to control this behavior.\n",
      "  _warn_prf(average, modifier, msg_start, len(result))\n",
      "/Users/nicolelin/opt/anaconda3/lib/python3.9/site-packages/sklearn/metrics/_classification.py:1318: UndefinedMetricWarning: Precision is ill-defined and being set to 0.0 due to no predicted samples. Use `zero_division` parameter to control this behavior.\n",
      "  _warn_prf(average, modifier, msg_start, len(result))\n",
      "/Users/nicolelin/opt/anaconda3/lib/python3.9/site-packages/sklearn/metrics/_classification.py:1318: UndefinedMetricWarning: Precision is ill-defined and being set to 0.0 due to no predicted samples. Use `zero_division` parameter to control this behavior.\n",
      "  _warn_prf(average, modifier, msg_start, len(result))\n",
      "/Users/nicolelin/opt/anaconda3/lib/python3.9/site-packages/sklearn/metrics/_classification.py:1318: UndefinedMetricWarning: Precision is ill-defined and being set to 0.0 due to no predicted samples. Use `zero_division` parameter to control this behavior.\n",
      "  _warn_prf(average, modifier, msg_start, len(result))\n",
      "/Users/nicolelin/opt/anaconda3/lib/python3.9/site-packages/sklearn/metrics/_classification.py:1318: UndefinedMetricWarning: Precision is ill-defined and being set to 0.0 due to no predicted samples. Use `zero_division` parameter to control this behavior.\n",
      "  _warn_prf(average, modifier, msg_start, len(result))\n",
      "/Users/nicolelin/opt/anaconda3/lib/python3.9/site-packages/sklearn/linear_model/_sag.py:352: ConvergenceWarning: The max_iter was reached which means the coef_ did not converge\n",
      "  warnings.warn(\n"
     ]
    }
   ],
   "source": [
    "lr = LogisticRegression(class_weight='balanced', random_state=42)\n",
    "# define parameter grid for grid search\n",
    "param_grid = {\n",
    "    'C': [100, 10, 1.0, 0.1, 0.01],\n",
    "    'penalty': ['l1', 'l2', 'elasticnet'],\n",
    "    'solver': ['newton-cg', 'lbfgs', 'liblinear', 'sag', 'saga']\n",
    "}\n",
    "\n",
    "# perform grid search\n",
    "grid = GridSearchCV(lr, param_grid=param_grid, cv=5, n_jobs=-1, scoring='precision')\n",
    "grid.fit(X_train, y_train)\n",
    "\n",
    "print(\"Best hyperparameters:\", grid.best_params_)\n",
    "lr_best = grid.best_estimator_\n",
    "\n",
    "# evaluate performance on test set\n",
    "y_pred = lr_best.predict(X_test)\n",
    "print(classification_report(y_test, y_pred))\n",
    "\n",
    "accuracy = accuracy_score(y_test, y_pred)\n",
    "precision = precision_score(y_test, y_pred)\n",
    "recall = recall_score(y_test, y_pred)\n",
    "f1 = f1_score(y_test, y_pred)\n",
    "roc_auc = roc_auc_score(y_test, y_pred)\n",
    "ap = average_precision_score(y_test, y_pred)\n",
    "cm = confusion_matrix(y_test, y_pred)\n",
    "\n",
    "lr_balance = [accuracy, precision, f1, roc_auc, ap]\n",
    "\n",
    "print('Accuracy: {:.3f}'.format(accuracy))\n",
    "print('Precision: {:.3f}'.format(precision))\n",
    "print('Recall: {:.3f}'.format(recall))\n",
    "print('F1 Score: {:.3f}'.format(f1))\n",
    "print('ROC AUC Score: {:.3f}'.format(roc_auc))\n",
    "print('AP Score: {:.3f}'.format(ap))\n",
    "print('Confusion Matrix:\\n{}'.format(cm))"
   ]
  },
  {
   "cell_type": "markdown",
   "id": "4a42ae05",
   "metadata": {},
   "source": [
    "# XGBoost"
   ]
  },
  {
   "cell_type": "code",
   "execution_count": 54,
   "id": "2533067d",
   "metadata": {},
   "outputs": [],
   "source": [
    "# XGBoost cannot have < in feature names, therefore replace with 'less_than_' in train and test data\n",
    "\n",
    "# create a dictionary to map old column names to new column names\n",
    "new_column_names = {}\n",
    "for col in X_train.columns:\n",
    "    new_col = col.replace('<', 'less_than_')\n",
    "    new_column_names[col] = new_col\n",
    "\n",
    "# rename the columns using the dictionary\n",
    "X_train_renamed = X_train.rename(columns=new_column_names)\n",
    "X_train_oversampled_renamed = X_train_oversampled.rename(columns=new_column_names)\n",
    "X_train_smote_renamed = X_train_smote.rename(columns=new_column_names)\n",
    "X_test_renamed = X_test.rename(columns=new_column_names)"
   ]
  },
  {
   "cell_type": "code",
   "execution_count": 55,
   "id": "1f6495d5",
   "metadata": {},
   "outputs": [],
   "source": [
    "# Define the XGBoost classifier\n",
    "xgb = XGBClassifier(random_state=42)\n",
    "\n",
    "# Define the grid of hyperparameters to search over\n",
    "param_grid = {\n",
    "    'max_depth': [2, 3, 5, 7],\n",
    "    'learning_rate': [0.01, 0.1, 0.2],\n",
    "    'n_estimators': [50, 100, 200, 300]\n",
    "}\n",
    "\n",
    "# perform grid search\n",
    "grid = GridSearchCV(xgb, param_grid=param_grid, cv=5, n_jobs=-1, scoring='precision')"
   ]
  },
  {
   "cell_type": "code",
   "execution_count": 56,
   "id": "52b94962",
   "metadata": {},
   "outputs": [
    {
     "name": "stdout",
     "output_type": "stream",
     "text": [
      "Best hyperparameters: {'learning_rate': 0.01, 'max_depth': 2, 'n_estimators': 50}\n",
      "              precision    recall  f1-score   support\n",
      "\n",
      "           0       0.55      0.97      0.71       143\n",
      "           1       0.81      0.13      0.23       129\n",
      "\n",
      "    accuracy                           0.57       272\n",
      "   macro avg       0.68      0.55      0.47       272\n",
      "weighted avg       0.68      0.57      0.48       272\n",
      "\n",
      "Accuracy: 0.574\n",
      "Precision: 0.810\n",
      "Recall: 0.132\n",
      "F1 Score: 0.227\n",
      "ROC AUC Score: 0.552\n",
      "AP Score: 0.518\n",
      "Confusion Matrix:\n",
      "[[139   4]\n",
      " [112  17]]\n"
     ]
    }
   ],
   "source": [
    "regular = grid.fit(X_train_renamed, y_train)\n",
    "\n",
    "# Print the best hyperparameters\n",
    "print(\"Best hyperparameters:\", regular.best_params_)\n",
    "xgb_regular_model = regular.best_estimator_\n",
    "\n",
    "# evaluate performance on test set with oversampling\n",
    "y_pred = xgb_regular_model.predict(X_test_renamed)\n",
    "print(classification_report(y_test, y_pred))\n",
    "\n",
    "accuracy = accuracy_score(y_test, y_pred)\n",
    "precision = precision_score(y_test, y_pred)\n",
    "recall = recall_score(y_test, y_pred)\n",
    "f1 = f1_score(y_test, y_pred)\n",
    "roc_auc = roc_auc_score(y_test, y_pred)\n",
    "ap = average_precision_score(y_test, y_pred)\n",
    "cm = confusion_matrix(y_test, y_pred)\n",
    "\n",
    "xgb_regular = [accuracy, precision, f1, roc_auc, ap]\n",
    "\n",
    "print('Accuracy: {:.3f}'.format(accuracy))\n",
    "print('Precision: {:.3f}'.format(precision))\n",
    "print('Recall: {:.3f}'.format(recall))\n",
    "print('F1 Score: {:.3f}'.format(f1))\n",
    "print('ROC AUC Score: {:.3f}'.format(roc_auc))\n",
    "print('AP Score: {:.3f}'.format(ap))\n",
    "print('Confusion Matrix:\\n{}'.format(cm))"
   ]
  },
  {
   "cell_type": "markdown",
   "id": "e272a78f",
   "metadata": {},
   "source": [
    "## Random Oversampling"
   ]
  },
  {
   "cell_type": "code",
   "execution_count": 57,
   "id": "b877eac9",
   "metadata": {},
   "outputs": [
    {
     "name": "stdout",
     "output_type": "stream",
     "text": [
      "Best hyperparameters: {'learning_rate': 0.01, 'max_depth': 2, 'n_estimators': 50}\n",
      "              precision    recall  f1-score   support\n",
      "\n",
      "           0       0.57      0.90      0.70       143\n",
      "           1       0.68      0.23      0.35       129\n",
      "\n",
      "    accuracy                           0.58       272\n",
      "   macro avg       0.62      0.57      0.52       272\n",
      "weighted avg       0.62      0.58      0.53       272\n",
      "\n",
      "Accuracy: 0.585\n",
      "Precision: 0.682\n",
      "Recall: 0.233\n",
      "F1 Score: 0.347\n",
      "ROC AUC Score: 0.567\n",
      "AP Score: 0.523\n",
      "Confusion Matrix:\n",
      "[[129  14]\n",
      " [ 99  30]]\n"
     ]
    }
   ],
   "source": [
    "ro = grid.fit(X_train_oversampled_renamed, y_train_oversampled)\n",
    "\n",
    "print(\"Best hyperparameters:\", grid.best_params_)\n",
    "xgb_best = ro.best_estimator_\n",
    "\n",
    "# evaluate performance on test set\n",
    "y_pred = xgb_best.predict(X_test_renamed)\n",
    "print(classification_report(y_test, y_pred))\n",
    "\n",
    "accuracy = accuracy_score(y_test, y_pred)\n",
    "precision = precision_score(y_test, y_pred)\n",
    "recall = recall_score(y_test, y_pred)\n",
    "f1 = f1_score(y_test, y_pred)\n",
    "roc_auc = roc_auc_score(y_test, y_pred)\n",
    "ap = average_precision_score(y_test, y_pred)\n",
    "cm = confusion_matrix(y_test, y_pred)\n",
    "\n",
    "xgb_over = [accuracy, precision, f1, roc_auc, ap]\n",
    "\n",
    "print('Accuracy: {:.3f}'.format(accuracy))\n",
    "print('Precision: {:.3f}'.format(precision))\n",
    "print('Recall: {:.3f}'.format(recall))\n",
    "print('F1 Score: {:.3f}'.format(f1))\n",
    "print('ROC AUC Score: {:.3f}'.format(roc_auc))\n",
    "print('AP Score: {:.3f}'.format(ap))\n",
    "print('Confusion Matrix:\\n{}'.format(cm))"
   ]
  },
  {
   "cell_type": "markdown",
   "id": "5c2ca7c9",
   "metadata": {},
   "source": [
    "## SMOTE"
   ]
  },
  {
   "cell_type": "code",
   "execution_count": 58,
   "id": "dc152df8",
   "metadata": {},
   "outputs": [
    {
     "name": "stdout",
     "output_type": "stream",
     "text": [
      "Best hyperparameters: {'learning_rate': 0.01, 'max_depth': 2, 'n_estimators': 50}\n",
      "              precision    recall  f1-score   support\n",
      "\n",
      "           0       0.56      0.92      0.70       143\n",
      "           1       0.70      0.20      0.31       129\n",
      "\n",
      "    accuracy                           0.58       272\n",
      "   macro avg       0.63      0.56      0.51       272\n",
      "weighted avg       0.63      0.58      0.52       272\n",
      "\n",
      "Accuracy: 0.581\n",
      "Precision: 0.703\n",
      "Recall: 0.202\n",
      "F1 Score: 0.313\n",
      "ROC AUC Score: 0.562\n",
      "AP Score: 0.520\n",
      "Confusion Matrix:\n",
      "[[132  11]\n",
      " [103  26]]\n"
     ]
    }
   ],
   "source": [
    "smote = grid.fit(X_train_smote_renamed, y_train_smote)\n",
    "\n",
    "print(\"Best hyperparameters:\", grid.best_params_)\n",
    "xgb_best = smote.best_estimator_\n",
    "\n",
    "# evaluate performance on test set\n",
    "y_pred = xgb_best.predict(X_test_renamed)\n",
    "print(classification_report(y_test, y_pred))\n",
    "\n",
    "accuracy = accuracy_score(y_test, y_pred)\n",
    "precision = precision_score(y_test, y_pred)\n",
    "recall = recall_score(y_test, y_pred)\n",
    "f1 = f1_score(y_test, y_pred)\n",
    "roc_auc = roc_auc_score(y_test, y_pred)\n",
    "ap = average_precision_score(y_test, y_pred)\n",
    "cm = confusion_matrix(y_test, y_pred)\n",
    "\n",
    "xgb_smote = [accuracy, precision, f1, roc_auc, ap]\n",
    "\n",
    "print('Accuracy: {:.3f}'.format(accuracy))\n",
    "print('Precision: {:.3f}'.format(precision))\n",
    "print('Recall: {:.3f}'.format(recall))\n",
    "print('F1 Score: {:.3f}'.format(f1))\n",
    "print('ROC AUC Score: {:.3f}'.format(roc_auc))\n",
    "print('AP Score: {:.3f}'.format(ap))\n",
    "print('Confusion Matrix:\\n{}'.format(cm))"
   ]
  },
  {
   "cell_type": "markdown",
   "id": "fbf7f121",
   "metadata": {},
   "source": [
    "## Balanced"
   ]
  },
  {
   "cell_type": "code",
   "execution_count": 59,
   "id": "9b673420",
   "metadata": {},
   "outputs": [
    {
     "name": "stdout",
     "output_type": "stream",
     "text": [
      "Best hyperparameters: {'learning_rate': 0.001, 'max_depth': 1, 'n_estimators': 50}\n",
      "              precision    recall  f1-score   support\n",
      "\n",
      "           0       0.55      0.99      0.71       143\n",
      "           1       0.93      0.11      0.19       129\n",
      "\n",
      "    accuracy                           0.57       272\n",
      "   macro avg       0.74      0.55      0.45       272\n",
      "weighted avg       0.73      0.57      0.47       272\n",
      "\n",
      "Accuracy: 0.574\n",
      "Precision: 0.933\n",
      "Recall: 0.109\n",
      "F1 Score: 0.194\n",
      "ROC AUC Score: 0.551\n",
      "AP Score: 0.524\n",
      "Confusion Matrix:\n",
      "[[142   1]\n",
      " [115  14]]\n"
     ]
    }
   ],
   "source": [
    "# Define the XGBoost classifier\n",
    "pos_samples = sum(y_train == 1)\n",
    "neg_samples = sum(y_train == 0)\n",
    "# calculate the scale_pos_weight parameter\n",
    "scale_pos_weight = neg_samples / pos_samples\n",
    "\n",
    "xgb = XGBClassifier(scale_pos_weight=scale_pos_weight, random_state=42)\n",
    "\n",
    "# Define the grid of hyperparameters to search over\n",
    "param_grid = {\n",
    "    'max_depth': [1, 3, 5, 7],\n",
    "    'learning_rate': [0.001, 0.01, 0.1, 0.2],\n",
    "    'n_estimators': [50, 100, 200, 300]\n",
    "}\n",
    "\n",
    "# perform grid search\n",
    "grid = GridSearchCV(xgb, param_grid=param_grid, cv=5, n_jobs=-1, scoring='precision')\n",
    "grid.fit(X_train_renamed, y_train)\n",
    "\n",
    "print(\"Best hyperparameters:\", grid.best_params_)\n",
    "xgb_best = grid.best_estimator_\n",
    "\n",
    "# evaluate performance on test set\n",
    "y_pred = xgb_best.predict(X_test_renamed)\n",
    "print(classification_report(y_test, y_pred))\n",
    "\n",
    "accuracy = accuracy_score(y_test, y_pred)\n",
    "precision = precision_score(y_test, y_pred)\n",
    "recall = recall_score(y_test, y_pred)\n",
    "f1 = f1_score(y_test, y_pred)\n",
    "roc_auc = roc_auc_score(y_test, y_pred)\n",
    "ap = average_precision_score(y_test, y_pred)\n",
    "cm = confusion_matrix(y_test, y_pred)\n",
    "\n",
    "xgb_balance = [accuracy, precision, f1, roc_auc, ap]\n",
    "\n",
    "print('Accuracy: {:.3f}'.format(accuracy))\n",
    "print('Precision: {:.3f}'.format(precision))\n",
    "print('Recall: {:.3f}'.format(recall))\n",
    "print('F1 Score: {:.3f}'.format(f1))\n",
    "print('ROC AUC Score: {:.3f}'.format(roc_auc))\n",
    "print('AP Score: {:.3f}'.format(ap))\n",
    "print('Confusion Matrix:\\n{}'.format(cm))"
   ]
  },
  {
   "cell_type": "markdown",
   "id": "66d7f91b",
   "metadata": {},
   "source": [
    "# EDA -----------------------------------------------------------------------------------"
   ]
  },
  {
   "cell_type": "markdown",
   "id": "05eefb8b",
   "metadata": {},
   "source": [
    "# Results"
   ]
  },
  {
   "cell_type": "markdown",
   "id": "260768e5",
   "metadata": {},
   "source": [
    "We obeserve that the feature with the highest importance is sedentary minutes. When plotting out its distribution across both classes \"good sleep\" and \"poor sleep,\" we see that there are no distinct distributions meaning that though sedentary minutes is important in determining sleep quality, one cannot say that sedentary minutes is a cause for either \"good sleep\" or \"poor sleep\""
   ]
  },
  {
   "cell_type": "code",
   "execution_count": 60,
   "id": "41b7f40d",
   "metadata": {},
   "outputs": [
    {
     "data": {
      "text/plain": [
       "<AxesSubplot:xlabel='sedentary_minutes', ylabel='Count'>"
      ]
     },
     "execution_count": 60,
     "metadata": {},
     "output_type": "execute_result"
    },
    {
     "data": {
      "image/png": "[encoded data removed]",
      "text/plain": [
       "<Figure size 432x288 with 1 Axes>"
      ]
     },
     "metadata": {
      "needs_background": "light"
     },
     "output_type": "display_data"
    }
   ],
   "source": [
    "# Create histograms for the feature values for the positive and negative classes\n",
    "sns.histplot(data=features_df, x='sedentary_minutes', hue='sleep_score', bins=30, kde=True)"
   ]
  },
  {
   "cell_type": "markdown",
   "id": "769fc4a8",
   "metadata": {},
   "source": [
    "## Sampling-specific"
   ]
  },
  {
   "cell_type": "markdown",
   "id": "fd3bb4b0",
   "metadata": {},
   "source": [
    "### No Sampling"
   ]
  },
  {
   "cell_type": "code",
   "execution_count": 61,
   "id": "babf7caf",
   "metadata": {},
   "outputs": [
    {
     "data": {
      "image/png": "[encoded data removed]",
      "text/plain": [
       "<Figure size 1440x504 with 1 Axes>"
      ]
     },
     "metadata": {
      "needs_background": "light"
     },
     "output_type": "display_data"
    }
   ],
   "source": [
    "x = np.array([4,8,12,16,20])\n",
    "width = 0.4\n",
    "\n",
    "f, ax = plt.subplots(figsize=(20,7))\n",
    "\n",
    "# plot data in grouped manner of bar type\n",
    "plt.bar(x-width*3/2, knn_regular, width, label=\"KNN\")\n",
    "plt.bar(x-width/2, dt_regular, width, label=\"Decision Tree\")\n",
    "plt.bar(x+width/2, rf_regular, width, label=\"Random Forest\")\n",
    "plt.bar(x+width*3/2, svm_regular, width, label=\"SVM\")\n",
    "plt.bar(x+width*5/2, lr_regular, width, label=\"Logistic Regression\")\n",
    "plt.bar(x+width*7/2, xgb_regular, width, label=\"XGBoost\")\n",
    "plt.title(\"Evaluation Metrics Over Models with no Sampling\")\n",
    "plt.xticks(x, ['Accuracy', 'Precision', 'F1', 'ROC AUC', 'Average Precision'])\n",
    "plt.xlabel(\"Metric\")\n",
    "plt.ylabel(\"Score\")\n",
    "plt.legend()\n",
    "plt.show()"
   ]
  },
  {
   "cell_type": "markdown",
   "id": "4f33189c",
   "metadata": {},
   "source": [
    "### Oversample"
   ]
  },
  {
   "cell_type": "code",
   "execution_count": 62,
   "id": "ce494c6c",
   "metadata": {},
   "outputs": [
    {
     "data": {
      "image/png": "[encoded data removed]",
      "text/plain": [
       "<Figure size 1440x504 with 1 Axes>"
      ]
     },
     "metadata": {
      "needs_background": "light"
     },
     "output_type": "display_data"
    }
   ],
   "source": [
    "x = np.array([3,6,9,12,15])\n",
    "width=0.4\n",
    "\n",
    "f, ax = plt.subplots(figsize=(20,7))\n",
    "  \n",
    "# plot data in grouped manner of bar type\n",
    "plt.bar(x-width*3/2, knn_over, width, label=\"KNN\")\n",
    "plt.bar(x-width/2, dt_over, width, label=\"Decision Tree\")\n",
    "plt.bar(x+width/2, rf_over, width, label=\"Random Forest\")\n",
    "plt.bar(x+width*3/2, svm_over, width, label=\"SVM\")\n",
    "plt.bar(x+width*5/2, lr_over, width, label=\"Logistic Regression\")\n",
    "plt.bar(x+width*7/2, xgb_over, width, label=\"XGBoost\")\n",
    "plt.title(\"Evaluation Metrics Over Models using Random Oversampling\")\n",
    "plt.xticks(x, ['Accuracy', 'Precision', 'F1', 'ROC AUC', 'Average Precision'])\n",
    "plt.xlabel(\"Metric\")\n",
    "plt.ylabel(\"Score\")\n",
    "plt.legend()\n",
    "plt.show()"
   ]
  },
  {
   "cell_type": "markdown",
   "id": "9fab31e9",
   "metadata": {},
   "source": [
    "### SMOTE"
   ]
  },
  {
   "cell_type": "code",
   "execution_count": 63,
   "id": "57f8e28d",
   "metadata": {},
   "outputs": [
    {
     "data": {
      "image/png": "[encoded data removed]",
      "text/plain": [
       "<Figure size 1440x504 with 1 Axes>"
      ]
     },
     "metadata": {
      "needs_background": "light"
     },
     "output_type": "display_data"
    }
   ],
   "source": [
    "x = np.array([3,6,9,12,15])\n",
    "width=0.4\n",
    "\n",
    "f, ax = plt.subplots(figsize=(20,7))\n",
    "  \n",
    "# plot data in grouped manner of bar type\n",
    "plt.bar(x-width*3/2, knn_smote, width, label=\"KNN\")\n",
    "plt.bar(x-width/2, dt_smote, width, label=\"Decision Tree\")\n",
    "plt.bar(x+width/2, rf_smote, width, label=\"Random Forest\")\n",
    "plt.bar(x+width*3/2, svm_smote, width, label=\"SVM\")\n",
    "plt.bar(x+width*5/2, lr_smote, width, label=\"Logistic Regression\")\n",
    "plt.bar(x+width*7/2, xgb_smote, width, label=\"XGBoost\")\n",
    "plt.xticks(x, ['Accuracy', 'Precision', 'F1', 'ROC AUC', 'Average Precision'])\n",
    "plt.title(\"Evaluation Metrics Over Models using SMOTE\")\n",
    "plt.xlabel(\"Metric\")\n",
    "plt.ylabel(\"Score\")\n",
    "plt.legend()\n",
    "plt.show()"
   ]
  },
  {
   "cell_type": "markdown",
   "id": "8ee27d59",
   "metadata": {},
   "source": [
    "### Balanced"
   ]
  },
  {
   "cell_type": "code",
   "execution_count": 64,
   "id": "dc7e224d",
   "metadata": {},
   "outputs": [
    {
     "data": {
      "image/png": "[encoded data removed]",
      "text/plain": [
       "<Figure size 1440x504 with 1 Axes>"
      ]
     },
     "metadata": {
      "needs_background": "light"
     },
     "output_type": "display_data"
    }
   ],
   "source": [
    "x = np.array([3,6,9,12,15])\n",
    "width=0.4\n",
    "\n",
    "f, ax = plt.subplots(figsize=(20,7))\n",
    "  \n",
    "# plot data in grouped manner of bar type\n",
    "plt.bar(x-width*3/2, knn_balance, width, label=\"KNN\")\n",
    "plt.bar(x-width/2, dt_balance, width, label=\"Decision Tree\")\n",
    "plt.bar(x+width/2, rf_balance, width, label=\"Random Forest\")\n",
    "plt.bar(x+width*3/2, svm_balance, width, label=\"SVM\")\n",
    "plt.bar(x+width*5/2, lr_balance, width, label=\"Logistic Regression\")\n",
    "plt.bar(x+width*7/2, xgb_balance, width, label=\"XGBoost\")\n",
    "plt.title(\"Evaluation Metrics Over Models using Balanced Weights\")\n",
    "plt.xticks(x, ['Accuracy', 'Precision', 'F1', 'ROC AUC', 'Average Precision'])\n",
    "plt.xlabel(\"Metric\")\n",
    "plt.ylabel(\"Score\")\n",
    "plt.legend()\n",
    "plt.show()"
   ]
  },
  {
   "cell_type": "markdown",
   "id": "1a2c652c",
   "metadata": {},
   "source": [
    "## Some Selected Model-specific Plots (KNN, Random Forest, SVM, Logistic, XGBoost)"
   ]
  },
  {
   "cell_type": "markdown",
   "id": "826d1c39",
   "metadata": {},
   "source": [
    "### KNN"
   ]
  },
  {
   "cell_type": "code",
   "execution_count": 65,
   "id": "11f22819",
   "metadata": {},
   "outputs": [
    {
     "data": {
      "image/png": "[encoded data removed]",
      "text/plain": [
       "<Figure size 1440x504 with 1 Axes>"
      ]
     },
     "metadata": {
      "needs_background": "light"
     },
     "output_type": "display_data"
    }
   ],
   "source": [
    "x = np.array([3,6,9,12,15])\n",
    "width=0.4\n",
    "\n",
    "f, ax = plt.subplots(figsize=(20,7))\n",
    "  \n",
    "# plot data in grouped manner of bar type\n",
    "plt.bar(x-0.6, knn_regular, width)\n",
    "plt.bar(x-0.2, knn_over, width)\n",
    "plt.bar(x+0.2, knn_smote, width)\n",
    "plt.bar(x+0.6, knn_balance, width)\n",
    "plt.title(\"Evaluation Metrics of Various Sampling Methods of KNN Model\")\n",
    "plt.xticks(x, ['Accuracy', 'Precision', 'F1', 'ROC AUC', 'Average Precision'])\n",
    "plt.xlabel(\"Metric\")\n",
    "plt.ylabel(\"Score\")\n",
    "plt.legend([\"No Sampling\", \"Oversampling\", \"SMOTE\", \"Balanced Weights\"])\n",
    "plt.show()"
   ]
  },
  {
   "cell_type": "markdown",
   "id": "b65aea56",
   "metadata": {},
   "source": [
    "### Random Forest"
   ]
  },
  {
   "cell_type": "code",
   "execution_count": 66,
   "id": "253c201a",
   "metadata": {},
   "outputs": [
    {
     "data": {
      "image/png": "[encoded data removed]",
      "text/plain": [
       "<Figure size 1440x504 with 1 Axes>"
      ]
     },
     "metadata": {
      "needs_background": "light"
     },
     "output_type": "display_data"
    }
   ],
   "source": [
    "x = np.array([3,6,9,12,15])\n",
    "width=0.4\n",
    "\n",
    "f, ax = plt.subplots(figsize=(20,7))\n",
    "  \n",
    "# plot data in grouped manner of bar type\n",
    "plt.bar(x-0.6, rf_regular, width)\n",
    "plt.bar(x-0.2, rf_over, width)\n",
    "plt.bar(x+0.2, rf_smote, width)\n",
    "plt.bar(x+0.6, rf_balance, width)\n",
    "plt.title(\"Evaluation Metrics of Various Sampling Methods of Random Forest Model\")\n",
    "plt.xticks(x, ['Accuracy', 'Precision', 'F1', 'ROC AUC', 'Average Precision'])\n",
    "plt.xlabel(\"Metric\")\n",
    "plt.ylabel(\"Score\")\n",
    "plt.legend([\"No Sampling\", \"Oversampling\", \"SMOTE\", \"Balanced Weights\"])\n",
    "plt.show()"
   ]
  },
  {
   "cell_type": "markdown",
   "id": "596670dc",
   "metadata": {},
   "source": [
    "### SVM"
   ]
  },
  {
   "cell_type": "code",
   "execution_count": 67,
   "id": "261c8823",
   "metadata": {},
   "outputs": [
    {
     "data": {
      "image/png": "[encoded data removed]",
      "text/plain": [
       "<Figure size 1440x504 with 1 Axes>"
      ]
     },
     "metadata": {
      "needs_background": "light"
     },
     "output_type": "display_data"
    }
   ],
   "source": [
    "x = np.array([3,6,9,12,15])\n",
    "width=0.4\n",
    "\n",
    "f, ax = plt.subplots(figsize=(20,7))\n",
    "  \n",
    "# plot data in grouped manner of bar type\n",
    "plt.bar(x-0.6, svm_regular, width)\n",
    "plt.bar(x-0.2, svm_over, width)\n",
    "plt.bar(x+0.2, svm_smote, width)\n",
    "plt.bar(x+0.6, svm_balance, width)\n",
    "plt.title(\"Evaluation Metrics of Various Sampling Methods of SVM Model\")\n",
    "plt.xticks(x, ['Accuracy', 'Precision', 'F1', 'ROC AUC', 'Average Precision'])\n",
    "plt.xlabel(\"Metric\")\n",
    "plt.ylabel(\"Score\")\n",
    "plt.legend([\"No Sampling\", \"Oversampling\", \"SMOTE\", \"Balanced Weights\"])\n",
    "plt.show()"
   ]
  },
  {
   "cell_type": "markdown",
   "id": "8c465c08",
   "metadata": {},
   "source": [
    "### Logistic"
   ]
  },
  {
   "cell_type": "code",
   "execution_count": 68,
   "id": "59c2509a",
   "metadata": {},
   "outputs": [
    {
     "data": {
      "image/png": "[encoded data removed]",
      "text/plain": [
       "<Figure size 1440x504 with 1 Axes>"
      ]
     },
     "metadata": {
      "needs_background": "light"
     },
     "output_type": "display_data"
    }
   ],
   "source": [
    "x = np.array([3,6,9,12,15])\n",
    "width=0.4\n",
    "\n",
    "f, ax = plt.subplots(figsize=(20,7))\n",
    "  \n",
    "# plot data in grouped manner of bar type\n",
    "plt.bar(x-0.6, lr_regular, width)\n",
    "plt.bar(x-0.2, lr_over, width)\n",
    "plt.bar(x+0.2, lr_smote, width)\n",
    "plt.bar(x+0.6, lr_balance, width)\n",
    "plt.title(\"Evaluation Metrics of Various Sampling Methods of Logistic Regression Model\")\n",
    "plt.xticks(x, ['Accuracy', 'Precision', 'F1', 'ROC AUC', 'Average Precision'])\n",
    "plt.xlabel(\"Metric\")\n",
    "plt.ylabel(\"Score\")\n",
    "plt.legend([\"No Sampling\", \"Oversampling\", \"SMOTE\", \"Balanced Weights\"])\n",
    "plt.show()"
   ]
  },
  {
   "cell_type": "code",
   "execution_count": 69,
   "id": "c160a7ec",
   "metadata": {},
   "outputs": [
    {
     "data": {
      "image/png": "[encoded data removed]",
      "text/plain": [
       "<Figure size 1440x504 with 1 Axes>"
      ]
     },
     "metadata": {
      "needs_background": "light"
     },
     "output_type": "display_data"
    }
   ],
   "source": [
    "x = np.array([3,6,9,12,15])\n",
    "width=0.4\n",
    "\n",
    "f, ax = plt.subplots(figsize=(20,7))\n",
    "  \n",
    "# plot data in grouped manner of bar type\n",
    "plt.bar(x-0.6, xgb_regular, width)\n",
    "plt.bar(x-0.2, xgb_over, width)\n",
    "plt.bar(x+0.2, xgb_smote, width)\n",
    "plt.bar(x+0.6, xgb_balance, width)\n",
    "plt.title(\"Evaluation Metrics of Various Sampling Methods of XGBoost Model\")\n",
    "plt.xticks(x, ['Accuracy', 'Precision', 'F1', 'ROC AUC', 'Average Precision'])\n",
    "plt.xlabel(\"Metric\")\n",
    "plt.ylabel(\"Score\")\n",
    "plt.legend([\"No Sampling\", \"Oversampling\", \"SMOTE\", \"Balanced Weights\"])\n",
    "plt.show()"
   ]
  },
  {
   "cell_type": "markdown",
   "id": "4e9cacd4",
   "metadata": {},
   "source": [
    "# Best Models (maximize precision)"
   ]
  },
  {
   "cell_type": "code",
   "execution_count": 70,
   "id": "62cf7a80",
   "metadata": {},
   "outputs": [
    {
     "data": {
      "image/png": "[encoded data removed]",
      "text/plain": [
       "<Figure size 720x360 with 1 Axes>"
      ]
     },
     "metadata": {
      "needs_background": "light"
     },
     "output_type": "display_data"
    }
   ],
   "source": [
    "models = ['KNN, balanced', 'Decision Tree, oversampling', 'Random Forest, none', 'SVM, none', 'Logictic Regression, none', 'XGBoost, balanced']\n",
    "precision = [knn_balance[1], dt_over[1], rf_regular[1], svm_regular[1], lr_regular[1], xgb_balance[1]]\n",
    "  \n",
    "fig = plt.figure(figsize = (10, 5))\n",
    " \n",
    "# creating the bar plot\n",
    "plt.bar(models, precision)\n",
    " \n",
    "plt.xlabel(\"Models, Sampling Method\")\n",
    "plt.ylabel(\"Precision\")\n",
    "plt.title(\"Precision Over Various Models and Sampling Methods\")\n",
    "plt.xticks(rotation=90)  # rotate x-axis labels by 90 degrees\n",
    "\n",
    "# adding text labels on top of the bars\n",
    "for i, v in enumerate(precision):\n",
    "    plt.text(i, v+0.01, str(round(v, 3)), ha='center')\n",
    "    \n",
    "plt.show()"
   ]
  }
 ],
 "metadata": {
  "kernelspec": {
   "display_name": "Python 3 (ipykernel)",
   "language": "python",
   "name": "python3"
  },
  "language_info": {
   "codemirror_mode": {
    "name": "ipython",
    "version": 3
   },
   "file_extension": ".py",
   "mimetype": "text/x-python",
   "name": "python",
   "nbconvert_exporter": "python",
   "pygments_lexer": "ipython3",
   "version": "3.9.12"
  }
 },
 "nbformat": 4,
 "nbformat_minor": 5
}
